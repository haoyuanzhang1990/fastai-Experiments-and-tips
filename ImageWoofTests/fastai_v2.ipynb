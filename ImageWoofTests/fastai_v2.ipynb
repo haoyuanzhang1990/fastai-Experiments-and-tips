{
  "nbformat": 4,
  "nbformat_minor": 0,
  "metadata": {
    "colab": {
      "name": "fastai_v2.ipynb",
      "provenance": []
    },
    "kernelspec": {
      "name": "python3",
      "display_name": "Python 3"
    },
    "accelerator": "GPU"
  },
  "cells": [
    {
      "cell_type": "code",
      "metadata": {
        "id": "Ps_ooJV1j46k",
        "colab_type": "code",
        "colab": {}
      },
      "source": [
        "!pip install torch torchvision feather-format kornia pyarrow Pillow wandb --upgrade \n",
        "!pip install git+https://github.com/fastai/fastprogress  --upgrade\n",
        "!pip install git+https://github.com/fastai/fastai_dev --upgrade"
      ],
      "execution_count": 0,
      "outputs": []
    },
    {
      "cell_type": "code",
      "metadata": {
        "id": "fnCCmDrJlIs7",
        "colab_type": "code",
        "colab": {}
      },
      "source": [
        "from fastai2.basics import *\n",
        "from fastai2.vision.all import *\n",
        "from fastai2.callback.all import *\n",
        "from fastai2.basics import defaults\n",
        "\n",
        "src = untar_data(URLs.IMAGEWOOF)\n",
        "items = get_image_files(src)\n",
        "split_idx = GrandparentSplitter(valid_name='val')(items)\n",
        "\n",
        "lbl_dict = dict(\n",
        "  n02086240= 'Shih-Tzu',\n",
        "  n02087394= 'Rhodesian ridgeback',\n",
        "  n02088364= 'Beagle',\n",
        "  n02089973= 'English foxhound',\n",
        "  n02093754= 'Australian terrier',\n",
        "  n02096294= 'Border terrier',\n",
        "  n02099601= 'Golden retriever',\n",
        "  n02105641= 'Old English sheepdog',\n",
        "  n02111889= 'Samoyed',\n",
        "  n02115641= 'Dingo'\n",
        ")\n",
        "\n",
        "n_gpus = num_distrib() or 1\n",
        "nw = min(8, num_cpus()//n_gpus)\n",
        "\n",
        "split_idx = GrandparentSplitter(valid_name='val')(items)\n",
        "tfms = [[PILImage.create], [parent_label, lbl_dict.__getitem__, Categorize()]]\n",
        "\n",
        "dsrc = DataSource(items, tfms, splits=split_idx)\n",
        "\n",
        "batch_tfms = [Cuda(), IntToFloatTensor(), Normalize(*imagenet_stats)]\n",
        "\n",
        "dbch = dsrc.databunch(after_item=[ToTensor(),RandomResizedCropC(128, min_scale=0.35), FlipItem()], \n",
        "                      after_batch=batch_tfms, \n",
        "                      bs=64, num_workers=nw)"
      ],
      "execution_count": 0,
      "outputs": []
    },
    {
      "cell_type": "code",
      "metadata": {
        "id": "oukmIJN9osyM",
        "colab_type": "code",
        "colab": {}
      },
      "source": [
        "class RandomResizedCropC(CropPad):\n",
        "    \"Picks a random scaled crop of an image and resize it to `size`\"\n",
        "    def __init__(self, size, min_scale=0.08, ratio=(3/4, 4/3), resamples=(Image.BILINEAR, Image.NEAREST), val_xtra_size=32, **kwargs):\n",
        "        super().__init__(size, **kwargs)\n",
        "        store_attr(self, 'min_scale,ratio,val_xtra_size')\n",
        "        self.mode,self.mode_mask = resamples\n",
        "\n",
        "    def before_call(self, b, split_idx):\n",
        "        super().before_call(b, split_idx)\n",
        "        if split_idx:\n",
        "            self.final_size = (self.size[0]+self.val_xtra_size, self.size[1]+self.val_xtra_size)\n",
        "            self.tl,self.cp_size = (0,0),self.orig_sz\n",
        "            return\n",
        "        self.final_size = self.size\n",
        "        w,h = self.orig_sz\n",
        "        for attempt in range(10):\n",
        "            area = random.uniform(self.min_scale,1.) * w * h\n",
        "            ratio = math.exp(random.uniform(math.log(self.ratio[0]), math.log(self.ratio[1])))\n",
        "            nw = int(round(math.sqrt(area * ratio)))\n",
        "            nh = int(round(math.sqrt(area / ratio)))\n",
        "            if nw <= w and nh <= h:\n",
        "                self.cp_size = (nw,nh)\n",
        "                self.tl = random.randint(0,w-nw), random.randint(0,h - nh)\n",
        "                return\n",
        "        if   w/h < self.ratio[0]: self.cp_size = (w, int(w/self.ratio[0]))\n",
        "        elif w/h > self.ratio[1]: self.cp_size = (int(h*self.ratio[1]), h)\n",
        "        else:                     self.cp_size = (w, h)\n",
        "        self.tl = ((w-self.cp_size[0])//2, (h-self.cp_size[1])//2)\n",
        "\n",
        "    def encodes(self, x:(Image.Image,TensorBBox,TensorPoint)):\n",
        "        res = x.crop_pad(self.cp_size, self.tl, orig_sz=self.orig_sz, pad_mode=self.pad_mode,\n",
        "            resize_mode=self.mode_mask if isinstance(x,PILMask) else self.mode, resize_to=self.final_size)\n",
        "        if self.final_size != self.size: res = res.crop_pad(self.size) #Validation set: one final center crop\n",
        "        return res"
      ],
      "execution_count": 0,
      "outputs": []
    },
    {
      "cell_type": "code",
      "metadata": {
        "id": "6PMbS2WH3SXY",
        "colab_type": "code",
        "colab": {}
      },
      "source": [
        "class myXResNet(nn.Sequential):\n",
        "    def __init__(self, expansion, layers, c_in=3, c_out=1000, sa=False, sym=False, act_cls=defaults.activation):\n",
        "        stem = []\n",
        "        sizes = [c_in,16,32,64] if c_in<3 else [c_in,32,32,64]\n",
        "        for i in range(3):\n",
        "            stem.append(ConvLayer(sizes[i], sizes[i+1], stride=2 if i==0 else 1, act_cls=act_cls))\n",
        "\n",
        "        block_szs = [64//expansion,64,128,256,512] +[256]*(len(layers)-4)\n",
        "        blocks = [self._make_layer(expansion, block_szs[i], block_szs[i+1], l, 1 if i==0 else 2,\n",
        "                                  sa = sa if i == (len(layers)-4) else False, sym=sym, act_cls=act_cls)\n",
        "                  for i,l in enumerate(layers)]\n",
        "        super().__init__(\n",
        "            *stem,\n",
        "            nn.MaxPool2d(kernel_size=3, stride=2, padding=1),\n",
        "            *blocks,\n",
        "            nn.AdaptiveAvgPool2d(1), Flatten(),\n",
        "            nn.Linear(block_szs[-1]*expansion, c_out),\n",
        "        )\n",
        "        init_cnn(self)\n",
        "\n",
        "    def _make_layer(self, expansion, ni, nf, blocks, stride, sa, sym, act_cls):\n",
        "        return nn.Sequential(\n",
        "            *[ResBlock(expansion, ni if i==0 else nf, nf, stride if i==0 else 1,\n",
        "                      sa if i == (blocks-1) else False, sym=sym, act_cls=act_cls)\n",
        "              for i in range(blocks)])\n",
        "        \n",
        "def _myxresnet(pretrained, expansion, layers, **kwargs):\n",
        "    # TODO pretrain all sizes. Currently will fail with non-xrn50\n",
        "    url = 'https://s3.amazonaws.com/fast-ai-modelzoo/xrn50_940.pth'\n",
        "    res = myXResNet(expansion, layers, **kwargs)\n",
        "    if pretrained: res.load_state_dict(load_state_dict_from_url(url, map_location='cpu')['model'], strict=False)\n",
        "    return res\n",
        "\n",
        "def myxresnet50 (pretrained=False, **kwargs): return _myxresnet(pretrained, 4, [3, 4,  6, 3], **kwargs)"
      ],
      "execution_count": 0,
      "outputs": []
    },
    {
      "cell_type": "code",
      "metadata": {
        "id": "LKoWsIB03cEp",
        "colab_type": "code",
        "colab": {}
      },
      "source": [
        "def opt_func(ps, lr=defaults.lr): return Lookahead(RAdam(ps, wd=1e-2,mom=0.95, eps=1e-6,lr=lr))\n",
        "learn = Learner(dbch, myxresnet50(sa=True, c_out=10, act_cls=MishJit), opt_func=opt_func, loss_func=LabelSmoothingCrossEntropy(),\n",
        "                metrics=accuracy)"
      ],
      "execution_count": 0,
      "outputs": []
    },
    {
      "cell_type": "code",
      "metadata": {
        "id": "12L15KqevrFY",
        "colab_type": "code",
        "outputId": "4acf2434-d883-4578-bfb0-8537fa51385b",
        "colab": {
          "base_uri": "https://localhost:8080/",
          "height": 198
        }
      },
      "source": [
        "learn.fit_flat_cos(5, 4e-3)"
      ],
      "execution_count": 7,
      "outputs": [
        {
          "output_type": "display_data",
          "data": {
            "text/html": [
              "<table border=\"1\" class=\"dataframe\">\n",
              "  <thead>\n",
              "    <tr style=\"text-align: left;\">\n",
              "      <th>epoch</th>\n",
              "      <th>train_loss</th>\n",
              "      <th>valid_loss</th>\n",
              "      <th>accuracy</th>\n",
              "      <th>time</th>\n",
              "    </tr>\n",
              "  </thead>\n",
              "  <tbody>\n",
              "    <tr>\n",
              "      <td>0</td>\n",
              "      <td>1.965672</td>\n",
              "      <td>2.053451</td>\n",
              "      <td>0.300000</td>\n",
              "      <td>02:24</td>\n",
              "    </tr>\n",
              "    <tr>\n",
              "      <td>1</td>\n",
              "      <td>1.703073</td>\n",
              "      <td>1.789189</td>\n",
              "      <td>0.436000</td>\n",
              "      <td>02:11</td>\n",
              "    </tr>\n",
              "    <tr>\n",
              "      <td>2</td>\n",
              "      <td>1.537732</td>\n",
              "      <td>1.550637</td>\n",
              "      <td>0.512000</td>\n",
              "      <td>02:11</td>\n",
              "    </tr>\n",
              "    <tr>\n",
              "      <td>3</td>\n",
              "      <td>1.409281</td>\n",
              "      <td>1.467811</td>\n",
              "      <td>0.572000</td>\n",
              "      <td>02:11</td>\n",
              "    </tr>\n",
              "    <tr>\n",
              "      <td>4</td>\n",
              "      <td>1.217574</td>\n",
              "      <td>1.161023</td>\n",
              "      <td>0.706000</td>\n",
              "      <td>02:11</td>\n",
              "    </tr>\n",
              "  </tbody>\n",
              "</table>"
            ],
            "text/plain": [
              "<IPython.core.display.HTML object>"
            ]
          },
          "metadata": {
            "tags": []
          }
        }
      ]
    },
    {
      "cell_type": "code",
      "metadata": {
        "id": "7h7kBZoJddtW",
        "colab_type": "code",
        "colab": {}
      },
      "source": [
        ""
      ],
      "execution_count": 0,
      "outputs": []
    }
  ]
}