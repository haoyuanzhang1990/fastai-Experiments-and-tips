{
  "nbformat": 4,
  "nbformat_minor": 0,
  "metadata": {
    "colab": {
      "name": "Testing SOTA.ipynb",
      "version": "0.3.2",
      "provenance": []
    },
    "kernelspec": {
      "name": "python3",
      "display_name": "Python 3"
    },
    "accelerator": "GPU"
  },
  "cells": [
    {
      "cell_type": "code",
      "metadata": {
        "id": "hbU_2vvyR5ZK",
        "colab_type": "code",
        "colab": {
          "base_uri": "https://localhost:8080/",
          "height": 119
        },
        "outputId": "d9a9ed71-9dc4-4318-b9d4-9a3e6ace6c83"
      },
      "source": [
        "!git clone https://github.com/mgrankin/over9000.git"
      ],
      "execution_count": 1,
      "outputs": [
        {
          "output_type": "stream",
          "text": [
            "Cloning into 'over9000'...\n",
            "remote: Enumerating objects: 67, done.\u001b[K\n",
            "remote: Counting objects:   1% (1/67)\u001b[K\rremote: Counting objects:   2% (2/67)\u001b[K\rremote: Counting objects:   4% (3/67)\u001b[K\rremote: Counting objects:   5% (4/67)\u001b[K\rremote: Counting objects:   7% (5/67)\u001b[K\rremote: Counting objects:   8% (6/67)\u001b[K\rremote: Counting objects:  10% (7/67)\u001b[K\rremote: Counting objects:  11% (8/67)\u001b[K\rremote: Counting objects:  13% (9/67)\u001b[K\rremote: Counting objects:  14% (10/67)\u001b[K\rremote: Counting objects:  16% (11/67)\u001b[K\rremote: Counting objects:  17% (12/67)\u001b[K\rremote: Counting objects:  19% (13/67)\u001b[K\rremote: Counting objects:  20% (14/67)\u001b[K\rremote: Counting objects:  22% (15/67)\u001b[K\rremote: Counting objects:  23% (16/67)\u001b[K\rremote: Counting objects:  25% (17/67)\u001b[K\rremote: Counting objects:  26% (18/67)\u001b[K\rremote: Counting objects:  28% (19/67)\u001b[K\rremote: Counting objects:  29% (20/67)\u001b[K\rremote: Counting objects:  31% (21/67)\u001b[K\rremote: Counting objects:  32% (22/67)\u001b[K\rremote: Counting objects:  34% (23/67)\u001b[K\rremote: Counting objects:  35% (24/67)\u001b[K\rremote: Counting objects:  37% (25/67)\u001b[K\rremote: Counting objects:  38% (26/67)\u001b[K\rremote: Counting objects:  40% (27/67)\u001b[K\rremote: Counting objects:  41% (28/67)\u001b[K\rremote: Counting objects:  43% (29/67)\u001b[K\rremote: Counting objects:  44% (30/67)\u001b[K\rremote: Counting objects:  46% (31/67)\u001b[K\rremote: Counting objects:  47% (32/67)\u001b[K\rremote: Counting objects:  49% (33/67)\u001b[K\rremote: Counting objects:  50% (34/67)\u001b[K\rremote: Counting objects:  52% (35/67)\u001b[K\rremote: Counting objects:  53% (36/67)\u001b[K\rremote: Counting objects:  55% (37/67)\u001b[K\rremote: Counting objects:  56% (38/67)\u001b[K\rremote: Counting objects:  58% (39/67)\u001b[K\rremote: Counting objects:  59% (40/67)\u001b[K\rremote: Counting objects:  61% (41/67)\u001b[K\rremote: Counting objects:  62% (42/67)\u001b[K\rremote: Counting objects:  64% (43/67)\u001b[K\rremote: Counting objects:  65% (44/67)\u001b[K\rremote: Counting objects:  67% (45/67)\u001b[K\rremote: Counting objects:  68% (46/67)\u001b[K\rremote: Counting objects:  70% (47/67)\u001b[K\rremote: Counting objects:  71% (48/67)\u001b[K\rremote: Counting objects:  73% (49/67)\u001b[K\rremote: Counting objects:  74% (50/67)\u001b[K\rremote: Counting objects:  76% (51/67)\u001b[K\rremote: Counting objects:  77% (52/67)\u001b[K\rremote: Counting objects:  79% (53/67)\u001b[K\rremote: Counting objects:  80% (54/67)\u001b[K\rremote: Counting objects:  82% (55/67)\u001b[K\rremote: Counting objects:  83% (56/67)\u001b[K\rremote: Counting objects:  85% (57/67)\u001b[K\rremote: Counting objects:  86% (58/67)\u001b[K\rremote: Counting objects:  88% (59/67)\u001b[K\rremote: Counting objects:  89% (60/67)\u001b[K\rremote: Counting objects:  91% (61/67)\u001b[K\rremote: Counting objects:  92% (62/67)\u001b[K\rremote: Counting objects:  94% (63/67)\u001b[K\rremote: Counting objects:  95% (64/67)\u001b[K\rremote: Counting objects:  97% (65/67)\u001b[K\rremote: Counting objects:  98% (66/67)\u001b[K\rremote: Counting objects: 100% (67/67)\u001b[K\rremote: Counting objects: 100% (67/67), done.\u001b[K\n",
            "remote: Compressing objects:   2% (1/46)\u001b[K\rremote: Compressing objects:   4% (2/46)\u001b[K\rremote: Compressing objects:   6% (3/46)\u001b[K\rremote: Compressing objects:   8% (4/46)\u001b[K\rremote: Compressing objects:  10% (5/46)\u001b[K\rremote: Compressing objects:  13% (6/46)\u001b[K\rremote: Compressing objects:  15% (7/46)\u001b[K\rremote: Compressing objects:  17% (8/46)\u001b[K\rremote: Compressing objects:  19% (9/46)\u001b[K\rremote: Compressing objects:  21% (10/46)\u001b[K\rremote: Compressing objects:  23% (11/46)\u001b[K\rremote: Compressing objects:  26% (12/46)\u001b[K\rremote: Compressing objects:  28% (13/46)\u001b[K\rremote: Compressing objects:  30% (14/46)\u001b[K\rremote: Compressing objects:  32% (15/46)\u001b[K\rremote: Compressing objects:  34% (16/46)\u001b[K\rremote: Compressing objects:  36% (17/46)\u001b[K\rremote: Compressing objects:  39% (18/46)\u001b[K\rremote: Compressing objects:  41% (19/46)\u001b[K\rremote: Compressing objects:  43% (20/46)\u001b[K\rremote: Compressing objects:  45% (21/46)\u001b[K\rremote: Compressing objects:  47% (22/46)\u001b[K\rremote: Compressing objects:  50% (23/46)\u001b[K\rremote: Compressing objects:  52% (24/46)\u001b[K\rremote: Compressing objects:  54% (25/46)\u001b[K\rremote: Compressing objects:  56% (26/46)\u001b[K\rremote: Compressing objects:  58% (27/46)\u001b[K\rremote: Compressing objects:  60% (28/46)\u001b[K\rremote: Compressing objects:  63% (29/46)\u001b[K\rremote: Compressing objects:  65% (30/46)\u001b[K\rremote: Compressing objects:  67% (31/46)\u001b[K\rremote: Compressing objects:  69% (32/46)\u001b[K\rremote: Compressing objects:  71% (33/46)\u001b[K\rremote: Compressing objects:  73% (34/46)\u001b[K\rremote: Compressing objects:  76% (35/46)\u001b[K\rremote: Compressing objects:  78% (36/46)\u001b[K\rremote: Compressing objects:  80% (37/46)\u001b[K\rremote: Compressing objects:  82% (38/46)\u001b[K\rremote: Compressing objects:  84% (39/46)\u001b[K\rremote: Compressing objects:  86% (40/46)\u001b[K\rremote: Compressing objects:  89% (41/46)\u001b[K\rremote: Compressing objects:  91% (42/46)\u001b[K\rremote: Compressing objects:  93% (43/46)\u001b[K\rremote: Compressing objects:  95% (44/46)\u001b[K\rremote: Compressing objects:  97% (45/46)\u001b[K\rremote: Compressing objects: 100% (46/46)\u001b[K\rremote: Compressing objects: 100% (46/46), done.\u001b[K\n",
            "Unpacking objects:   1% (1/67)   \rUnpacking objects:   2% (2/67)   \rUnpacking objects:   4% (3/67)   \rUnpacking objects:   5% (4/67)   \rUnpacking objects:   7% (5/67)   \rUnpacking objects:   8% (6/67)   \rUnpacking objects:  10% (7/67)   \rUnpacking objects:  11% (8/67)   \rUnpacking objects:  13% (9/67)   \rUnpacking objects:  14% (10/67)   \rUnpacking objects:  16% (11/67)   \rUnpacking objects:  17% (12/67)   \rUnpacking objects:  19% (13/67)   \rUnpacking objects:  20% (14/67)   \rUnpacking objects:  22% (15/67)   \rUnpacking objects:  23% (16/67)   \rUnpacking objects:  25% (17/67)   \rUnpacking objects:  26% (18/67)   \rUnpacking objects:  28% (19/67)   \rUnpacking objects:  29% (20/67)   \rUnpacking objects:  31% (21/67)   \rUnpacking objects:  32% (22/67)   \rUnpacking objects:  34% (23/67)   \rUnpacking objects:  35% (24/67)   \rUnpacking objects:  37% (25/67)   \rUnpacking objects:  38% (26/67)   \rUnpacking objects:  40% (27/67)   \rUnpacking objects:  41% (28/67)   \rUnpacking objects:  43% (29/67)   \rUnpacking objects:  44% (30/67)   \rUnpacking objects:  46% (31/67)   \rUnpacking objects:  47% (32/67)   \rUnpacking objects:  49% (33/67)   \rUnpacking objects:  50% (34/67)   \rUnpacking objects:  52% (35/67)   \rUnpacking objects:  53% (36/67)   \rUnpacking objects:  55% (37/67)   \rUnpacking objects:  56% (38/67)   \rUnpacking objects:  58% (39/67)   \rUnpacking objects:  59% (40/67)   \rUnpacking objects:  61% (41/67)   \rUnpacking objects:  62% (42/67)   \rUnpacking objects:  64% (43/67)   \rUnpacking objects:  65% (44/67)   \rUnpacking objects:  67% (45/67)   \rUnpacking objects:  68% (46/67)   \rUnpacking objects:  70% (47/67)   \rUnpacking objects:  71% (48/67)   \rUnpacking objects:  73% (49/67)   \rUnpacking objects:  74% (50/67)   \rremote: Total 67 (delta 35), reused 41 (delta 19), pack-reused 0\u001b[K\n",
            "Unpacking objects:  76% (51/67)   \rUnpacking objects:  77% (52/67)   \rUnpacking objects:  79% (53/67)   \rUnpacking objects:  80% (54/67)   \rUnpacking objects:  82% (55/67)   \rUnpacking objects:  83% (56/67)   \rUnpacking objects:  85% (57/67)   \rUnpacking objects:  86% (58/67)   \rUnpacking objects:  88% (59/67)   \rUnpacking objects:  89% (60/67)   \rUnpacking objects:  91% (61/67)   \rUnpacking objects:  92% (62/67)   \rUnpacking objects:  94% (63/67)   \rUnpacking objects:  95% (64/67)   \rUnpacking objects:  97% (65/67)   \rUnpacking objects:  98% (66/67)   \rUnpacking objects: 100% (67/67)   \rUnpacking objects: 100% (67/67), done.\n"
          ],
          "name": "stdout"
        }
      ]
    },
    {
      "cell_type": "code",
      "metadata": {
        "id": "l8rkSx-iR9lh",
        "colab_type": "code",
        "colab": {
          "base_uri": "https://localhost:8080/",
          "height": 34
        },
        "outputId": "fd686c75-072a-4ca7-f1cf-18b4d4e44004"
      },
      "source": [
        "!git clone https://github.com/lessw2020/mish.git"
      ],
      "execution_count": 2,
      "outputs": [
        {
          "output_type": "stream",
          "text": [
            "fatal: destination path 'mish' already exists and is not an empty directory.\n"
          ],
          "name": "stdout"
        }
      ]
    },
    {
      "cell_type": "code",
      "metadata": {
        "id": "uB_z2nIOR_Dg",
        "colab_type": "code",
        "colab": {}
      },
      "source": [
        "from fastai.vision import *"
      ],
      "execution_count": 0,
      "outputs": []
    },
    {
      "cell_type": "code",
      "metadata": {
        "id": "fqkabKYDSKAM",
        "colab_type": "code",
        "colab": {}
      },
      "source": [
        "path = untar_data(URLs.IMAGEWOOF)"
      ],
      "execution_count": 0,
      "outputs": []
    },
    {
      "cell_type": "code",
      "metadata": {
        "id": "o3H7VlcESjSg",
        "colab_type": "code",
        "colab": {}
      },
      "source": [
        "class Mish(nn.Module):\n",
        "    def __init__(self):\n",
        "        super().__init__()\n",
        "\n",
        "    def forward(self, x):\n",
        "        x = x *( torch.tanh(F.softplus(x)))\n",
        "        return x"
      ],
      "execution_count": 0,
      "outputs": []
    },
    {
      "cell_type": "code",
      "metadata": {
        "id": "almLtXf2SOD4",
        "colab_type": "code",
        "colab": {}
      },
      "source": [
        "act_fn = Mish() #nn.ReLU(inplace=True)\n",
        "\n",
        "class Flatten(Module):\n",
        "    def forward(self, x): return x.view(x.size(0), -1)\n",
        "\n",
        "def init_cnn(m):\n",
        "    if getattr(m, 'bias', None) is not None: nn.init.constant_(m.bias, 0)\n",
        "    if isinstance(m, (nn.Conv2d,nn.Linear)): nn.init.kaiming_normal_(m.weight)\n",
        "    for l in m.children(): init_cnn(l)\n",
        "\n",
        "def conv(ni, nf, ks=3, stride=1, bias=False):\n",
        "    return nn.Conv2d(ni, nf, kernel_size=ks, stride=stride, padding=ks//2, bias=bias)\n",
        "\n",
        "def noop(x): return x\n",
        "\n",
        "def conv_layer(ni, nf, ks=3, stride=1, zero_bn=False, act=True):\n",
        "    bn = nn.BatchNorm2d(nf)\n",
        "    nn.init.constant_(bn.weight, 0. if zero_bn else 1.)\n",
        "    layers = [conv(ni, nf, ks, stride=stride), bn]\n",
        "    if act: layers.append(act_fn)\n",
        "    return nn.Sequential(*layers)\n",
        "\n",
        "class ResBlock(Module):\n",
        "    def __init__(self, expansion, ni, nh, stride=1):\n",
        "        nf,ni = nh*expansion,ni*expansion\n",
        "        layers  = [conv_layer(ni, nh, 3, stride=stride),\n",
        "                   conv_layer(nh, nf, 3, zero_bn=True, act=False)\n",
        "        ] if expansion == 1 else [\n",
        "                   conv_layer(ni, nh, 1),\n",
        "                   conv_layer(nh, nh, 3, stride=stride),\n",
        "                   conv_layer(nh, nf, 1, zero_bn=True, act=False)\n",
        "        ]\n",
        "        self.convs = nn.Sequential(*layers)\n",
        "        # TODO: check whether act=True works better\n",
        "        self.idconv = noop if ni==nf else conv_layer(ni, nf, 1, act=False)\n",
        "        self.pool = noop if stride==1 else nn.AvgPool2d(2, ceil_mode=True)\n",
        "\n",
        "    def forward(self, x): return act_fn(self.convs(x) + self.idconv(self.pool(x)))\n",
        "\n",
        "def filt_sz(recep): return min(64, 2**math.floor(math.log2(recep*0.75)))\n",
        "\n",
        "class MXResNet(nn.Sequential):\n",
        "    def __init__(self, expansion, layers, c_in=3, c_out=1000):\n",
        "        stem = []\n",
        "        sizes = [c_in,32,64,64]  #modified per Grankin\n",
        "        for i in range(3):\n",
        "            stem.append(conv_layer(sizes[i], sizes[i+1], stride=2 if i==0 else 1))\n",
        "            #nf = filt_sz(c_in*9)\n",
        "            #stem.append(conv_layer(c_in, nf, stride=2 if i==1 else 1))\n",
        "            #c_in = nf\n",
        "\n",
        "        block_szs = [64//expansion,64,128,256,512]\n",
        "        blocks = [self._make_layer(expansion, block_szs[i], block_szs[i+1], l, 1 if i==0 else 2)\n",
        "                  for i,l in enumerate(layers)]\n",
        "        super().__init__(\n",
        "            *stem,\n",
        "            nn.MaxPool2d(kernel_size=3, stride=2, padding=1),\n",
        "            *blocks,\n",
        "            nn.AdaptiveAvgPool2d(1), Flatten(),\n",
        "            nn.Linear(block_szs[-1]*expansion, c_out),\n",
        "        )\n",
        "        init_cnn(self)\n",
        "\n",
        "    def _make_layer(self, expansion, ni, nf, blocks, stride):\n",
        "        return nn.Sequential(\n",
        "            *[ResBlock(expansion, ni if i==0 else nf, nf, stride if i==0 else 1)\n",
        "              for i in range(blocks)])\n",
        "\n",
        "def mxresnet(expansion, n_layers, name, pretrained=False, **kwargs):\n",
        "    model = MXResNet(expansion, n_layers, **kwargs)\n",
        "    if pretrained: \n",
        "        #model.load_state_dict(model_zoo.load_url(model_urls[name]))\n",
        "        print(\"No pretrained yet for MXResNet\")\n",
        "    return model\n",
        "\n",
        "me = sys.modules[__name__]\n",
        "for n,e,l in [\n",
        "    [ 18 , 1, [2,2,2 ,2] ],\n",
        "    [ 34 , 1, [3,4,6 ,3] ],\n",
        "    [ 50 , 4, [3,4,6 ,3] ],\n",
        "    [ 101, 4, [3,4,23,3] ],\n",
        "    [ 152, 4, [3,8,36,3] ],\n",
        "]:\n",
        "    name = f'mxresnet{n}'\n",
        "    setattr(me, name, partial(mxresnet, expansion=e, n_layers=l, name=name))"
      ],
      "execution_count": 0,
      "outputs": []
    },
    {
      "cell_type": "code",
      "metadata": {
        "id": "SalWyCjuSyte",
        "colab_type": "code",
        "colab": {}
      },
      "source": [
        "data = (ImageList.from_folder(path).split_by_folder(valid='val')\n",
        "            .label_from_folder().transform(([flip_lr(p=0.5)], []), size=128)\n",
        "            .databunch(bs=64, num_workers=2)\n",
        "            .presize(128, scale=(0.35,1))\n",
        "            .normalize(imagenet_stats))"
      ],
      "execution_count": 0,
      "outputs": []
    },
    {
      "cell_type": "code",
      "metadata": {
        "id": "4hS9szJpTTGU",
        "colab_type": "code",
        "colab": {
          "base_uri": "https://localhost:8080/",
          "height": 34
        },
        "outputId": "631a79b8-600c-4738-9844-902d572cec96"
      },
      "source": [
        "%cd over9000/"
      ],
      "execution_count": 12,
      "outputs": [
        {
          "output_type": "stream",
          "text": [
            "/content/over9000\n"
          ],
          "name": "stdout"
        }
      ]
    },
    {
      "cell_type": "code",
      "metadata": {
        "id": "msOltE2MTYJH",
        "colab_type": "code",
        "colab": {}
      },
      "source": [
        "from over9000 import *"
      ],
      "execution_count": 0,
      "outputs": []
    },
    {
      "cell_type": "code",
      "metadata": {
        "id": "wnHK5UtLTaRz",
        "colab_type": "code",
        "colab": {
          "base_uri": "https://localhost:8080/",
          "height": 34
        },
        "outputId": "280fc1e4-ac8c-43c1-c25b-a1839065d214"
      },
      "source": [
        "Over9000"
      ],
      "execution_count": 14,
      "outputs": [
        {
          "output_type": "execute_result",
          "data": {
            "text/plain": [
              "<function over9000.Over9000>"
            ]
          },
          "metadata": {
            "tags": []
          },
          "execution_count": 14
        }
      ]
    },
    {
      "cell_type": "code",
      "metadata": {
        "id": "L7AE5fm-TI6A",
        "colab_type": "code",
        "colab": {}
      },
      "source": [
        "bs_rat = 64/256\n",
        "opt_func=partial(Over9000, betas = (0.9,0.99), eps=1e-6)"
      ],
      "execution_count": 0,
      "outputs": []
    },
    {
      "cell_type": "code",
      "metadata": {
        "id": "AgQnm9pYXFPD",
        "colab_type": "code",
        "colab": {}
      },
      "source": [
        " n = len(learn.data.train_dl)"
      ],
      "execution_count": 0,
      "outputs": []
    },
    {
      "cell_type": "code",
      "metadata": {
        "id": "x6H6ehjWXF55",
        "colab_type": "code",
        "colab": {}
      },
      "source": [
        " anneal_start = int(n*5*0.7)"
      ],
      "execution_count": 0,
      "outputs": []
    },
    {
      "cell_type": "code",
      "metadata": {
        "id": "bGLvGNzOXK5r",
        "colab_type": "code",
        "colab": {}
      },
      "source": [
        "from fastai.script import *\n",
        "from fastai.vision import *\n",
        "from fastai.callbacks import *\n",
        "from fastai.distributed import *"
      ],
      "execution_count": 0,
      "outputs": []
    },
    {
      "cell_type": "code",
      "metadata": {
        "id": "4sjrfTvIXQF2",
        "colab_type": "code",
        "colab": {}
      },
      "source": [
        "TrainingPhase"
      ],
      "execution_count": 0,
      "outputs": []
    },
    {
      "cell_type": "code",
      "metadata": {
        "id": "Xs0H8gODXekJ",
        "colab_type": "code",
        "colab": {}
      },
      "source": [
        "lr = 1e-2"
      ],
      "execution_count": 0,
      "outputs": []
    },
    {
      "cell_type": "code",
      "metadata": {
        "id": "b4tiMLlhXrwL",
        "colab_type": "code",
        "colab": {}
      },
      "source": [
        "learn = Learner(data, mxresnet50(c_out=10), wd=1e-2, opt_func=opt_func,\n",
        "                 metrics=[accuracy, top_k_accuracy],\n",
        "                 bn_wd=False, true_wd=True,\n",
        "                 loss_func=LabelSmoothingCrossEntropy())"
      ],
      "execution_count": 0,
      "outputs": []
    },
    {
      "cell_type": "code",
      "metadata": {
        "id": "mG-NkvL2Sdyv",
        "colab_type": "code",
        "colab": {}
      },
      "source": [
        "res = []\n",
        "num_epoch=5\n",
        "for x in range(5):\n",
        "  learn = Learner(data, mxresnet50(c_out=10), wd=1e-2, opt_func=opt_func,\n",
        "                 metrics=[accuracy, top_k_accuracy],\n",
        "                 bn_wd=False, true_wd=True,\n",
        "                 loss_func=LabelSmoothingCrossEntropy())\n",
        "  n = len(learn.data.train_dl)\n",
        "  anneal_start = int(n*5*0.7)\n",
        "  phase0 = TrainingPhase(anneal_start).schedule_hp('lr', lr)\n",
        "  phase1 = TrainingPhase(n*5 - anneal_start).schedule_hp('lr', lr, anneal=annealing_cos)\n",
        "  phases = [phase0, phase1]\n",
        "  sched = GeneralScheduler(learn, phases)\n",
        "  learn.callbacks.append(sched)\n",
        "  learn.fit(num_epoch)\n",
        "  \n",
        "  loss, acc, topk = learn.validate()\n",
        "  res.append(acc.numpy())"
      ],
      "execution_count": 0,
      "outputs": []
    },
    {
      "cell_type": "code",
      "metadata": {
        "id": "GZnABPBXUiwM",
        "colab_type": "code",
        "colab": {
          "base_uri": "https://localhost:8080/",
          "height": 34
        },
        "outputId": "0da3f2d0-c57b-4c22-f393-571919f6f700"
      },
      "source": [
        "np.mean(res)"
      ],
      "execution_count": 33,
      "outputs": [
        {
          "output_type": "execute_result",
          "data": {
            "text/plain": [
              "0.732"
            ]
          },
          "metadata": {
            "tags": []
          },
          "execution_count": 33
        }
      ]
    },
    {
      "cell_type": "code",
      "metadata": {
        "id": "zl_vjMWEiL7y",
        "colab_type": "code",
        "colab": {
          "base_uri": "https://localhost:8080/",
          "height": 34
        },
        "outputId": "8dd9ee34-1135-4e6b-fd51-7c3c64f67833"
      },
      "source": [
        "np.std(res)"
      ],
      "execution_count": 34,
      "outputs": [
        {
          "output_type": "execute_result",
          "data": {
            "text/plain": [
              "0.009465724"
            ]
          },
          "metadata": {
            "tags": []
          },
          "execution_count": 34
        }
      ]
    },
    {
      "cell_type": "code",
      "metadata": {
        "id": "hArOffsgiNP-",
        "colab_type": "code",
        "colab": {
          "base_uri": "https://localhost:8080/",
          "height": 102
        },
        "outputId": "4fc603d7-e67f-4956-ea10-edea52f18292"
      },
      "source": [
        "res"
      ],
      "execution_count": 35,
      "outputs": [
        {
          "output_type": "execute_result",
          "data": {
            "text/plain": [
              "[array(0.718, dtype=float32),\n",
              " array(0.73, dtype=float32),\n",
              " array(0.738, dtype=float32),\n",
              " array(0.746, dtype=float32),\n",
              " array(0.728, dtype=float32)]"
            ]
          },
          "metadata": {
            "tags": []
          },
          "execution_count": 35
        }
      ]
    },
    {
      "cell_type": "code",
      "metadata": {
        "id": "6OU10gtbiumN",
        "colab_type": "code",
        "colab": {}
      },
      "source": [
        ""
      ],
      "execution_count": 0,
      "outputs": []
    }
  ]
}