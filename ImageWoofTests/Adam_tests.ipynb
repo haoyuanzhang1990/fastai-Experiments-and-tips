{
  "nbformat": 4,
  "nbformat_minor": 0,
  "metadata": {
    "colab": {
      "name": "Untitled15.ipynb",
      "provenance": [],
      "toc_visible": true
    },
    "kernelspec": {
      "name": "python3",
      "display_name": "Python 3"
    },
    "accelerator": "GPU"
  },
  "cells": [
    {
      "cell_type": "code",
      "metadata": {
        "id": "udKUPGyfnd5V",
        "colab_type": "code",
        "colab": {}
      },
      "source": [
        "!pip install torch torchvision feather-format kornia pyarrow Pillow wandb --upgrade \n",
        "!pip install git+https://github.com/fastai/fastprogress  --upgrade\n",
        "!pip install git+https://github.com/fastai/fastai_dev"
      ],
      "execution_count": 0,
      "outputs": []
    },
    {
      "cell_type": "code",
      "metadata": {
        "id": "WlhauAj_n6S2",
        "colab_type": "code",
        "outputId": "dec55b73-fa07-45b5-b291-b732790b1186",
        "colab": {
          "base_uri": "https://localhost:8080/",
          "height": 119
        }
      },
      "source": [
        "!git clone https://github.com/sdoria/mish"
      ],
      "execution_count": 0,
      "outputs": [
        {
          "output_type": "stream",
          "text": [
            "Cloning into 'mish'...\n",
            "remote: Enumerating objects: 46, done.\u001b[K\n",
            "remote: Counting objects:   2% (1/46)\u001b[K\rremote: Counting objects:   4% (2/46)\u001b[K\rremote: Counting objects:   6% (3/46)\u001b[K\rremote: Counting objects:   8% (4/46)\u001b[K\rremote: Counting objects:  10% (5/46)\u001b[K\rremote: Counting objects:  13% (6/46)\u001b[K\rremote: Counting objects:  15% (7/46)\u001b[K\rremote: Counting objects:  17% (8/46)\u001b[K\rremote: Counting objects:  19% (9/46)\u001b[K\rremote: Counting objects:  21% (10/46)\u001b[K\rremote: Counting objects:  23% (11/46)\u001b[K\rremote: Counting objects:  26% (12/46)\u001b[K\rremote: Counting objects:  28% (13/46)\u001b[K\rremote: Counting objects:  30% (14/46)\u001b[K\rremote: Counting objects:  32% (15/46)\u001b[K\rremote: Counting objects:  34% (16/46)\u001b[K\rremote: Counting objects:  36% (17/46)\u001b[K\rremote: Counting objects:  39% (18/46)\u001b[K\rremote: Counting objects:  41% (19/46)\u001b[K\rremote: Counting objects:  43% (20/46)\u001b[K\rremote: Counting objects:  45% (21/46)\u001b[K\rremote: Counting objects:  47% (22/46)\u001b[K\rremote: Counting objects:  50% (23/46)\u001b[K\rremote: Counting objects:  52% (24/46)\u001b[K\rremote: Counting objects:  54% (25/46)\u001b[K\rremote: Counting objects:  56% (26/46)\u001b[K\rremote: Counting objects:  58% (27/46)\u001b[K\rremote: Counting objects:  60% (28/46)\u001b[K\rremote: Counting objects:  63% (29/46)\u001b[K\rremote: Counting objects:  65% (30/46)\u001b[K\rremote: Counting objects:  67% (31/46)\u001b[K\rremote: Counting objects:  69% (32/46)\u001b[K\rremote: Counting objects:  71% (33/46)\u001b[K\rremote: Counting objects:  73% (34/46)\u001b[K\rremote: Counting objects:  76% (35/46)\u001b[K\rremote: Counting objects:  78% (36/46)\u001b[K\rremote: Counting objects:  80% (37/46)\u001b[K\rremote: Counting objects:  82% (38/46)\u001b[K\rremote: Counting objects:  84% (39/46)\u001b[K\rremote: Counting objects:  86% (40/46)\u001b[K\rremote: Counting objects:  89% (41/46)\u001b[K\rremote: Counting objects:  91% (42/46)\u001b[K\rremote: Counting objects:  93% (43/46)\u001b[K\rremote: Counting objects:  95% (44/46)\u001b[K\rremote: Counting objects:  97% (45/46)\u001b[K\rremote: Counting objects: 100% (46/46)\u001b[K\rremote: Counting objects: 100% (46/46), done.\u001b[K\n",
            "remote: Compressing objects: 100% (40/40), done.\u001b[K\n",
            "remote: Total 46 (delta 21), reused 19 (delta 6), pack-reused 0\u001b[K\n",
            "Unpacking objects: 100% (46/46), done.\n"
          ],
          "name": "stdout"
        }
      ]
    },
    {
      "cell_type": "code",
      "metadata": {
        "id": "ppEMbA7Mn7-H",
        "colab_type": "code",
        "outputId": "006cee35-4112-4efe-9aee-5af8dea13192",
        "colab": {
          "base_uri": "https://localhost:8080/",
          "height": 51
        }
      },
      "source": [
        "\n",
        "%cd mish\n",
        "from rangerlars import *\n",
        "from mish import *\n",
        "from mxresnet import *\n",
        "from ranger import *"
      ],
      "execution_count": 0,
      "outputs": [
        {
          "output_type": "stream",
          "text": [
            "/content/mish\n",
            "Mish activation loaded...\n"
          ],
          "name": "stdout"
        }
      ]
    },
    {
      "cell_type": "code",
      "metadata": {
        "id": "wS1L0s_ToQnI",
        "colab_type": "code",
        "colab": {}
      },
      "source": [
        "from fastai2.basics import *\n",
        "from fastai2.vision.all import *\n",
        "from fastai2.callback.all import *\n",
        "from fastai2.basics import defaults"
      ],
      "execution_count": 0,
      "outputs": []
    },
    {
      "cell_type": "code",
      "metadata": {
        "id": "ZLy5dZNToSsY",
        "colab_type": "code",
        "colab": {}
      },
      "source": [
        "src = untar_data(URLs.IMAGEWOOF)\n",
        "items = get_image_files(src)\n",
        "split_idx = GrandparentSplitter(valid_name='val')(items)\n",
        "lbl_dict = dict(\n",
        "  n02086240= 'Shih-Tzu',\n",
        "  n02087394= 'Rhodesian ridgeback',\n",
        "  n02088364= 'Beagle',\n",
        "  n02089973= 'English foxhound',\n",
        "  n02093754= 'Australian terrier',\n",
        "  n02096294= 'Border terrier',\n",
        "  n02099601= 'Golden retriever',\n",
        "  n02105641= 'Old English sheepdog',\n",
        "  n02111889= 'Samoyed',\n",
        "  n02115641= 'Dingo'\n",
        ")"
      ],
      "execution_count": 0,
      "outputs": []
    },
    {
      "cell_type": "code",
      "metadata": {
        "id": "kCRi3AT4oB3I",
        "colab_type": "code",
        "colab": {}
      },
      "source": [
        "n_gpus = num_distrib() or 1\n",
        "nw = min(8, num_cpus()//n_gpus)\n",
        "\n",
        "split_idx = GrandparentSplitter(valid_name='val')(items)\n",
        "tfms = [[PILImage.create], [parent_label, lbl_dict.__getitem__, Categorize()]]\n",
        "\n",
        "dsrc = DataSource(items, tfms, splits=split_idx)\n",
        "\n",
        "batch_tfms = [Cuda(), IntToFloatTensor(), Normalize(*imagenet_stats)]\n",
        "\n",
        "dbch = dsrc.databunch(after_item=[ToTensor(), Resize(128)], \n",
        "                      after_batch=batch_tfms, \n",
        "                      bs=64, num_workers=nw)"
      ],
      "execution_count": 0,
      "outputs": []
    },
    {
      "cell_type": "code",
      "metadata": {
        "id": "4qymevyWoY-Q",
        "colab_type": "code",
        "colab": {}
      },
      "source": [
        "learn = Learner(dbch, mxresnet50(c_out=10, sa=True), opt_func=Adam, loss_func=LabelSmoothingCrossEntropy(),\n",
        "                metrics=accuracy)"
      ],
      "execution_count": 0,
      "outputs": []
    },
    {
      "cell_type": "code",
      "metadata": {
        "id": "DNUuZUZg4OjO",
        "colab_type": "code",
        "outputId": "f8a6aac6-df04-4775-c3bd-4161de172265",
        "colab": {
          "base_uri": "https://localhost:8080/",
          "height": 204
        }
      },
      "source": [
        "learn.fit_flat_cos(5, 4e-3, pct_start=0.72)"
      ],
      "execution_count": 0,
      "outputs": [
        {
          "output_type": "display_data",
          "data": {
            "text/html": [
              "<table border=\"1\" class=\"dataframe\">\n",
              "  <thead>\n",
              "    <tr style=\"text-align: left;\">\n",
              "      <th>epoch</th>\n",
              "      <th>train_loss</th>\n",
              "      <th>valid_loss</th>\n",
              "      <th>accuracy</th>\n",
              "      <th>time</th>\n",
              "    </tr>\n",
              "  </thead>\n",
              "  <tbody>\n",
              "    <tr>\n",
              "      <td>0</td>\n",
              "      <td>2.300824</td>\n",
              "      <td>3.326290</td>\n",
              "      <td>0.226000</td>\n",
              "      <td>02:22</td>\n",
              "    </tr>\n",
              "    <tr>\n",
              "      <td>1</td>\n",
              "      <td>2.070931</td>\n",
              "      <td>2.019429</td>\n",
              "      <td>0.262000</td>\n",
              "      <td>02:22</td>\n",
              "    </tr>\n",
              "    <tr>\n",
              "      <td>2</td>\n",
              "      <td>1.867251</td>\n",
              "      <td>1.840929</td>\n",
              "      <td>0.382000</td>\n",
              "      <td>02:22</td>\n",
              "    </tr>\n",
              "    <tr>\n",
              "      <td>3</td>\n",
              "      <td>1.699768</td>\n",
              "      <td>1.730356</td>\n",
              "      <td>0.428000</td>\n",
              "      <td>02:22</td>\n",
              "    </tr>\n",
              "    <tr>\n",
              "      <td>4</td>\n",
              "      <td>1.503892</td>\n",
              "      <td>1.481084</td>\n",
              "      <td>0.568000</td>\n",
              "      <td>02:22</td>\n",
              "    </tr>\n",
              "  </tbody>\n",
              "</table>"
            ],
            "text/plain": [
              "<IPython.core.display.HTML object>"
            ]
          },
          "metadata": {
            "tags": []
          }
        }
      ]
    },
    {
      "cell_type": "markdown",
      "metadata": {
        "id": "M_QUva_JrjfL",
        "colab_type": "text"
      },
      "source": [
        "# v1"
      ]
    },
    {
      "cell_type": "code",
      "metadata": {
        "id": "--DjKl5uogp4",
        "colab_type": "code",
        "colab": {}
      },
      "source": [
        "from fastai.vision import *"
      ],
      "execution_count": 0,
      "outputs": []
    },
    {
      "cell_type": "code",
      "metadata": {
        "id": "-mOu7jp0rxcK",
        "colab_type": "code",
        "colab": {}
      },
      "source": [
        "path = untar_data(URLs.IMAGEWOOF)"
      ],
      "execution_count": 0,
      "outputs": []
    },
    {
      "cell_type": "code",
      "metadata": {
        "id": "y-TTX5bVrmTr",
        "colab_type": "code",
        "colab": {}
      },
      "source": [
        "data = (ImageList.from_folder(path)\n",
        "        .split_by_folder(valid='val')\n",
        "        .label_from_folder()\n",
        "        .transform(size=128)\n",
        "        .databunch(bs=64, num_workers=2)\n",
        "        .normalize(imagenet_stats))\n"
      ],
      "execution_count": 0,
      "outputs": []
    },
    {
      "cell_type": "code",
      "metadata": {
        "id": "FtscN9wvrwCC",
        "colab_type": "code",
        "colab": {}
      },
      "source": [
        "learn = Learner(data, mxresnet50(c_out=10, sa=True), opt_func=optim.Adam,\n",
        "              loss_func=LabelSmoothingCrossEntropy(),\n",
        "               metrics=[accuracy])"
      ],
      "execution_count": 0,
      "outputs": []
    },
    {
      "cell_type": "code",
      "metadata": {
        "id": "3i3M1Syxr3BH",
        "colab_type": "code",
        "outputId": "27083a91-e63d-4ff7-914f-4b0b3389c372",
        "colab": {
          "base_uri": "https://localhost:8080/",
          "height": 204
        }
      },
      "source": [
        "learn.fit_fc(5, 4e-3)"
      ],
      "execution_count": 0,
      "outputs": [
        {
          "output_type": "display_data",
          "data": {
            "text/html": [
              "<table border=\"1\" class=\"dataframe\">\n",
              "  <thead>\n",
              "    <tr style=\"text-align: left;\">\n",
              "      <th>epoch</th>\n",
              "      <th>train_loss</th>\n",
              "      <th>valid_loss</th>\n",
              "      <th>accuracy</th>\n",
              "      <th>time</th>\n",
              "    </tr>\n",
              "  </thead>\n",
              "  <tbody>\n",
              "    <tr>\n",
              "      <td>0</td>\n",
              "      <td>2.166673</td>\n",
              "      <td>2.258612</td>\n",
              "      <td>0.224000</td>\n",
              "      <td>02:55</td>\n",
              "    </tr>\n",
              "    <tr>\n",
              "      <td>1</td>\n",
              "      <td>1.955459</td>\n",
              "      <td>1.983938</td>\n",
              "      <td>0.348000</td>\n",
              "      <td>02:56</td>\n",
              "    </tr>\n",
              "    <tr>\n",
              "      <td>2</td>\n",
              "      <td>1.744949</td>\n",
              "      <td>1.809621</td>\n",
              "      <td>0.440000</td>\n",
              "      <td>02:56</td>\n",
              "    </tr>\n",
              "    <tr>\n",
              "      <td>3</td>\n",
              "      <td>1.613534</td>\n",
              "      <td>1.744130</td>\n",
              "      <td>0.422000</td>\n",
              "      <td>02:56</td>\n",
              "    </tr>\n",
              "    <tr>\n",
              "      <td>4</td>\n",
              "      <td>1.350349</td>\n",
              "      <td>1.372394</td>\n",
              "      <td>0.634000</td>\n",
              "      <td>02:56</td>\n",
              "    </tr>\n",
              "  </tbody>\n",
              "</table>"
            ],
            "text/plain": [
              "<IPython.core.display.HTML object>"
            ]
          },
          "metadata": {
            "tags": []
          }
        }
      ]
    },
    {
      "cell_type": "code",
      "metadata": {
        "id": "FhJQssmsvtNc",
        "colab_type": "code",
        "colab": {}
      },
      "source": [
        ""
      ],
      "execution_count": 0,
      "outputs": []
    }
  ]
}