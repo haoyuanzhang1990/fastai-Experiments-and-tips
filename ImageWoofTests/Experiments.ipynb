{
  "nbformat": 4,
  "nbformat_minor": 0,
  "metadata": {
    "colab": {
      "name": "Experiments.ipynb",
      "provenance": []
    },
    "kernelspec": {
      "name": "python3",
      "display_name": "Python 3"
    },
    "accelerator": "GPU"
  },
  "cells": [
    {
      "cell_type": "code",
      "metadata": {
        "id": "B5FPSGllAeyW",
        "colab_type": "code",
        "colab": {}
      },
      "source": [
        "!pip install torch torchvision feather-format kornia pyarrow Pillow wandb --upgrade \n",
        "!pip install git+https://github.com/fastai/fastprogress  --upgrade\n",
        "!pip install git+https://github.com/fastai/fastai_dev  "
      ],
      "execution_count": 0,
      "outputs": []
    },
    {
      "cell_type": "code",
      "metadata": {
        "id": "_pmrJQg5AifU",
        "colab_type": "code",
        "colab": {}
      },
      "source": [
        "from fastai2.basics import *\n",
        "from fastai2.vision.all import *\n",
        "from fastai2.callback.all import *\n",
        "from fastai2.basics import defaults"
      ],
      "execution_count": 0,
      "outputs": []
    },
    {
      "cell_type": "code",
      "metadata": {
        "id": "8DgsLKiMAqob",
        "colab_type": "code",
        "colab": {}
      },
      "source": [
        "src = untar_data(URLs.IMAGEWOOF)\n",
        "items = get_image_files(src)\n",
        "split_idx = GrandparentSplitter(valid_name='val')(items)"
      ],
      "execution_count": 0,
      "outputs": []
    },
    {
      "cell_type": "code",
      "metadata": {
        "id": "OMvF1DVGAs1d",
        "colab_type": "code",
        "colab": {}
      },
      "source": [
        "lbl_dict = dict(\n",
        "  n02086240= 'Shih-Tzu',\n",
        "  n02087394= 'Rhodesian ridgeback',\n",
        "  n02088364= 'Beagle',\n",
        "  n02089973= 'English foxhound',\n",
        "  n02093754= 'Australian terrier',\n",
        "  n02096294= 'Border terrier',\n",
        "  n02099601= 'Golden retriever',\n",
        "  n02105641= 'Old English sheepdog',\n",
        "  n02111889= 'Samoyed',\n",
        "  n02115641= 'Dingo'\n",
        ")"
      ],
      "execution_count": 0,
      "outputs": []
    },
    {
      "cell_type": "code",
      "metadata": {
        "id": "LGDi8gw-AwS6",
        "colab_type": "code",
        "colab": {}
      },
      "source": [
        "n_gpus = num_distrib() or 1\n",
        "nw = min(8, num_cpus()//n_gpus)\n",
        "\n",
        "split_idx = GrandparentSplitter(valid_name='val')(items)\n",
        "tfms = [[PILImage.create], [parent_label, lbl_dict.__getitem__, Categorize()]]\n",
        "\n",
        "dsrc = DataSource(items, tfms, splits=split_idx)\n",
        "\n",
        "batch_tfms = [Cuda(), IntToFloatTensor(), Normalize(*imagenet_stats)]\n",
        "\n",
        "dbch = dsrc.databunch(after_item=[ToTensor(),RandomResizedCrop(128, min_scale=0.35), FlipItem()], \n",
        "                      after_batch=batch_tfms, \n",
        "                      bs=64, num_workers=nw)"
      ],
      "execution_count": 0,
      "outputs": []
    },
    {
      "cell_type": "code",
      "metadata": {
        "id": "vYURNjmzelUP",
        "colab_type": "code",
        "colab": {}
      },
      "source": [
        "class myXResNet(nn.Sequential):\n",
        "    def __init__(self, expansion, layers, c_in=3, c_out=1000, sa=False, sym=False, act_cls=defaults.activation):\n",
        "        stem = []\n",
        "        sizes = [c_in,16,32,64] if c_in<3 else [c_in,32,32,64]\n",
        "        for i in range(3):\n",
        "            stem.append(ConvLayer(sizes[i], sizes[i+1], stride=2 if i==0 else 1, act_cls=act_cls))\n",
        "\n",
        "        block_szs = [64//expansion,64,128,256,512] +[256]*(len(layers)-4)\n",
        "        blocks = [self._make_layer(expansion, block_szs[i], block_szs[i+1], l, 1 if i==0 else 2,\n",
        "                                  sa = sa if i == (len(layers)-4) else False, sym=sym, act_cls=act_cls)\n",
        "                  for i,l in enumerate(layers)]\n",
        "        super().__init__(\n",
        "            *stem,\n",
        "            nn.MaxPool2d(kernel_size=3, stride=2, padding=1),\n",
        "            *blocks,\n",
        "            nn.AdaptiveAvgPool2d(1), Flatten(),\n",
        "            nn.Linear(block_szs[-1]*expansion, c_out),\n",
        "        )\n",
        "        init_cnn(self)\n",
        "\n",
        "    def _make_layer(self, expansion, ni, nf, blocks, stride, sa, sym, act_cls):\n",
        "        return nn.Sequential(\n",
        "            *[ResBlock(expansion, ni if i==0 else nf, nf, stride if i==0 else 1,\n",
        "                      sa if i == (blocks-1) else False, sym=sym, act_cls=act_cls)\n",
        "              for i in range(blocks)])\n",
        "        \n",
        "def _myxresnet(pretrained, expansion, layers, **kwargs):\n",
        "    # TODO pretrain all sizes. Currently will fail with non-xrn50\n",
        "    url = 'https://s3.amazonaws.com/fast-ai-modelzoo/xrn50_940.pth'\n",
        "    res = myXResNet(expansion, layers, **kwargs)\n",
        "    if pretrained: res.load_state_dict(load_state_dict_from_url(url, map_location='cpu')['model'], strict=False)\n",
        "    return res\n",
        "\n",
        "def myxresnet50 (pretrained=False, **kwargs): return _myxresnet(pretrained, 4, [3, 4,  6, 3], **kwargs)"
      ],
      "execution_count": 0,
      "outputs": []
    },
    {
      "cell_type": "code",
      "metadata": {
        "id": "HvcMmmFXemfg",
        "colab_type": "code",
        "colab": {}
      },
      "source": [
        "def opt_func(ps, lr=defaults.lr): return Lookahead(RAdam(ps, wd=1e-2,mom=0.95, eps=1e-6,lr=lr))\n",
        "learn = Learner(dbch, myxresnet50(sa=True, c_out=10, act_cls=MishJit), opt_func=opt_func, loss_func=LabelSmoothingCrossEntropy(),\n",
        "                metrics=accuracy)"
      ],
      "execution_count": 0,
      "outputs": []
    },
    {
      "cell_type": "code",
      "metadata": {
        "id": "HUW6XAd5enxM",
        "colab_type": "code",
        "colab": {
          "base_uri": "https://localhost:8080/",
          "height": 198
        },
        "outputId": "4f9c21e1-d4bf-41f1-b663-b6841826edba"
      },
      "source": [
        "learn.fit_flat_cos(5, 4e-3)"
      ],
      "execution_count": 20,
      "outputs": [
        {
          "output_type": "display_data",
          "data": {
            "text/html": [
              "<table border=\"1\" class=\"dataframe\">\n",
              "  <thead>\n",
              "    <tr style=\"text-align: left;\">\n",
              "      <th>epoch</th>\n",
              "      <th>train_loss</th>\n",
              "      <th>valid_loss</th>\n",
              "      <th>accuracy</th>\n",
              "      <th>time</th>\n",
              "    </tr>\n",
              "  </thead>\n",
              "  <tbody>\n",
              "    <tr>\n",
              "      <td>0</td>\n",
              "      <td>1.946718</td>\n",
              "      <td>2.031813</td>\n",
              "      <td>0.346000</td>\n",
              "      <td>01:20</td>\n",
              "    </tr>\n",
              "    <tr>\n",
              "      <td>1</td>\n",
              "      <td>1.705437</td>\n",
              "      <td>2.231701</td>\n",
              "      <td>0.338000</td>\n",
              "      <td>01:19</td>\n",
              "    </tr>\n",
              "    <tr>\n",
              "      <td>2</td>\n",
              "      <td>1.544824</td>\n",
              "      <td>1.539842</td>\n",
              "      <td>0.534000</td>\n",
              "      <td>01:19</td>\n",
              "    </tr>\n",
              "    <tr>\n",
              "      <td>3</td>\n",
              "      <td>1.408360</td>\n",
              "      <td>1.399769</td>\n",
              "      <td>0.618000</td>\n",
              "      <td>01:19</td>\n",
              "    </tr>\n",
              "    <tr>\n",
              "      <td>4</td>\n",
              "      <td>1.218001</td>\n",
              "      <td>1.238784</td>\n",
              "      <td>0.694000</td>\n",
              "      <td>01:18</td>\n",
              "    </tr>\n",
              "  </tbody>\n",
              "</table>"
            ],
            "text/plain": [
              "<IPython.core.display.HTML object>"
            ]
          },
          "metadata": {
            "tags": []
          }
        }
      ]
    },
    {
      "cell_type": "markdown",
      "metadata": {
        "id": "n8Qd9ZAegi9z",
        "colab_type": "text"
      },
      "source": [
        "# v1"
      ]
    },
    {
      "cell_type": "code",
      "metadata": {
        "id": "oGsWfO85epA8",
        "colab_type": "code",
        "colab": {}
      },
      "source": [
        "from fastai.vision import *"
      ],
      "execution_count": 0,
      "outputs": []
    },
    {
      "cell_type": "code",
      "metadata": {
        "id": "FnG1VY3Mgldp",
        "colab_type": "code",
        "colab": {}
      },
      "source": [
        "def get_data(size, woof, bs, workers=None):\n",
        "    if   size<=128: path = URLs.IMAGEWOOF if woof else URLs.IMAGENETTE\n",
        "    elif size<=224: path = URLs.IMAGEWOOF_320 if woof else URLs.IMAGENETTE_320\n",
        "    else          : path = URLs.IMAGEWOOF     if woof else URLs.IMAGENETTE\n",
        "    path = untar_data(path)\n",
        "\n",
        "    n_gpus = num_distrib() or 1\n",
        "    if workers is None: workers = min(8, num_cpus()//n_gpus)\n",
        "\n",
        "    return (ImageList.from_folder(path).split_by_folder(valid='val')\n",
        "            .label_from_folder().transform(([flip_lr(p=0.5)], []), size=size)\n",
        "            .databunch(bs=bs, num_workers=workers)\n",
        "            .presize(size, scale=(0.35,1))\n",
        "            .normalize(imagenet_stats))"
      ],
      "execution_count": 0,
      "outputs": []
    },
    {
      "cell_type": "code",
      "metadata": {
        "id": "Lptu6XtPgmhA",
        "colab_type": "code",
        "colab": {}
      },
      "source": [
        "data = get_data(128, True, 64)"
      ],
      "execution_count": 0,
      "outputs": []
    },
    {
      "cell_type": "code",
      "metadata": {
        "id": "JVD6-Vssgnh_",
        "colab_type": "code",
        "colab": {
          "base_uri": "https://localhost:8080/",
          "height": 126
        },
        "outputId": "7675c67a-2a06-45ba-a252-d1a4d0bd276f"
      },
      "source": [
        "!git clone https://github.com/sdoria/mish"
      ],
      "execution_count": 4,
      "outputs": [
        {
          "output_type": "stream",
          "text": [
            "Cloning into 'mish'...\n",
            "remote: Enumerating objects: 46, done.\u001b[K\n",
            "remote: Counting objects: 100% (46/46), done.\u001b[K\n",
            "remote: Compressing objects: 100% (40/40), done.\u001b[K\n",
            "remote: Total 46 (delta 21), reused 19 (delta 6), pack-reused 0\u001b[K\n",
            "Unpacking objects: 100% (46/46), done.\n"
          ],
          "name": "stdout"
        }
      ]
    },
    {
      "cell_type": "code",
      "metadata": {
        "id": "edVNoiZJgphz",
        "colab_type": "code",
        "colab": {
          "base_uri": "https://localhost:8080/",
          "height": 54
        },
        "outputId": "7eb9c316-17d3-44e5-89af-8c27daa7f383"
      },
      "source": [
        "%cd mish\n",
        "from rangerlars import *\n",
        "from mish import *\n",
        "from mxresnet import *\n",
        "from ranger import *"
      ],
      "execution_count": 5,
      "outputs": [
        {
          "output_type": "stream",
          "text": [
            "/content/mish\n",
            "Mish activation loaded...\n"
          ],
          "name": "stdout"
        }
      ]
    },
    {
      "cell_type": "code",
      "metadata": {
        "id": "fTyqZw11gsER",
        "colab_type": "code",
        "colab": {}
      },
      "source": [
        "opt_func = partial(Ranger, betas=(0.95,0.99), eps=1e-6)\n",
        "learn = Learner(data, mxresnet50(c_out=10, sa=True), opt_func=opt_func,\n",
        "              loss_func=LabelSmoothingCrossEntropy(),\n",
        "               metrics=[accuracy])"
      ],
      "execution_count": 0,
      "outputs": []
    },
    {
      "cell_type": "code",
      "metadata": {
        "id": "wnrCQ-BvgyS6",
        "colab_type": "code",
        "colab": {
          "base_uri": "https://localhost:8080/",
          "height": 198
        },
        "outputId": "9a889ff2-8ff1-494c-87e9-29745741cd00"
      },
      "source": [
        "learn.fit_fc(5, 4e-3)"
      ],
      "execution_count": 7,
      "outputs": [
        {
          "output_type": "display_data",
          "data": {
            "text/html": [
              "<table border=\"1\" class=\"dataframe\">\n",
              "  <thead>\n",
              "    <tr style=\"text-align: left;\">\n",
              "      <th>epoch</th>\n",
              "      <th>train_loss</th>\n",
              "      <th>valid_loss</th>\n",
              "      <th>accuracy</th>\n",
              "      <th>time</th>\n",
              "    </tr>\n",
              "  </thead>\n",
              "  <tbody>\n",
              "    <tr>\n",
              "      <td>0</td>\n",
              "      <td>1.979952</td>\n",
              "      <td>1.864153</td>\n",
              "      <td>0.380000</td>\n",
              "      <td>01:15</td>\n",
              "    </tr>\n",
              "    <tr>\n",
              "      <td>1</td>\n",
              "      <td>1.684748</td>\n",
              "      <td>1.897907</td>\n",
              "      <td>0.396000</td>\n",
              "      <td>01:15</td>\n",
              "    </tr>\n",
              "    <tr>\n",
              "      <td>2</td>\n",
              "      <td>1.511680</td>\n",
              "      <td>1.433435</td>\n",
              "      <td>0.594000</td>\n",
              "      <td>01:15</td>\n",
              "    </tr>\n",
              "    <tr>\n",
              "      <td>3</td>\n",
              "      <td>1.450640</td>\n",
              "      <td>1.552928</td>\n",
              "      <td>0.562000</td>\n",
              "      <td>01:16</td>\n",
              "    </tr>\n",
              "    <tr>\n",
              "      <td>4</td>\n",
              "      <td>1.207790</td>\n",
              "      <td>1.134501</td>\n",
              "      <td>0.740000</td>\n",
              "      <td>01:16</td>\n",
              "    </tr>\n",
              "  </tbody>\n",
              "</table>"
            ],
            "text/plain": [
              "<IPython.core.display.HTML object>"
            ]
          },
          "metadata": {
            "tags": []
          }
        }
      ]
    },
    {
      "cell_type": "code",
      "metadata": {
        "id": "bkoZDdZQgzkN",
        "colab_type": "code",
        "colab": {}
      },
      "source": [
        ""
      ],
      "execution_count": 0,
      "outputs": []
    }
  ]
}