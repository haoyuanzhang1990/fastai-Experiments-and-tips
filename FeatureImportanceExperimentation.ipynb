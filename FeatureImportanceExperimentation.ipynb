{
  "nbformat": 4,
  "nbformat_minor": 0,
  "metadata": {
    "colab": {
      "name": "FeatureImportanceExperimentation.ipynb",
      "version": "0.3.2",
      "provenance": [],
      "collapsed_sections": [],
      "include_colab_link": true
    },
    "kernelspec": {
      "name": "python3",
      "display_name": "Python 3"
    },
    "accelerator": "GPU"
  },
  "cells": [
    {
      "cell_type": "markdown",
      "metadata": {
        "id": "view-in-github",
        "colab_type": "text"
      },
      "source": [
        "<a href=\"https://colab.research.google.com/github/muellerzr/FastAI-Experiments/blob/master/FeatureImportanceExperimentation.ipynb\" target=\"_parent\"><img src=\"https://colab.research.google.com/assets/colab-badge.svg\" alt=\"Open In Colab\"/></a>"
      ]
    },
    {
      "cell_type": "markdown",
      "metadata": {
        "id": "SdID7ka519ce",
        "colab_type": "text"
      },
      "source": [
        "# Feature Importance Verification\n",
        "\n",
        "In this notebook, I will be running a comparitive analysis to try to disprove the following hypothesis:\n",
        "\n",
        "If the current implementation of permutation selection for deep learning is correct, training a model without the same features should result in the loss being what was found in the original table.\n",
        "\n",
        "I will be using the ADULTs dataset first, as it is simpler to set up and grade, and then Rossman.\n",
        "\n",
        "The data will be split into 70% train, 20% validation, and 10% test randomly from `train_test_split` in the sklearn library.\n",
        "\n",
        "Each test will be done with five epochs."
      ]
    },
    {
      "cell_type": "markdown",
      "metadata": {
        "id": "4t9ddJc43CDo",
        "colab_type": "text"
      },
      "source": [
        "## Libraries"
      ]
    },
    {
      "cell_type": "code",
      "metadata": {
        "id": "Xz1tvarC1359",
        "colab_type": "code",
        "colab": {}
      },
      "source": [
        "from fastai import *\n",
        "from fastai.tabular import *\n",
        "from sklearn.model_selection import train_test_split"
      ],
      "execution_count": 0,
      "outputs": []
    },
    {
      "cell_type": "markdown",
      "metadata": {
        "id": "mt08R5ud3Dkd",
        "colab_type": "text"
      },
      "source": [
        "## Data"
      ]
    },
    {
      "cell_type": "code",
      "metadata": {
        "id": "b60jGNmB3Bhx",
        "colab_type": "code",
        "colab": {}
      },
      "source": [
        "path = untar_data(URLs.ADULT_SAMPLE)\n",
        "df = pd.read_csv(path/'adult.csv')"
      ],
      "execution_count": 0,
      "outputs": []
    },
    {
      "cell_type": "code",
      "metadata": {
        "id": "hz37NZ_pmOQq",
        "colab_type": "code",
        "colab": {}
      },
      "source": [
        "random_seed(5)"
      ],
      "execution_count": 0,
      "outputs": []
    },
    {
      "cell_type": "code",
      "metadata": {
        "id": "jfx6zvIz3Htu",
        "colab_type": "code",
        "colab": {
          "base_uri": "https://localhost:8080/",
          "height": 34
        },
        "outputId": "b89dc3c3-edbf-4dac-ed06-229fcc45d347"
      },
      "source": [
        "train, test = train_test_split(df, test_size = 0.1)\n",
        "len(train), len(test)"
      ],
      "execution_count": 61,
      "outputs": [
        {
          "output_type": "execute_result",
          "data": {
            "text/plain": [
              "(29304, 3257)"
            ]
          },
          "metadata": {
            "tags": []
          },
          "execution_count": 61
        }
      ]
    },
    {
      "cell_type": "code",
      "metadata": {
        "id": "LcEd6gz43WO0",
        "colab_type": "code",
        "colab": {}
      },
      "source": [
        "dep_var = 'salary'\n",
        "cats = ['workclass', 'education', 'marital-status', 'occupation', 'relationship', 'race']\n",
        "conts = ['age', 'fnlwgt', 'education-num']\n",
        "procs = [FillMissing, Categorify, Normalize]"
      ],
      "execution_count": 0,
      "outputs": []
    },
    {
      "cell_type": "code",
      "metadata": {
        "id": "uXTDvTaK3b3t",
        "colab_type": "code",
        "colab": {}
      },
      "source": [
        "data = (TabularList.from_df(train, path=path, cat_names=cats, cont_names=conts, \n",
        "                            procs=procs)\n",
        "                           .split_by_rand_pct(0.2)\n",
        "                           .label_from_df(cols=dep_var)\n",
        "                           .databunch())\n",
        "data_test = (TabularList.from_df(test, path=path, cat_names=cats, cont_names=conts, \n",
        "                            procs=procs, processor=data.processor)\n",
        "                           .split_none()\n",
        "                           .label_from_df(cols=dep_var)\n",
        "                           .databunch())"
      ],
      "execution_count": 0,
      "outputs": []
    },
    {
      "cell_type": "markdown",
      "metadata": {
        "id": "CKC3zIko3rQ1",
        "colab_type": "text"
      },
      "source": [
        "## Baseline"
      ]
    },
    {
      "cell_type": "code",
      "metadata": {
        "id": "XfxSuc963p7y",
        "colab_type": "code",
        "colab": {}
      },
      "source": [
        "learn = tabular_learner(data, layers=[200,100], metrics=accuracy)"
      ],
      "execution_count": 0,
      "outputs": []
    },
    {
      "cell_type": "code",
      "metadata": {
        "id": "51p_PWPb3xuh",
        "colab_type": "code",
        "colab": {
          "base_uri": "https://localhost:8080/",
          "height": 204
        },
        "outputId": "f921978c-0426-4101-a3f3-a477396c8e14"
      },
      "source": [
        "learn.fit_one_cycle(5, 1e-2)"
      ],
      "execution_count": 65,
      "outputs": [
        {
          "output_type": "display_data",
          "data": {
            "text/html": [
              "<table border=\"1\" class=\"dataframe\">\n",
              "  <thead>\n",
              "    <tr style=\"text-align: left;\">\n",
              "      <th>epoch</th>\n",
              "      <th>train_loss</th>\n",
              "      <th>valid_loss</th>\n",
              "      <th>accuracy</th>\n",
              "      <th>time</th>\n",
              "    </tr>\n",
              "  </thead>\n",
              "  <tbody>\n",
              "    <tr>\n",
              "      <td>0</td>\n",
              "      <td>0.358187</td>\n",
              "      <td>0.377014</td>\n",
              "      <td>0.825256</td>\n",
              "      <td>00:05</td>\n",
              "    </tr>\n",
              "    <tr>\n",
              "      <td>1</td>\n",
              "      <td>0.366855</td>\n",
              "      <td>0.362309</td>\n",
              "      <td>0.829863</td>\n",
              "      <td>00:05</td>\n",
              "    </tr>\n",
              "    <tr>\n",
              "      <td>2</td>\n",
              "      <td>0.357001</td>\n",
              "      <td>0.361940</td>\n",
              "      <td>0.830375</td>\n",
              "      <td>00:05</td>\n",
              "    </tr>\n",
              "    <tr>\n",
              "      <td>3</td>\n",
              "      <td>0.343896</td>\n",
              "      <td>0.355529</td>\n",
              "      <td>0.837713</td>\n",
              "      <td>00:05</td>\n",
              "    </tr>\n",
              "    <tr>\n",
              "      <td>4</td>\n",
              "      <td>0.342867</td>\n",
              "      <td>0.354512</td>\n",
              "      <td>0.838396</td>\n",
              "      <td>00:05</td>\n",
              "    </tr>\n",
              "  </tbody>\n",
              "</table>"
            ],
            "text/plain": [
              "<IPython.core.display.HTML object>"
            ]
          },
          "metadata": {
            "tags": []
          }
        }
      ]
    },
    {
      "cell_type": "markdown",
      "metadata": {
        "id": "fK2uheHM3_KZ",
        "colab_type": "text"
      },
      "source": [
        "## Feature Importance\n",
        "\n",
        "Here I will be using the permutation-based feature importance algorithm on the test set to derive the hypothetical overall importance"
      ]
    },
    {
      "cell_type": "code",
      "metadata": {
        "id": "heNMVi3E30Fk",
        "colab_type": "code",
        "colab": {}
      },
      "source": [
        "def feature_importance(learn:Learner, test:LabelList): \n",
        "    pd.options.mode.chained_assignment = None\n",
        "    # based on: https://medium.com/@mp.music93/neural-networks-feature-importance-with-fastai-5c393cf65815\n",
        "    data = learn.data.train_ds.x\n",
        "    cat_names = data.cat_names\n",
        "    cont_names = data.cont_names\n",
        "    loss0=np.array([learn.metrics[0](learn.pred_batch(batch=(x,y.to(\"cpu\"))), y.to(\"cpu\")) for x,y in iter(test.train_dl)]).mean()\n",
        "    #The above gives us our ground truth for our validation set\n",
        "    fi=dict()\n",
        "    types=[cat_names, cont_names]\n",
        "    with tqdm(total=len(data.col_names)) as pbar:\n",
        "      for j, t in enumerate(types): # for all of cat_names and cont_names\n",
        "        for i, c in enumerate(t):\n",
        "          loss=[]\n",
        "          for x,y in (iter(learn.data.valid_dl)): # for all values in validation set\n",
        "            col=x[j][:,i] # select one column of tensors\n",
        "            idx = torch.randperm(col.nelement()) # generate a random tensor\n",
        "            x[j][:,i] = col.view(-1)[idx].view(col.size()) # replace the old tensor with a new one\n",
        "            y=y.to('cpu')\n",
        "            loss.append(learn.metrics[0](learn.pred_batch(batch=(x,y)), y))\n",
        "          pbar.update(1)\n",
        "          fi[c]=np.array(loss).mean() # average loss - overall loss. Higher number = greater loss?\n",
        "    d = sorted(fi.items(), key=lambda kv: kv[1], reverse=False)\n",
        "    \n",
        "    df = pd.DataFrame({'Variable': [l for l, v in d], 'Accuracy': [v for l, v in d]})\n",
        "    df['Type'] = ''\n",
        "    for x in range(len(df)):\n",
        "      if df['Variable'].iloc[x] in cat_names:\n",
        "        df['Type'].iloc[x] = 'categorical'\n",
        "      if df['Variable'].iloc[x] in cont_names:\n",
        "        df['Type'].iloc[x] = 'continuous'\n",
        "    return df"
      ],
      "execution_count": 0,
      "outputs": []
    },
    {
      "cell_type": "code",
      "metadata": {
        "id": "qNCUzY3B4uvK",
        "colab_type": "code",
        "colab": {}
      },
      "source": [
        "from tqdm import tqdm"
      ],
      "execution_count": 0,
      "outputs": []
    },
    {
      "cell_type": "code",
      "metadata": {
        "id": "jCDLnFtmRstD",
        "colab_type": "code",
        "colab": {
          "base_uri": "https://localhost:8080/",
          "height": 34
        },
        "outputId": "4d26e0f6-9cab-45a1-e7fa-c58a584767ba"
      },
      "source": [
        "pred = feature_importance(learn, data_test)"
      ],
      "execution_count": 67,
      "outputs": [
        {
          "output_type": "stream",
          "text": [
            "100%|██████████| 10/10 [00:06<00:00,  1.40it/s]\n"
          ],
          "name": "stderr"
        }
      ]
    },
    {
      "cell_type": "code",
      "metadata": {
        "id": "eH-eVmy5R1Vd",
        "colab_type": "code",
        "colab": {
          "base_uri": "https://localhost:8080/",
          "height": 359
        },
        "outputId": "e02d2e56-89d1-4fa2-b64a-5cef1ebc255f"
      },
      "source": [
        "pred"
      ],
      "execution_count": 68,
      "outputs": [
        {
          "output_type": "execute_result",
          "data": {
            "text/html": [
              "<div>\n",
              "<style scoped>\n",
              "    .dataframe tbody tr th:only-of-type {\n",
              "        vertical-align: middle;\n",
              "    }\n",
              "\n",
              "    .dataframe tbody tr th {\n",
              "        vertical-align: top;\n",
              "    }\n",
              "\n",
              "    .dataframe thead th {\n",
              "        text-align: right;\n",
              "    }\n",
              "</style>\n",
              "<table border=\"1\" class=\"dataframe\">\n",
              "  <thead>\n",
              "    <tr style=\"text-align: right;\">\n",
              "      <th></th>\n",
              "      <th>Variable</th>\n",
              "      <th>Accuracy</th>\n",
              "      <th>Type</th>\n",
              "    </tr>\n",
              "  </thead>\n",
              "  <tbody>\n",
              "    <tr>\n",
              "      <th>0</th>\n",
              "      <td>marital-status</td>\n",
              "      <td>0.790214</td>\n",
              "      <td>categorical</td>\n",
              "    </tr>\n",
              "    <tr>\n",
              "      <th>1</th>\n",
              "      <td>age</td>\n",
              "      <td>0.811160</td>\n",
              "      <td>continuous</td>\n",
              "    </tr>\n",
              "    <tr>\n",
              "      <th>2</th>\n",
              "      <td>education-num</td>\n",
              "      <td>0.811915</td>\n",
              "      <td>continuous</td>\n",
              "    </tr>\n",
              "    <tr>\n",
              "      <th>3</th>\n",
              "      <td>occupation</td>\n",
              "      <td>0.816067</td>\n",
              "      <td>categorical</td>\n",
              "    </tr>\n",
              "    <tr>\n",
              "      <th>4</th>\n",
              "      <td>relationship</td>\n",
              "      <td>0.828559</td>\n",
              "      <td>categorical</td>\n",
              "    </tr>\n",
              "    <tr>\n",
              "      <th>5</th>\n",
              "      <td>education</td>\n",
              "      <td>0.832635</td>\n",
              "      <td>categorical</td>\n",
              "    </tr>\n",
              "    <tr>\n",
              "      <th>6</th>\n",
              "      <td>workclass</td>\n",
              "      <td>0.834333</td>\n",
              "      <td>categorical</td>\n",
              "    </tr>\n",
              "    <tr>\n",
              "      <th>7</th>\n",
              "      <td>fnlwgt</td>\n",
              "      <td>0.835862</td>\n",
              "      <td>continuous</td>\n",
              "    </tr>\n",
              "    <tr>\n",
              "      <th>8</th>\n",
              "      <td>race</td>\n",
              "      <td>0.836881</td>\n",
              "      <td>categorical</td>\n",
              "    </tr>\n",
              "    <tr>\n",
              "      <th>9</th>\n",
              "      <td>education-num_na</td>\n",
              "      <td>0.838240</td>\n",
              "      <td>categorical</td>\n",
              "    </tr>\n",
              "  </tbody>\n",
              "</table>\n",
              "</div>"
            ],
            "text/plain": [
              "           Variable  Accuracy         Type\n",
              "0    marital-status  0.790214  categorical\n",
              "1               age  0.811160   continuous\n",
              "2     education-num  0.811915   continuous\n",
              "3        occupation  0.816067  categorical\n",
              "4      relationship  0.828559  categorical\n",
              "5         education  0.832635  categorical\n",
              "6         workclass  0.834333  categorical\n",
              "7            fnlwgt  0.835862   continuous\n",
              "8              race  0.836881  categorical\n",
              "9  education-num_na  0.838240  categorical"
            ]
          },
          "metadata": {
            "tags": []
          },
          "execution_count": 68
        }
      ]
    },
    {
      "cell_type": "markdown",
      "metadata": {
        "id": "bXdBXLhO4-IJ",
        "colab_type": "text"
      },
      "source": [
        "So here, hypothetically what we should see is a boost in performance when we drop everything that is positive.\n",
        "\n",
        "Next I will get the actual ground truth level for the test set as well, to compare the baselines"
      ]
    },
    {
      "cell_type": "code",
      "metadata": {
        "id": "tW6z_43P49Up",
        "colab_type": "code",
        "colab": {
          "base_uri": "https://localhost:8080/",
          "height": 34
        },
        "outputId": "157cfa50-fc0f-4a3c-d2e3-569391c3c359"
      },
      "source": [
        "learn.data.valid_dl = data_test.train_dl\n",
        "learn.validate()"
      ],
      "execution_count": 69,
      "outputs": [
        {
          "output_type": "execute_result",
          "data": {
            "text/plain": [
              "[0.35173032, tensor(0.8431)]"
            ]
          },
          "metadata": {
            "tags": []
          },
          "execution_count": 69
        }
      ]
    },
    {
      "cell_type": "markdown",
      "metadata": {
        "id": "4OUPSqrA5QEQ",
        "colab_type": "text"
      },
      "source": [
        "**83.91%** is the baseline we will be going with"
      ]
    },
    {
      "cell_type": "markdown",
      "metadata": {
        "id": "koigZoSi5Tsw",
        "colab_type": "text"
      },
      "source": [
        "# Dropping Columns\n",
        "\n",
        "Here I make a for loop that drops a variable from the list, continues to the next and trains for 5, gets our test result, and continues on"
      ]
    },
    {
      "cell_type": "code",
      "metadata": {
        "id": "EJQa0p0hmFEz",
        "colab_type": "code",
        "colab": {}
      },
      "source": [
        " def random_seed(seed_value):\n",
        "    import random \n",
        "    random.seed(seed_value) # Python\n",
        "    import numpy as np\n",
        "    np.random.seed(seed_value) # cpu vars\n",
        "    import torch\n",
        "    torch.manual_seed(seed_value) # cpu  vars\n",
        "    \n",
        "    if torch.cuda.is_available(): \n",
        "        torch.cuda.manual_seed(seed_value)\n",
        "        torch.cuda.manual_seed_all(seed_value) # gpu vars\n",
        "        torch.backends.cudnn.deterministic = True  #needed\n",
        "        torch.backends.cudnn.benchmark = False"
      ],
      "execution_count": 0,
      "outputs": []
    },
    {
      "cell_type": "code",
      "metadata": {
        "id": "-ADxk-dhLmR4",
        "colab_type": "code",
        "colab": {}
      },
      "source": [
        "class DropTest:\n",
        "  def __init__(self, cat_vars:list, cont_vars:list, dep_var:str, df:DataFrame):\n",
        "    self.cats = cat_vars\n",
        "    self.conts = cont_vars\n",
        "    self.dep = dep_var\n",
        "    self.df = df\n",
        "    self.procs = [FillMissing, Categorify, Normalize]\n",
        "    self.res = pd.DataFrame(columns=['Variable', 'Accuracy'])\n",
        "    self.types = [self.cats, self.conts]\n",
        "    \n",
        "  def calc_drop(self):\n",
        "    train, test = train_test_split(self.df, test_size=0.1)\n",
        "    k = 0\n",
        "    for j, t in enumerate(self.types):\n",
        "      for i, c in enumerate(t):\n",
        "        random_seed(5)\n",
        "        cat_copy = self.cats.copy()\n",
        "        cont_copy = self.conts.copy()\n",
        "        if c in cat_copy:\n",
        "          cat_copy.remove(c)\n",
        "        else:\n",
        "          cont_copy.remove(c)\n",
        "        \n",
        "        df = self.df.drop(c, axis=1)\n",
        "        \n",
        "        data = (TabularList.from_df(train, path='', cat_names=cat_copy,\n",
        "                                   cont_names=cont_copy, procs=self.procs)\n",
        "               .split_by_rand_pct(0.2)\n",
        "               .label_from_df(cols=self.dep)\n",
        "               .databunch())\n",
        "        data_test = (TabularList.from_df(test, path='', cat_names=cat_copy,\n",
        "                                        cont_names=cont_copy, procs=self.procs,\n",
        "                                        processor=data.processor)\n",
        "                     .split_none()\n",
        "                     .label_from_df(cols=self.dep)\n",
        "                     .databunch())\n",
        "        learn = tabular_learner(data, layers=[200,100], metrics=accuracy)\n",
        "        learn.fit_one_cycle(5, 1e-2)\n",
        "        learn.data.valid_dl = data_test.train_dl\n",
        "        val = learn.validate()\n",
        "        val = float(val[1])\n",
        "        self.res.loc[k] = [str(c), val]\n",
        "        k += 1    \n",
        "    "
      ],
      "execution_count": 0,
      "outputs": []
    },
    {
      "cell_type": "code",
      "metadata": {
        "id": "BWtuiPxw6ynL",
        "colab_type": "code",
        "colab": {}
      },
      "source": [
        "t = DropTest(cats, conts, 'salary', df)"
      ],
      "execution_count": 0,
      "outputs": []
    },
    {
      "cell_type": "code",
      "metadata": {
        "id": "XhwMnd8U69RC",
        "colab_type": "code",
        "colab": {}
      },
      "source": [
        "t.calc_drop()"
      ],
      "execution_count": 0,
      "outputs": []
    },
    {
      "cell_type": "code",
      "metadata": {
        "id": "P4FErB2IErG-",
        "colab_type": "code",
        "colab": {}
      },
      "source": [
        "re= t.res"
      ],
      "execution_count": 0,
      "outputs": []
    },
    {
      "cell_type": "code",
      "metadata": {
        "id": "qO6_OUm9k77c",
        "colab_type": "code",
        "colab": {
          "base_uri": "https://localhost:8080/",
          "height": 328
        },
        "outputId": "c5ddd204-ab84-4d31-82df-30c195d67214"
      },
      "source": [
        "re.sort_values('Accuracy',ascending=False)"
      ],
      "execution_count": 77,
      "outputs": [
        {
          "output_type": "execute_result",
          "data": {
            "text/html": [
              "<div>\n",
              "<style scoped>\n",
              "    .dataframe tbody tr th:only-of-type {\n",
              "        vertical-align: middle;\n",
              "    }\n",
              "\n",
              "    .dataframe tbody tr th {\n",
              "        vertical-align: top;\n",
              "    }\n",
              "\n",
              "    .dataframe thead th {\n",
              "        text-align: right;\n",
              "    }\n",
              "</style>\n",
              "<table border=\"1\" class=\"dataframe\">\n",
              "  <thead>\n",
              "    <tr style=\"text-align: right;\">\n",
              "      <th></th>\n",
              "      <th>Variable</th>\n",
              "      <th>Accuracy</th>\n",
              "    </tr>\n",
              "  </thead>\n",
              "  <tbody>\n",
              "    <tr>\n",
              "      <th>2</th>\n",
              "      <td>marital-status</td>\n",
              "      <td>0.845000</td>\n",
              "    </tr>\n",
              "    <tr>\n",
              "      <th>5</th>\n",
              "      <td>race</td>\n",
              "      <td>0.843750</td>\n",
              "    </tr>\n",
              "    <tr>\n",
              "      <th>8</th>\n",
              "      <td>education-num</td>\n",
              "      <td>0.842812</td>\n",
              "    </tr>\n",
              "    <tr>\n",
              "      <th>0</th>\n",
              "      <td>workclass</td>\n",
              "      <td>0.842500</td>\n",
              "    </tr>\n",
              "    <tr>\n",
              "      <th>7</th>\n",
              "      <td>fnlwgt</td>\n",
              "      <td>0.839063</td>\n",
              "    </tr>\n",
              "    <tr>\n",
              "      <th>4</th>\n",
              "      <td>relationship</td>\n",
              "      <td>0.838437</td>\n",
              "    </tr>\n",
              "    <tr>\n",
              "      <th>1</th>\n",
              "      <td>education</td>\n",
              "      <td>0.837812</td>\n",
              "    </tr>\n",
              "    <tr>\n",
              "      <th>3</th>\n",
              "      <td>occupation</td>\n",
              "      <td>0.836875</td>\n",
              "    </tr>\n",
              "    <tr>\n",
              "      <th>6</th>\n",
              "      <td>age</td>\n",
              "      <td>0.829687</td>\n",
              "    </tr>\n",
              "  </tbody>\n",
              "</table>\n",
              "</div>"
            ],
            "text/plain": [
              "         Variable  Accuracy\n",
              "2  marital-status  0.845000\n",
              "5            race  0.843750\n",
              "8   education-num  0.842812\n",
              "0       workclass  0.842500\n",
              "7          fnlwgt  0.839063\n",
              "4    relationship  0.838437\n",
              "1       education  0.837812\n",
              "3      occupation  0.836875\n",
              "6             age  0.829687"
            ]
          },
          "metadata": {
            "tags": []
          },
          "execution_count": 77
        }
      ]
    },
    {
      "cell_type": "code",
      "metadata": {
        "id": "zto-DDurMu__",
        "colab_type": "code",
        "colab": {
          "base_uri": "https://localhost:8080/",
          "height": 359
        },
        "outputId": "5e9cd15f-c0f4-43ea-fe3d-87acb3738755"
      },
      "source": [
        "pred.sort_values('Accuracy', ascending=False)"
      ],
      "execution_count": 78,
      "outputs": [
        {
          "output_type": "execute_result",
          "data": {
            "text/html": [
              "<div>\n",
              "<style scoped>\n",
              "    .dataframe tbody tr th:only-of-type {\n",
              "        vertical-align: middle;\n",
              "    }\n",
              "\n",
              "    .dataframe tbody tr th {\n",
              "        vertical-align: top;\n",
              "    }\n",
              "\n",
              "    .dataframe thead th {\n",
              "        text-align: right;\n",
              "    }\n",
              "</style>\n",
              "<table border=\"1\" class=\"dataframe\">\n",
              "  <thead>\n",
              "    <tr style=\"text-align: right;\">\n",
              "      <th></th>\n",
              "      <th>Variable</th>\n",
              "      <th>Accuracy</th>\n",
              "      <th>Type</th>\n",
              "    </tr>\n",
              "  </thead>\n",
              "  <tbody>\n",
              "    <tr>\n",
              "      <th>9</th>\n",
              "      <td>education-num_na</td>\n",
              "      <td>0.838240</td>\n",
              "      <td>categorical</td>\n",
              "    </tr>\n",
              "    <tr>\n",
              "      <th>8</th>\n",
              "      <td>race</td>\n",
              "      <td>0.836881</td>\n",
              "      <td>categorical</td>\n",
              "    </tr>\n",
              "    <tr>\n",
              "      <th>7</th>\n",
              "      <td>fnlwgt</td>\n",
              "      <td>0.835862</td>\n",
              "      <td>continuous</td>\n",
              "    </tr>\n",
              "    <tr>\n",
              "      <th>6</th>\n",
              "      <td>workclass</td>\n",
              "      <td>0.834333</td>\n",
              "      <td>categorical</td>\n",
              "    </tr>\n",
              "    <tr>\n",
              "      <th>5</th>\n",
              "      <td>education</td>\n",
              "      <td>0.832635</td>\n",
              "      <td>categorical</td>\n",
              "    </tr>\n",
              "    <tr>\n",
              "      <th>4</th>\n",
              "      <td>relationship</td>\n",
              "      <td>0.828559</td>\n",
              "      <td>categorical</td>\n",
              "    </tr>\n",
              "    <tr>\n",
              "      <th>3</th>\n",
              "      <td>occupation</td>\n",
              "      <td>0.816067</td>\n",
              "      <td>categorical</td>\n",
              "    </tr>\n",
              "    <tr>\n",
              "      <th>2</th>\n",
              "      <td>education-num</td>\n",
              "      <td>0.811915</td>\n",
              "      <td>continuous</td>\n",
              "    </tr>\n",
              "    <tr>\n",
              "      <th>1</th>\n",
              "      <td>age</td>\n",
              "      <td>0.811160</td>\n",
              "      <td>continuous</td>\n",
              "    </tr>\n",
              "    <tr>\n",
              "      <th>0</th>\n",
              "      <td>marital-status</td>\n",
              "      <td>0.790214</td>\n",
              "      <td>categorical</td>\n",
              "    </tr>\n",
              "  </tbody>\n",
              "</table>\n",
              "</div>"
            ],
            "text/plain": [
              "           Variable  Accuracy         Type\n",
              "9  education-num_na  0.838240  categorical\n",
              "8              race  0.836881  categorical\n",
              "7            fnlwgt  0.835862   continuous\n",
              "6         workclass  0.834333  categorical\n",
              "5         education  0.832635  categorical\n",
              "4      relationship  0.828559  categorical\n",
              "3        occupation  0.816067  categorical\n",
              "2     education-num  0.811915   continuous\n",
              "1               age  0.811160   continuous\n",
              "0    marital-status  0.790214  categorical"
            ]
          },
          "metadata": {
            "tags": []
          },
          "execution_count": 78
        }
      ]
    },
    {
      "cell_type": "code",
      "metadata": {
        "id": "MdpPKwuNoxl_",
        "colab_type": "code",
        "colab": {}
      },
      "source": [
        ""
      ],
      "execution_count": 0,
      "outputs": []
    }
  ]
}