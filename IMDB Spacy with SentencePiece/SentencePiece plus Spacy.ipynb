{
 "cells": [
  {
   "cell_type": "code",
   "execution_count": 1,
   "metadata": {},
   "outputs": [],
   "source": [
    "from fastai.text import *"
   ]
  },
  {
   "cell_type": "code",
   "execution_count": 2,
   "metadata": {},
   "outputs": [
    {
     "name": "stdout",
     "output_type": "stream",
     "text": [
      "Requirement already satisfied: sentencepiece in /home/ml1/anaconda3/envs/fastai1/lib/python3.7/site-packages (0.1.83)\r\n"
     ]
    }
   ],
   "source": [
    "!pip install sentencepiece"
   ]
  },
  {
   "cell_type": "code",
   "execution_count": 3,
   "metadata": {},
   "outputs": [],
   "source": [
    "path = untar_data(URLs.IMDB)"
   ]
  },
  {
   "cell_type": "code",
   "execution_count": 3,
   "metadata": {},
   "outputs": [],
   "source": [
    "data_lm_spp_fwd = (TextList.from_folder(path, processor=[OpenFileProcessor(), SPProcessor()])\n",
    "                  .split_by_rand_pct(0.1, seed=42)\n",
    "                  .label_for_lm()\n",
    "                  .databunch(bs=128, num_workers=4))"
   ]
  },
  {
   "cell_type": "code",
   "execution_count": 4,
   "metadata": {},
   "outputs": [],
   "source": [
    "data_lm_spp_bwd = (TextList.from_folder(path, processor=[OpenFileProcessor(), SPProcessor()])\n",
    "                  .split_by_rand_pct(0.1, seed=42)\n",
    "                  .label_for_lm()\n",
    "                  .databunch(bs=128, num_workers=4, backwards=True))"
   ]
  },
  {
   "cell_type": "code",
   "execution_count": 5,
   "metadata": {},
   "outputs": [],
   "source": [
    "data_lm_spy_fwd = (TextList.from_folder(path)\n",
    "                  .split_by_rand_pct(0.1, seed=42)\n",
    "                  .label_for_lm()\n",
    "                  .databunch(bs=128, num_workers=4))"
   ]
  },
  {
   "cell_type": "code",
   "execution_count": 6,
   "metadata": {},
   "outputs": [],
   "source": [
    "data_lm_spy_bwd = (TextList.from_folder(path)\n",
    "                  .split_by_rand_pct(0.1, seed=42)\n",
    "                  .label_for_lm()\n",
    "                  .databunch(bs=128, num_workers=4, backwards=True))"
   ]
  },
  {
   "cell_type": "code",
   "execution_count": 7,
   "metadata": {},
   "outputs": [],
   "source": [
    "data_lm_spy_fwd.save('data_lm_spy_fwd')\n",
    "data_lm_spy_bwd.save('data_lm_spy_bwd')"
   ]
  },
  {
   "cell_type": "code",
   "execution_count": 8,
   "metadata": {},
   "outputs": [],
   "source": [
    "data_lm_spp_fwd.save('data_lm_spp_fwd')\n",
    "data_lm_spp_bwd.save('data_lm_spp_bwd')"
   ]
  },
  {
   "cell_type": "code",
   "execution_count": 4,
   "metadata": {},
   "outputs": [],
   "source": [
    "bs=128"
   ]
  },
  {
   "cell_type": "code",
   "execution_count": 12,
   "metadata": {},
   "outputs": [
    {
     "data": {
      "text/html": [
       "<table border=\"1\" class=\"dataframe\">\n",
       "  <thead>\n",
       "    <tr style=\"text-align: right;\">\n",
       "      <th>idx</th>\n",
       "      <th>text</th>\n",
       "    </tr>\n",
       "  </thead>\n",
       "  <tbody>\n",
       "    <tr>\n",
       "      <td>0</td>\n",
       "      <td>▁in ▁\" falling ▁xxmaj ▁from ▁xxmaj ▁grace \", ▁which ▁he ▁also ▁directed , ▁and ▁the ▁results ▁are ▁as ▁awkward ▁and ▁un be coming ▁as ▁that ▁title . ▁xxmaj ▁story ▁of ▁a ▁famous ▁singer ▁returning ▁to ▁his ▁hometown ▁in ▁the ▁sticks , ▁opening ▁up ▁old ▁family ▁wounds , ▁boasts ▁a ▁screenplay ▁by ▁xxmaj ▁larry ▁mcmurtry , ▁but ▁the ▁meandering ▁film ▁goes ▁nowhere ▁slowly . ▁xxmaj ▁the ▁supporting ▁cast ▁is ▁decent ,</td>\n",
       "    </tr>\n",
       "    <tr>\n",
       "      <td>1</td>\n",
       "      <td>▁the ▁xxmaj ▁lucy ▁stuff ▁along ▁with ▁the ▁character ▁with ▁the ▁tongue ▁piercing ▁- ▁at ▁first ▁i ▁thought ▁his ▁in decipherable ▁speech ▁would ▁run ▁me ▁up ▁a ▁wall , ▁but ▁he ▁grew ▁to ▁be ▁my ▁favorite ). ▁xxmaj ▁but ▁as ▁far ▁as ▁my ▁boyfriend ▁knows , ▁i ▁found ▁xxup ▁rat ▁xxup ▁race ▁quite ▁funny ▁and ▁charming . ▁xxbos ▁xxmaj ▁what ▁on ▁earth ? ▁xxmaj ▁like ▁watching ▁an ▁episode ▁of ▁xxmaj ▁neighbours</td>\n",
       "    </tr>\n",
       "    <tr>\n",
       "      <td>2</td>\n",
       "      <td>▁you ▁have ▁to ▁admit ▁it ▁has ▁been ▁totally ▁ruined ▁by ▁the ▁people ▁who ▁took ▁the ▁bill ▁over . ▁xxmaj ▁as ▁for ▁the ▁script ▁and ▁characters ▁they ▁have ▁both ▁gone ▁downhill , ▁most ▁of ▁the ▁great ▁characters ▁are ▁gone ▁now ▁( although ▁a ▁few ▁still ▁remain ▁i ▁think ) ▁and ▁xxmaj ▁i ' m ▁not ▁saying ▁that ▁the ▁newer ▁characters ▁are ▁poor ▁or ▁anything ▁because ▁they ▁definitely ▁aren ' t ,</td>\n",
       "    </tr>\n",
       "    <tr>\n",
       "      <td>3</td>\n",
       "      <td>▁except ▁for ▁the ▁kid ▁the ▁rest ▁of ▁the ▁acting ▁seems ▁self - conscious ▁and ▁kinda ▁lame . ▁xxmaj ▁save ▁yourself ▁from ▁this ▁and ▁watch ▁a ▁double ▁feature ▁of ▁\" in ▁xxmaj ▁cold ▁xxmaj ▁blood \" ▁and ▁\" the ▁xxmaj ▁hitcher \". ▁xxmaj ▁as ▁somebody ▁said , ▁this ▁would ▁never ▁have ▁been ▁made ▁if ▁xxmaj ▁jennifer ▁xxmaj ▁lynch ▁was ▁not ▁the ▁overrated ▁xxmaj ▁david ▁xxmaj ▁lynch ' s ▁daughter . ▁xxbos</td>\n",
       "    </tr>\n",
       "    <tr>\n",
       "      <td>4</td>\n",
       "      <td>▁think ▁this ▁could ▁have ▁been ▁great . ▁i ▁can ▁say ▁xxup ▁one ▁good ▁thing ▁about ▁it ▁which ▁is , ▁the ▁movie ▁shed ▁some ▁light ▁on ▁today ' s ▁unethical ▁medical ▁procedure s . ▁xxmaj ▁with ▁genetic s ▁and ▁controversial ▁science s ▁advancing , ▁this ▁could ▁have ▁been ▁a ▁great ▁philosophical ▁film ▁that ▁raises ▁and ▁discusses ▁these ▁questions . ▁xxmaj ▁but ▁you ▁won ' t ▁find ▁that ▁here , ▁just ▁a</td>\n",
       "    </tr>\n",
       "  </tbody>\n",
       "</table>"
      ],
      "text/plain": [
       "<IPython.core.display.HTML object>"
      ]
     },
     "metadata": {},
     "output_type": "display_data"
    }
   ],
   "source": [
    "data_lm_spp_fwd.show_batch()"
   ]
  },
  {
   "cell_type": "code",
   "execution_count": 11,
   "metadata": {},
   "outputs": [
    {
     "data": {
      "text/html": [
       "<table border=\"1\" class=\"dataframe\">\n",
       "  <thead>\n",
       "    <tr style=\"text-align: right;\">\n",
       "      <th>idx</th>\n",
       "      <th>text</th>\n",
       "    </tr>\n",
       "  </thead>\n",
       "  <tbody>\n",
       "    <tr>\n",
       "      <td>0</td>\n",
       "      <td>▁the ▁of ▁feel ▁overall ▁the ▁keep ▁to ▁enough ▁well ▁works ▁it ▁however ▁development ▁more ▁need ▁did ▁perhaps ▁which ▁characters ▁the ▁and ▁story ▁the ▁on ▁focused ▁me ▁kept ▁just ▁this ▁but ▁briefly ▁confusion ▁and ▁credible ▁between rope ▁tight ▁a ▁walk ▁does ▁it ▁xxmaj . ance lev re r ▁i ▁an ▁into ▁turning ▁from ▁it ▁keep ▁to ▁realism ▁enough ▁about ▁just ▁with ▁morbid ▁and ▁dark ▁is ▁it ▁xxmaj . ▁surprise ▁will ▁film</td>\n",
       "    </tr>\n",
       "    <tr>\n",
       "      <td>1</td>\n",
       "      <td>\" ▁rose ▁xxmaj the ▁\" , ▁joplin ▁xxmaj ▁janis ▁xxmaj ▁of ▁exploits roll ' n ' rock ' n ' s drug ' n ' ▁sex ▁young ▁die ▁certainly ▁most ▁will ▁you ▁much ▁too ▁this ▁like ▁live ▁you ▁if ▁and ▁happen ▁gonna ▁never t ' in ▁a ▁tomorrow ▁and ▁over ▁almost s ' ▁today ▁like ▁live , ▁hard ▁live , ▁fast ▁live pan - the - in - ▁flash life</td>\n",
       "    </tr>\n",
       "    <tr>\n",
       "      <td>2</td>\n",
       "      <td>s ' ▁he ▁thing ▁worse ▁the ▁about ▁be ▁must ▁this ▁but ▁director ▁this ▁worship ▁really ▁i ▁- ▁work s ' ▁ray ▁xxmaj ▁nicholas ▁xxmaj ▁of ▁fan ▁great ▁a ▁am ▁i , ▁no ▁xxmaj ! ▁wow ▁xxup . ▁face ▁his ▁burns ▁it ▁and ▁it ▁hits ▁bullet ▁a , ▁face ' s is ▁char ▁xxmaj d ▁cy ▁xxmaj ▁on ▁empty ▁to ▁threatened s ' ▁he ▁acid ric chlo ▁hydro ▁the ▁with ▁vial</td>\n",
       "    </tr>\n",
       "    <tr>\n",
       "      <td>3</td>\n",
       "      <td>▁he ▁xxmaj . ▁aviation ▁of ▁history ▁the ▁in ▁role ▁a ▁him ▁giving ▁in ▁successful ▁somewhat ▁was ▁that , ▁campaign ▁opinion ▁public ▁a ▁on ▁went ▁so , ▁soldier ▁playing ▁of ▁tired ▁was ▁kid ▁rich ▁this ▁xxmaj . ▁best ▁at ▁questionable ▁xxmaj ? s ▁flier ▁the ▁about ▁much ▁so ▁cared ▁he ▁because ▁career ▁military ▁his ▁sacrificed ▁he ▁xxmaj . ▁nature ▁in ▁angry ▁and ▁short ▁being , ▁portrayal ▁cooper ▁xxmaj ▁gary ▁xxmaj ▁the</td>\n",
       "    </tr>\n",
       "    <tr>\n",
       "      <td>4</td>\n",
       "      <td>s ▁assure ▁who , ▁britons ▁xxmaj ▁the ▁of ▁king ▁xxmaj , ▁arthur ▁xxmaj ▁plays ▁aherne ▁xxmaj ▁brian ▁xxmaj ... ▁britain ▁xxmaj ▁to ▁sea ▁xxmaj ▁north ▁xxmaj ▁the ▁across ▁son ▁and ▁wife ▁his ▁with ▁escapes ▁and ▁traitor ▁viking ▁xxmaj ▁a ▁by n ▁overthrow ▁was ▁who dia ▁scan ▁xxmaj ▁of ▁king ▁xxmaj ▁exiled ▁the ▁plays ▁crisp ▁xxmaj ▁donald ▁xxmaj ... ▁hand ▁his ▁in ▁knife ▁long ▁a ▁with ▁curtain ▁red ▁a ▁behind ▁hiding</td>\n",
       "    </tr>\n",
       "  </tbody>\n",
       "</table>"
      ],
      "text/plain": [
       "<IPython.core.display.HTML object>"
      ]
     },
     "metadata": {},
     "output_type": "display_data"
    }
   ],
   "source": [
    "data_lm_spp_bwd.show_batch()"
   ]
  },
  {
   "cell_type": "markdown",
   "metadata": {},
   "source": [
    "Something to note here, I had to half my batch size for spacy than I did for SentencePiece"
   ]
  },
  {
   "cell_type": "code",
   "execution_count": 3,
   "metadata": {},
   "outputs": [],
   "source": [
    "#data_lm_spy_fwd = load_data(path, 'data_lm_spy_fwd', bs=64)\n",
    "data_lm_spy_bwd = load_data(path, 'data_lm_spy_bwd', bs=64)\n",
    "#data_lm_spp_fwd = load_data(path, 'data_lm_spp_fwd', bs=bs)\n",
    "#data_lm_spp_bwd = load_data(path, 'data_lm_spp_bwd', bs=bs)"
   ]
  },
  {
   "cell_type": "code",
   "execution_count": 4,
   "metadata": {},
   "outputs": [],
   "source": [
    "#learn_lm_spy_fwd = language_model_learner(data_lm_spy_fwd, AWD_LSTM, drop_mult=1.).to_fp16()\n",
    "learn_lm_spy_bwd = language_model_learner(data_lm_spy_bwd, AWD_LSTM, drop_mult=1.).to_fp16()\n",
    "#learn_lm_spp_fwd = language_model_learner(data_lm_spp_fwd, AWD_LSTM, drop_mult=1.).to_fp16()\n",
    "#learn_lm_spp_bwd = language_model_learner(data_lm_spp_bwd, AWD_LSTM, drop_mult=1.).to_fp16()"
   ]
  },
  {
   "cell_type": "code",
   "execution_count": 6,
   "metadata": {},
   "outputs": [],
   "source": [
    "def train_spp(models:list):\n",
    "    names = ['fwd', 'bwd']\n",
    "    x = 0\n",
    "    for model in models:\n",
    "        lr = 1e-2\n",
    "        lr *= 64/48\n",
    "        \n",
    "        model.fit_one_cycle(1, lr, moms=(0.8,0.7))\n",
    "        model.unfreeze()\n",
    "        model.fit_one_cycle(10, lr/10, moms=(0.8,0.7))\n",
    "        \n",
    "        model.save(f'spp_{names[x]}_fine_tuned_10')\n",
    "        model.save_encoder(f'spp_{names[x]}_fine_tuned_enc_10')\n",
    "    return models"
   ]
  },
  {
   "cell_type": "code",
   "execution_count": 16,
   "metadata": {},
   "outputs": [],
   "source": [
    "spp = [learn_lm_spp_fwd, learn_lm_spp_bwd]"
   ]
  },
  {
   "cell_type": "code",
   "execution_count": 17,
   "metadata": {},
   "outputs": [
    {
     "data": {
      "text/html": [
       "<table border=\"1\" class=\"dataframe\">\n",
       "  <thead>\n",
       "    <tr style=\"text-align: left;\">\n",
       "      <th>epoch</th>\n",
       "      <th>train_loss</th>\n",
       "      <th>valid_loss</th>\n",
       "      <th>accuracy</th>\n",
       "      <th>time</th>\n",
       "    </tr>\n",
       "  </thead>\n",
       "  <tbody>\n",
       "    <tr>\n",
       "      <td>0</td>\n",
       "      <td>4.883421</td>\n",
       "      <td>4.475434</td>\n",
       "      <td>0.259205</td>\n",
       "      <td>09:02</td>\n",
       "    </tr>\n",
       "  </tbody>\n",
       "</table>"
      ],
      "text/plain": [
       "<IPython.core.display.HTML object>"
      ]
     },
     "metadata": {},
     "output_type": "display_data"
    },
    {
     "data": {
      "text/html": [
       "<table border=\"1\" class=\"dataframe\">\n",
       "  <thead>\n",
       "    <tr style=\"text-align: left;\">\n",
       "      <th>epoch</th>\n",
       "      <th>train_loss</th>\n",
       "      <th>valid_loss</th>\n",
       "      <th>accuracy</th>\n",
       "      <th>time</th>\n",
       "    </tr>\n",
       "  </thead>\n",
       "  <tbody>\n",
       "    <tr>\n",
       "      <td>0</td>\n",
       "      <td>4.389796</td>\n",
       "      <td>4.178662</td>\n",
       "      <td>0.288031</td>\n",
       "      <td>11:03</td>\n",
       "    </tr>\n",
       "    <tr>\n",
       "      <td>1</td>\n",
       "      <td>4.185341</td>\n",
       "      <td>3.984079</td>\n",
       "      <td>0.306550</td>\n",
       "      <td>11:03</td>\n",
       "    </tr>\n",
       "    <tr>\n",
       "      <td>2</td>\n",
       "      <td>4.058255</td>\n",
       "      <td>3.880229</td>\n",
       "      <td>0.315783</td>\n",
       "      <td>11:03</td>\n",
       "    </tr>\n",
       "    <tr>\n",
       "      <td>3</td>\n",
       "      <td>3.986962</td>\n",
       "      <td>3.810310</td>\n",
       "      <td>0.321954</td>\n",
       "      <td>11:03</td>\n",
       "    </tr>\n",
       "    <tr>\n",
       "      <td>4</td>\n",
       "      <td>3.903901</td>\n",
       "      <td>3.761481</td>\n",
       "      <td>0.326625</td>\n",
       "      <td>11:03</td>\n",
       "    </tr>\n",
       "    <tr>\n",
       "      <td>5</td>\n",
       "      <td>3.863414</td>\n",
       "      <td>3.720192</td>\n",
       "      <td>0.330722</td>\n",
       "      <td>11:03</td>\n",
       "    </tr>\n",
       "    <tr>\n",
       "      <td>6</td>\n",
       "      <td>3.798352</td>\n",
       "      <td>3.685059</td>\n",
       "      <td>0.334850</td>\n",
       "      <td>11:03</td>\n",
       "    </tr>\n",
       "    <tr>\n",
       "      <td>7</td>\n",
       "      <td>3.770201</td>\n",
       "      <td>3.659487</td>\n",
       "      <td>0.337535</td>\n",
       "      <td>11:03</td>\n",
       "    </tr>\n",
       "    <tr>\n",
       "      <td>8</td>\n",
       "      <td>3.748289</td>\n",
       "      <td>3.646533</td>\n",
       "      <td>0.339003</td>\n",
       "      <td>11:03</td>\n",
       "    </tr>\n",
       "    <tr>\n",
       "      <td>9</td>\n",
       "      <td>3.720302</td>\n",
       "      <td>3.644239</td>\n",
       "      <td>0.339358</td>\n",
       "      <td>11:08</td>\n",
       "    </tr>\n",
       "  </tbody>\n",
       "</table>"
      ],
      "text/plain": [
       "<IPython.core.display.HTML object>"
      ]
     },
     "metadata": {},
     "output_type": "display_data"
    },
    {
     "data": {
      "text/html": [
       "<table border=\"1\" class=\"dataframe\">\n",
       "  <thead>\n",
       "    <tr style=\"text-align: left;\">\n",
       "      <th>epoch</th>\n",
       "      <th>train_loss</th>\n",
       "      <th>valid_loss</th>\n",
       "      <th>accuracy</th>\n",
       "      <th>time</th>\n",
       "    </tr>\n",
       "  </thead>\n",
       "  <tbody>\n",
       "    <tr>\n",
       "      <td>0</td>\n",
       "      <td>4.876645</td>\n",
       "      <td>4.478288</td>\n",
       "      <td>0.258725</td>\n",
       "      <td>09:07</td>\n",
       "    </tr>\n",
       "  </tbody>\n",
       "</table>"
      ],
      "text/plain": [
       "<IPython.core.display.HTML object>"
      ]
     },
     "metadata": {},
     "output_type": "display_data"
    },
    {
     "data": {
      "text/html": [
       "<table border=\"1\" class=\"dataframe\">\n",
       "  <thead>\n",
       "    <tr style=\"text-align: left;\">\n",
       "      <th>epoch</th>\n",
       "      <th>train_loss</th>\n",
       "      <th>valid_loss</th>\n",
       "      <th>accuracy</th>\n",
       "      <th>time</th>\n",
       "    </tr>\n",
       "  </thead>\n",
       "  <tbody>\n",
       "    <tr>\n",
       "      <td>0</td>\n",
       "      <td>4.386280</td>\n",
       "      <td>4.180806</td>\n",
       "      <td>0.288211</td>\n",
       "      <td>11:05</td>\n",
       "    </tr>\n",
       "    <tr>\n",
       "      <td>1</td>\n",
       "      <td>4.188785</td>\n",
       "      <td>3.987173</td>\n",
       "      <td>0.305835</td>\n",
       "      <td>11:04</td>\n",
       "    </tr>\n",
       "    <tr>\n",
       "      <td>2</td>\n",
       "      <td>4.056161</td>\n",
       "      <td>3.883110</td>\n",
       "      <td>0.315304</td>\n",
       "      <td>11:04</td>\n",
       "    </tr>\n",
       "    <tr>\n",
       "      <td>3</td>\n",
       "      <td>3.980397</td>\n",
       "      <td>3.812036</td>\n",
       "      <td>0.322104</td>\n",
       "      <td>11:04</td>\n",
       "    </tr>\n",
       "    <tr>\n",
       "      <td>4</td>\n",
       "      <td>3.930524</td>\n",
       "      <td>3.761867</td>\n",
       "      <td>0.326424</td>\n",
       "      <td>11:04</td>\n",
       "    </tr>\n",
       "    <tr>\n",
       "      <td>5</td>\n",
       "      <td>3.878114</td>\n",
       "      <td>3.720055</td>\n",
       "      <td>0.330980</td>\n",
       "      <td>11:04</td>\n",
       "    </tr>\n",
       "    <tr>\n",
       "      <td>6</td>\n",
       "      <td>3.814773</td>\n",
       "      <td>3.685790</td>\n",
       "      <td>0.334599</td>\n",
       "      <td>11:04</td>\n",
       "    </tr>\n",
       "    <tr>\n",
       "      <td>7</td>\n",
       "      <td>3.769166</td>\n",
       "      <td>3.660256</td>\n",
       "      <td>0.337389</td>\n",
       "      <td>11:07</td>\n",
       "    </tr>\n",
       "    <tr>\n",
       "      <td>8</td>\n",
       "      <td>3.726383</td>\n",
       "      <td>3.647091</td>\n",
       "      <td>0.339009</td>\n",
       "      <td>11:04</td>\n",
       "    </tr>\n",
       "    <tr>\n",
       "      <td>9</td>\n",
       "      <td>3.701745</td>\n",
       "      <td>3.644547</td>\n",
       "      <td>0.339339</td>\n",
       "      <td>11:04</td>\n",
       "    </tr>\n",
       "  </tbody>\n",
       "</table>"
      ],
      "text/plain": [
       "<IPython.core.display.HTML object>"
      ]
     },
     "metadata": {},
     "output_type": "display_data"
    }
   ],
   "source": [
    "spp = train_spp(spp)"
   ]
  },
  {
   "cell_type": "code",
   "execution_count": 7,
   "metadata": {},
   "outputs": [],
   "source": [
    "def train_spy(models:list):\n",
    "    names = ['fwd', 'bwd']\n",
    "    x = 0\n",
    "    for model in models:\n",
    "        lr = 1e-2\n",
    "        lr *= 64/48\n",
    "        \n",
    "        model.fit_one_cycle(1, lr, moms=(0.8,0.7))\n",
    "        model.unfreeze()\n",
    "        model.fit_one_cycle(10, lr/10, moms=(0.8,0.7))\n",
    "        \n",
    "        model.save(f'spy_{names[x]}_fine_tuned_10')\n",
    "        model.save_encoder(f'spy_{names[x]}_fine_tuned_enc_10')\n",
    "        x += 1\n",
    "    return models"
   ]
  },
  {
   "cell_type": "code",
   "execution_count": 27,
   "metadata": {},
   "outputs": [],
   "source": [
    "fwd.save('spp_fwd_fine_tuned_10')\n",
    "fwd.save_encoder('spp_fwd_fine_tuned_enc_10')\n",
    "\n",
    "bwd.save('spp_bwd_fine_tuned_10')\n",
    "bwd.save_encoder('spp_bwd_fine_tuned_enc_10')"
   ]
  },
  {
   "cell_type": "code",
   "execution_count": 23,
   "metadata": {},
   "outputs": [
    {
     "data": {
      "text/plain": [
       "'In the movie he went  ▁through ▁many ▁startling ▁facts ▁and ▁i ▁disliked ▁that , ▁and ▁i ▁forgot'"
      ]
     },
     "execution_count": 23,
     "metadata": {},
     "output_type": "execute_result"
    }
   ],
   "source": [
    "fwd.predict(\"In the movie he went \", n_words=12)"
   ]
  },
  {
   "cell_type": "code",
   "execution_count": 24,
   "metadata": {},
   "outputs": [
    {
     "data": {
      "text/plain": [
       "' went he movie in the ▁theatre ▁and ▁looked ▁gorgeous , ▁norwegian , hai c ing ▁ m'"
      ]
     },
     "execution_count": 24,
     "metadata": {},
     "output_type": "execute_result"
    }
   ],
   "source": [
    "bwd.predict(\" went he movie in the\", n_words=12)"
   ]
  },
  {
   "cell_type": "code",
   "execution_count": 28,
   "metadata": {},
   "outputs": [],
   "source": [
    "del learn_lm_spp_fwd, learn_lm_spp_bwd"
   ]
  },
  {
   "cell_type": "code",
   "execution_count": 5,
   "metadata": {},
   "outputs": [],
   "source": [
    "spy = [learn_lm_spy_fwd, learn_lm_spy_bwd]"
   ]
  },
  {
   "cell_type": "code",
   "execution_count": null,
   "metadata": {},
   "outputs": [],
   "source": [
    "learn_lm_spy_fwd.save('spy_bwd_fine_tuned_10')\n",
    "learn_lm_spy_bwd.save_encoder('spy_bwd_fine_tuned_enc_10')"
   ]
  },
  {
   "cell_type": "code",
   "execution_count": 8,
   "metadata": {},
   "outputs": [
    {
     "data": {
      "text/html": [
       "<table border=\"1\" class=\"dataframe\">\n",
       "  <thead>\n",
       "    <tr style=\"text-align: left;\">\n",
       "      <th>epoch</th>\n",
       "      <th>train_loss</th>\n",
       "      <th>valid_loss</th>\n",
       "      <th>accuracy</th>\n",
       "      <th>time</th>\n",
       "    </tr>\n",
       "  </thead>\n",
       "  <tbody>\n",
       "    <tr>\n",
       "      <td>0</td>\n",
       "      <td>4.557103</td>\n",
       "      <td>4.168650</td>\n",
       "      <td>0.281016</td>\n",
       "      <td>19:19</td>\n",
       "    </tr>\n",
       "  </tbody>\n",
       "</table>"
      ],
      "text/plain": [
       "<IPython.core.display.HTML object>"
      ]
     },
     "metadata": {},
     "output_type": "display_data"
    },
    {
     "data": {
      "text/html": [
       "<table border=\"1\" class=\"dataframe\">\n",
       "  <thead>\n",
       "    <tr style=\"text-align: left;\">\n",
       "      <th>epoch</th>\n",
       "      <th>train_loss</th>\n",
       "      <th>valid_loss</th>\n",
       "      <th>accuracy</th>\n",
       "      <th>time</th>\n",
       "    </tr>\n",
       "  </thead>\n",
       "  <tbody>\n",
       "    <tr>\n",
       "      <td>0</td>\n",
       "      <td>4.238433</td>\n",
       "      <td>3.989669</td>\n",
       "      <td>0.299238</td>\n",
       "      <td>21:39</td>\n",
       "    </tr>\n",
       "    <tr>\n",
       "      <td>1</td>\n",
       "      <td>4.120093</td>\n",
       "      <td>3.887116</td>\n",
       "      <td>0.311754</td>\n",
       "      <td>21:38</td>\n",
       "    </tr>\n",
       "    <tr>\n",
       "      <td>2</td>\n",
       "      <td>4.009548</td>\n",
       "      <td>3.822133</td>\n",
       "      <td>0.319269</td>\n",
       "      <td>21:37</td>\n",
       "    </tr>\n",
       "    <tr>\n",
       "      <td>3</td>\n",
       "      <td>3.936315</td>\n",
       "      <td>3.775987</td>\n",
       "      <td>0.323969</td>\n",
       "      <td>21:36</td>\n",
       "    </tr>\n",
       "    <tr>\n",
       "      <td>4</td>\n",
       "      <td>3.900668</td>\n",
       "      <td>3.738880</td>\n",
       "      <td>0.327523</td>\n",
       "      <td>21:37</td>\n",
       "    </tr>\n",
       "    <tr>\n",
       "      <td>5</td>\n",
       "      <td>3.852062</td>\n",
       "      <td>3.710293</td>\n",
       "      <td>0.330702</td>\n",
       "      <td>21:36</td>\n",
       "    </tr>\n",
       "    <tr>\n",
       "      <td>6</td>\n",
       "      <td>3.823719</td>\n",
       "      <td>3.686684</td>\n",
       "      <td>0.333518</td>\n",
       "      <td>21:37</td>\n",
       "    </tr>\n",
       "    <tr>\n",
       "      <td>7</td>\n",
       "      <td>3.782057</td>\n",
       "      <td>3.668081</td>\n",
       "      <td>0.335387</td>\n",
       "      <td>21:38</td>\n",
       "    </tr>\n",
       "    <tr>\n",
       "      <td>8</td>\n",
       "      <td>3.746465</td>\n",
       "      <td>3.658115</td>\n",
       "      <td>0.336526</td>\n",
       "      <td>21:37</td>\n",
       "    </tr>\n",
       "    <tr>\n",
       "      <td>9</td>\n",
       "      <td>3.726929</td>\n",
       "      <td>3.656048</td>\n",
       "      <td>0.336814</td>\n",
       "      <td>21:37</td>\n",
       "    </tr>\n",
       "  </tbody>\n",
       "</table>"
      ],
      "text/plain": [
       "<IPython.core.display.HTML object>"
      ]
     },
     "metadata": {},
     "output_type": "display_data"
    },
    {
     "data": {
      "text/html": [
       "<table border=\"1\" class=\"dataframe\">\n",
       "  <thead>\n",
       "    <tr style=\"text-align: left;\">\n",
       "      <th>epoch</th>\n",
       "      <th>train_loss</th>\n",
       "      <th>valid_loss</th>\n",
       "      <th>accuracy</th>\n",
       "      <th>time</th>\n",
       "    </tr>\n",
       "  </thead>\n",
       "  <tbody>\n",
       "    <tr>\n",
       "      <td>0</td>\n",
       "      <td>4.576990</td>\n",
       "      <td>4.167772</td>\n",
       "      <td>0.280601</td>\n",
       "      <td>19:20</td>\n",
       "    </tr>\n",
       "  </tbody>\n",
       "</table>"
      ],
      "text/plain": [
       "<IPython.core.display.HTML object>"
      ]
     },
   "source": [
    "spy = train_spy(spy)"
   ]
  },
  {
   "cell_type": "code",
   "execution_count": 6,
   "metadata": {},
   "outputs": [
    {
     "data": {
      "text/plain": [
       "PosixPath('/home/ml1/.fastai/data/imdb')"
      ]
     },
     "execution_count": 6,
     "metadata": {},
     "output_type": "execute_result"
    }
   ],
   "source": [
    "learn_lm_spy_bwd.path"
   ]
  },
  {
   "cell_type": "code",
   "execution_count": 5,
   "metadata": {},
   "outputs": [
    {
     "data": {
      "text/html": [
       "<table border=\"1\" class=\"dataframe\">\n",
       "  <thead>\n",
       "    <tr style=\"text-align: left;\">\n",
       "      <th>epoch</th>\n",
       "      <th>train_loss</th>\n",
       "      <th>valid_loss</th>\n",
       "      <th>accuracy</th>\n",
       "      <th>time</th>\n",
       "    </tr>\n",
       "  </thead>\n",
       "  <tbody>\n",
       "    <tr>\n",
       "      <td>0</td>\n",
       "      <td>4.564993</td>\n",
       "      <td>4.169662</td>\n",
       "      <td>0.280698</td>\n",
       "      <td>19:19</td>\n",
       "    </tr>\n",
       "  </tbody>\n",
       "</table>"
      ],
      "text/plain": [
       "<IPython.core.display.HTML object>"
      ]
     },
     "metadata": {},
     "output_type": "display_data"
    },
    {
     "data": {
      "text/html": [
       "<table border=\"1\" class=\"dataframe\">\n",
       "  <thead>\n",
       "    <tr style=\"text-align: left;\">\n",
       "      <th>epoch</th>\n",
       "      <th>train_loss</th>\n",
       "      <th>valid_loss</th>\n",
       "      <th>accuracy</th>\n",
       "      <th>time</th>\n",
       "    </tr>\n",
       "  </thead>\n",
       "  <tbody>\n",
       "    <tr>\n",
       "      <td>0</td>\n",
       "      <td>4.225101</td>\n",
       "      <td>3.989311</td>\n",
       "      <td>0.299099</td>\n",
       "      <td>21:40</td>\n",
       "    </tr>\n",
       "    <tr>\n",
       "      <td>1</td>\n",
       "      <td>4.095927</td>\n",
       "      <td>3.886050</td>\n",
       "      <td>0.311873</td>\n",
       "      <td>21:38</td>\n",
       "    </tr>\n",
       "    <tr>\n",
       "      <td>2</td>\n",
       "      <td>3.997450</td>\n",
       "      <td>3.822613</td>\n",
       "      <td>0.318780</td>\n",
       "      <td>21:37</td>\n",
       "    </tr>\n",
       "    <tr>\n",
       "      <td>3</td>\n",
       "      <td>3.961267</td>\n",
       "      <td>3.773719</td>\n",
       "      <td>0.324190</td>\n",
       "      <td>21:37</td>\n",
       "    </tr>\n",
       "    <tr>\n",
       "      <td>4</td>\n",
       "      <td>3.894408</td>\n",
       "      <td>3.738152</td>\n",
       "      <td>0.327810</td>\n",
       "      <td>21:37</td>\n",
       "    </tr>\n",
       "    <tr>\n",
       "      <td>5</td>\n",
       "      <td>3.863802</td>\n",
       "      <td>3.709407</td>\n",
       "      <td>0.330906</td>\n",
       "      <td>21:37</td>\n",
       "    </tr>\n",
       "    <tr>\n",
       "      <td>6</td>\n",
       "      <td>3.822849</td>\n",
       "      <td>3.685769</td>\n",
       "      <td>0.333470</td>\n",
       "      <td>21:38</td>\n",
       "    </tr>\n",
       "    <tr>\n",
       "      <td>7</td>\n",
       "      <td>3.793049</td>\n",
       "      <td>3.667193</td>\n",
       "      <td>0.335389</td>\n",
       "      <td>21:39</td>\n",
       "    </tr>\n",
       "    <tr>\n",
       "      <td>8</td>\n",
       "      <td>3.747148</td>\n",
       "      <td>3.657768</td>\n",
       "      <td>0.336488</td>\n",
       "      <td>21:37</td>\n",
       "    </tr>\n",
       "    <tr>\n",
       "      <td>9</td>\n",
       "      <td>3.754234</td>\n",
       "      <td>3.655511</td>\n",
       "      <td>0.336740</td>\n",
       "      <td>21:37</td>\n",
       "    </tr>\n",
       "  </tbody>\n",
       "</table>"
      ],
      "text/plain": [
       "<IPython.core.display.HTML object>"
      ]
     },
     "metadata": {},
     "output_type": "display_data"
    }
   ],
   "source": [
    "lr = 1e-2\n",
    "lr *= 64/48\n",
    "\n",
    "learn_lm_spy_bwd.fit_one_cycle(1, lr, moms=(0.8,0.7))\n",
    "learn_lm_spy_bwd.unfreeze()\n",
    "learn_lm_spy_bwd.fit_one_cycle(10, lr/10, moms=(0.8,0.7))\n",
    "\n",
    "learn_lm_spy_bwd.save(f'spy_bwd_fine_tuned_10')\n",
    "learn_lm_spy_bwd.save_encoder(f'spy_bwd_fine_tuned_enc_10')"
   ]
  },
  {
   "cell_type": "code",
   "execution_count": 5,
   "metadata": {},
   "outputs": [],
   "source": [
    "data_lm_spy_fwd = load_data(path, 'data_lm_spy_fwd', bs=32)\n",
    "data_lm_spy_bwd = load_data(path, 'data_lm_spy_bwd', bs=32)\n",
    "data_lm_spp_fwd = load_data(path, 'data_lm_spp_fwd', bs=32)\n",
    "data_lm_spp_bwd = load_data(path, 'data_lm_spp_bwd', bs=32)"
   ]
  },
  {
   "cell_type": "code",
   "execution_count": 5,
   "metadata": {},
   "outputs": [],
   "source": [
    "data_clas_spy_fwd = (TextList.from_folder(path, vocab=data_lm_spy_fwd.vocab)\n",
    "             .split_by_folder(valid='test')\n",
    "             .label_from_folder(classes=['neg', 'pos'])\n",
    "             .databunch(bs=32, num_workers=2))\n",
    "\n",
    "data_clas_spy_bwd = (TextList.from_folder(path, vocab=data_lm_spy_bwd.vocab)\n",
    "             .split_by_folder(valid='test')\n",
    "             .label_from_folder(classes=['neg', 'pos'])\n",
    "             .databunch(bs=32, num_workers=2, backwards=True))\n",
    "\n",
    "data_clas_spp_fwd = (TextList.from_folder(path, vocab=data_lm_spp_fwd.vocab,\n",
    "                                  processor=[OpenFileProcessor(), SPProcessor.load(path)])\n",
    "             .split_by_folder(valid='test')\n",
    "             .label_from_folder(classes=['neg', 'pos'])\n",
    "             .databunch(bs=32, num_workers=2))\n",
    "\n",
    "data_clas_spp_bwd = (TextList.from_folder(path, vocab=data_lm_spp_bwd.vocab,\n",
    "                                  processor=[OpenFileProcessor(), SPProcessor.load(path)])\n",
    "             .split_by_folder(valid='test')\n",
    "             .label_from_folder(classes=['neg', 'pos'])\n",
    "             .databunch(bs=64, num_workers=2, backwards=True))"
   ]
  },
  {
   "cell_type": "code",
   "execution_count": 6,
   "metadata": {},
   "outputs": [],
   "source": [
    "data_clas_spy_fwd.save('data_clas_spy_fwd')\n",
    "data_clas_spy_bwd.save('data_clas_spy_bwd')\n",
    "data_clas_spp_fwd.save('data_clas_spp_fwd')\n",
    "data_clas_spp_bwd.save('data_clas_spp_bwd')"
   ]
  },
  {
   "cell_type": "code",
   "execution_count": 9,
   "metadata": {},
   "outputs": [],
   "source": [
    "path_m = path/'models'"
   ]
  },
  {
   "cell_type": "code",
   "execution_count": 4,
   "metadata": {},
   "outputs": [],
   "source": [
    "data_clas_spy_fwd = load_data(path, 'data_clas_spy_fwd', bs=8)\n",
    "data_clas_spy_bwd = load_data(path,'data_clas_spy_bwd', bs=8)\n",
    "data_clas_spp_fwd = load_data(path,'data_clas_spp_fwd', bs=8)\n",
    "data_clas_spp_bwd = load_data(path,'data_clas_spp_bwd', bs=8)"
   ]
  },
  {
   "cell_type": "code",
   "execution_count": 5,
   "metadata": {},
   "outputs": [],
   "source": [
    "learn_clas_spy_fwd = text_classifier_learner(data_clas_spy_fwd, AWD_LSTM, drop_mult=0.5)\n",
    "learn_clas_spy_bwd = text_classifier_learner(data_clas_spy_bwd, AWD_LSTM, drop_mult=0.5)\n",
    "learn_clas_spp_fwd = text_classifier_learner(data_clas_spp_fwd, AWD_LSTM, drop_mult=0.5)\n",
    "learn_clas_spp_bwd = text_classifier_learner(data_clas_spp_bwd, AWD_LSTM, drop_mult=0.5)"
   ]
  },
  {
   "cell_type": "code",
   "execution_count": 6,
   "metadata": {},
   "outputs": [],
   "source": [
    "learn_clas_spy_fwd.load_encoder('spy_fwd_fine_tuned_enc_10')\n",
    "learn_clas_spy_bwd.load_encoder('spy_bwd_fine_tuned_enc_10')\n",
    "learn_clas_spp_fwd.load_encoder('spp_fwd_fine_tuned_enc_10')\n",
    "learn_clas_spp_bwd.load_encoder('spp_bwd_fine_tuned_enc_10')\n",
    "learn_clas_spy_fwd.freeze()\n",
    "learn_clas_spy_bwd.freeze()\n",
    "learn_clas_spp_fwd.freeze()\n",
    "learn_clas_spp_bwd.freeze()"
   ]
  },
  {
   "cell_type": "code",
   "execution_count": 7,
   "metadata": {},
   "outputs": [],
   "source": [
    "lr = 2e-2"
   ]
  },
  {
   "cell_type": "code",
   "execution_count": 8,
   "metadata": {},
   "outputs": [],
   "source": [
    "learns = [learn_clas_spy_fwd, learn_clas_spy_bwd, learn_clas_spp_fwd, \n",
    "         learn_clas_spp_bwd]"
   ]
  },
  {
   "cell_type": "code",
   "execution_count": 9,
   "metadata": {},
   "outputs": [],
   "source": [
    "res = []\n",
    "targs = []\n",
    "for learn in learns:\n",
    "    learn.fit_one_cycle(1, lr, moms=(0.8,0.7))\n",
    "    learn.freeze_to(-2)\n",
    "    learn.fit_one_cycle(1, slice(lr/(2.6**4), lr), moms=(0.8,0.7))\n",
    "    learn.freeze_to(-3)\n",
    "    learn.fit_one_cycle(1, slice(lr/2/(2.6**4), lr/2), moms=(0.8,0.7))\n",
    "    learn.unfreeze()\n",
    "    learn.fit_one_cycle(2, slice(lr/10/(2.6**4), lr/10), moms=(0.8,0.7))\n",
    "    \n",
    "    preds, targ = learn.get_preds(ordered=True)\n",
    "    res.append(preds)\n",
    "    targs.append(targ)"
   ]
  },
  {
   "cell_type": "code",
   "execution_count": 11,
   "metadata": {},
   "outputs": [],
   "source": [
    "learns[0].save('clas_spy_fwd')\n",
    "learns[1].save('clas_spy_bwd')\n",
    "learns[2].save('clas_spp_fwd')\n",
    "learns[3].save('clas_spp_bwd')\n"
   ]
  },
  {
   "cell_type": "code",
   "execution_count": 15,
   "metadata": {},
   "outputs": [
    {
     "data": {
      "text/plain": [
       "4"
      ]
     },
     "execution_count": 15,
     "metadata": {},
     "output_type": "execute_result"
    }
   ],
   "source": [
    "len(res)"
   ]
  },
  {
   "cell_type": "code",
   "execution_count": 16,
   "metadata": {},
   "outputs": [],
   "source": [
    "preds_avg = (res[0] + res[1] + res[2] + res[3])/4"
   ]
  },
  {
   "cell_type": "code",
   "execution_count": 28,
   "metadata": {},
   "outputs": [
    {
     "data": {
      "text/plain": [
       "tensor(0.9449)"
      ]
     },
     "execution_count": 28,
     "metadata": {},
     "output_type": "execute_result"
    }
   ],
   "source": [
    "accuracy(res[0], targs[0])"
   ]
  },
  {
   "cell_type": "code",
   "execution_count": 17,
   "metadata": {},
   "outputs": [
    {
     "data": {
      "text/plain": [
       "tensor(True)"
      ]
     },
     "execution_count": 17,
     "metadata": {},
     "output_type": "execute_result"
    }
   ],
   "source": [
    "accuracy(res[0], targs[0]) == accuracy(res[0], targs[3])"
   ]
  },
  {
   "cell_type": "code",
   "execution_count": 18,
   "metadata": {},
   "outputs": [
    {
     "data": {
      "text/plain": [
       "tensor(0.9494)"
      ]
     },
     "execution_count": 18,
     "metadata": {},
     "output_type": "execute_result"
    }
   ],
   "source": [
    "accuracy(preds_avg, targs[0])"
   ]
  },
  {
   "cell_type": "code",
   "execution_count": 21,
   "metadata": {},
   "outputs": [],
   "source": [
    "preds_spy = (res[0] + res[1])/2\n",
    "preds_spp = (res[2] + res[3])/2"
   ]
  },
  {
   "cell_type": "code",
   "execution_count": 69,
   "metadata": {},
   "outputs": [],
   "source": [
    "def report_accuracy(results, gt):\n",
    "    def round_num(num): return round(float(num)*100, 2)\n",
    "    print(f'Spacy Forward: {round_num(accuracy(results[0], gt))}')\n",
    "    print(f'Spacy Forward and Backwards: {round_num(accuracy(((results[0] + results[1])/2), gt))}')\n",
    "    print(f'SentencePiece Forward: {round_num(accuracy(results[2], gt))}')\n",
    "    print(f'SentencePiece Forward and Backwards: {round_num(accuracy(((results[2] + results[3])/2), gt))}')\n",
    "    print(f'Spacy and SentencePiece Forward: {round_num(accuracy(((results[0] + results[2])/2), gt))}')\n",
    "    print(f'Spacy and SentencePiece Backwards: {round_num(accuracy(((results[1] + results[3])/2), gt))}')\n",
    "    print(f'Spacy Forward and Backward and SentencePiece Forward: {round_num(accuracy(((results[0] + results[1] + results[2])/3), gt))}')\n",
    "    print(f'Spacy Forward and Backward and SentencePiece Backwards: {round_num(accuracy(((results[0] + results[1] + results[3])/3), gt))}')\n",
    "    print(f'Spacy and SentencePiece Forward and Backwards: {round_num(accuracy(((results[0] + results[1] + results[2] + results[3])/4), gt))}')\n",
    "    \n",
    "def report_error_rate(results, gt):\n",
    "    def round_num(num): return round(float(num)*100, 2)\n",
    "    print(f'Spacy Forward: {round_num(error_rate(results[0], gt))}')\n",
    "    print(f'Spacy Forward and Backwards: {round_num(error_rate(((results[0] + results[1])/2), gt))}')\n",
    "    print(f'SentencePiece Forward: {round_num(error_rate(results[2], gt))}')\n",
    "    print(f'SentencePiece Forward and Backwards: {round_num(error_rate(((results[2] + results[3])/2), gt))}')\n",
    "    print(f'Spacy and SentencePiece Forward: {round_num(error_rate(((results[0] + results[2])/2), gt))}')\n",
    "    print(f'Spacy and SentencePiece Backwards: {round_num(error_rate(((results[1] + results[3])/2), gt))}')\n",
    "    print(f'Spacy Forward and Backward and SentencePiece Forward: {round_num(error_rate(((results[0] + results[1] + results[2])/3), gt))}')\n",
    "    print(f'Spacy Forward and Backward and SentencePiece Backwards: {round_num(error_rate(((results[0] + results[1] + results[3])/3), gt))}')\n",
    "    print(f'Spacy and SentencePiece Forward and Backwards: {round_num(error_rate(((results[0] + results[1] + results[2] + results[3])/4), gt))}')"
   ]
  },
  {
   "cell_type": "code",
   "execution_count": 70,
   "metadata": {},
   "outputs": [
    {
     "name": "stdout",
     "output_type": "stream",
     "text": [
      "Spacy Forward: 94.49\n",
      "Spacy Forward and Backwards: 94.77\n",
      "SentencePiece Forward: 94.55\n",
      "SentencePiece Forward and Backwards: 94.66\n",
      "Spacy and SentencePiece Forward: 94.86\n",
      "Spacy and SentencePiece Backwards: 94.79\n",
      "Spacy Forward and Backward and SentencePiece Forward: 94.89\n",
      "Spacy Forward and Backward and SentencePiece Backwards: 94.88\n",
      "Spacy and SentencePiece Forward and Backwards: 94.94\n"
     ]
    }
   ],
   "source": [
    "report_accuracy(res, targs[0])"
   ]
  },
  {
   "cell_type": "code",
   "execution_count": 71,
   "metadata": {},
   "outputs": [
    {
     "name": "stdout",
     "output_type": "stream",
     "text": [
      "Spacy Forward: 5.51\n",
      "Spacy Forward and Backwards: 5.23\n",
      "SentencePiece Forward: 5.45\n",
      "SentencePiece Forward and Backwards: 5.34\n",
      "Spacy and SentencePiece Forward: 5.14\n",
      "Spacy and SentencePiece Backwards: 5.21\n",
      "Spacy Forward and Backward and SentencePiece Forward: 5.11\n",
      "Spacy Forward and Backward and SentencePiece Backwards: 5.12\n",
      "Spacy and SentencePiece Forward and Backwards: 5.06\n"
     ]
    }
   ],
   "source": [
    "report_error_rate(res, targs[0])"
   ]
  },
  {
   "cell_type": "code",
   "execution_count": null,
   "metadata": {},
   "outputs": [],
   "source": []
  }
 ],
 "metadata": {
  "kernelspec": {
   "display_name": "Python 3",
   "language": "python",
   "name": "python3"
  },
  "language_info": {
   "codemirror_mode": {
    "name": "ipython",
    "version": 3
   },
   "file_extension": ".py",
   "mimetype": "text/x-python",
   "name": "python",
   "nbconvert_exporter": "python",
   "pygments_lexer": "ipython3",
   "version": "3.7.4"
  }
 },
 "nbformat": 4,
 "nbformat_minor": 2
}
