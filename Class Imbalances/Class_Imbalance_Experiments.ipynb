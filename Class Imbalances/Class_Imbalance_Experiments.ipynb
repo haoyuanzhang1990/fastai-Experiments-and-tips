{
  "nbformat": 4,
  "nbformat_minor": 0,
  "metadata": {
    "colab": {
      "name": "Class Imbalance Experiments.ipynb",
      "version": "0.3.2",
      "provenance": [],
      "collapsed_sections": [
        "mF-yv6h-rC8R",
        "7pTQVtEVBpHX",
        "5pXD1c2JE7Go"
      ]
    },
    "kernelspec": {
      "name": "python3",
      "display_name": "Python 3"
    },
    "accelerator": "GPU"
  },
  "cells": [
    {
      "cell_type": "markdown",
      "metadata": {
        "id": "mF-yv6h-rC8R",
        "colab_type": "text"
      },
      "source": [
        "### Functions"
      ]
    },
    {
      "cell_type": "code",
      "metadata": {
        "id": "ymh3awS_rCNp",
        "colab_type": "code",
        "colab": {}
      },
      "source": [
        "from IPython.display import display_html\n",
        "def display_side_by_side(*args):\n",
        "    html_str=''\n",
        "    for df in args:\n",
        "        html_str+=df.to_html()\n",
        "    display_html(html_str.replace('table','table style=\"display:inline\"'),raw=True)"
      ],
      "execution_count": 0,
      "outputs": []
    },
    {
      "cell_type": "markdown",
      "metadata": {
        "id": "BAemnvjzd8ZT",
        "colab_type": "text"
      },
      "source": [
        "# Dealing with Class Imbalance \n",
        "\n",
        "In this notebook I will be trying various common techniques and ideas that I have in dealing with class imbalance within <b>tabular</b> datasets. I would eventually like to try to move this idea over to non-tabular as well, but that is for in the future when my skills have enhanced."
      ]
    },
    {
      "cell_type": "code",
      "metadata": {
        "id": "6IXRMJ9rd57w",
        "colab_type": "code",
        "colab": {}
      },
      "source": [
        "from fastai import *\n",
        "from fastai.tabular import *"
      ],
      "execution_count": 0,
      "outputs": []
    },
    {
      "cell_type": "code",
      "metadata": {
        "id": "Tm76gE8KeRZu",
        "colab_type": "code",
        "colab": {}
      },
      "source": [
        "path = untar_data(URLs.ADULT_SAMPLE)"
      ],
      "execution_count": 0,
      "outputs": []
    },
    {
      "cell_type": "code",
      "metadata": {
        "id": "ksAV198ceWAe",
        "colab_type": "code",
        "colab": {}
      },
      "source": [
        "df = pd.read_csv(path/'adult.csv')"
      ],
      "execution_count": 0,
      "outputs": []
    },
    {
      "cell_type": "markdown",
      "metadata": {
        "id": "v8nA_dUGelDn",
        "colab_type": "text"
      },
      "source": [
        "First I want to look at the overall class imbalance"
      ]
    },
    {
      "cell_type": "code",
      "metadata": {
        "id": "1GdjCV-WeXCl",
        "colab_type": "code",
        "colab": {
          "base_uri": "https://localhost:8080/",
          "height": 306
        },
        "outputId": "bfb0b7fd-9df2-41df-f9d2-a60c7e1d59e2"
      },
      "source": [
        "df.head()"
      ],
      "execution_count": 4,
      "outputs": [
        {
          "output_type": "execute_result",
          "data": {
            "text/html": [
              "<div>\n",
              "<style scoped>\n",
              "    .dataframe tbody tr th:only-of-type {\n",
              "        vertical-align: middle;\n",
              "    }\n",
              "\n",
              "    .dataframe tbody tr th {\n",
              "        vertical-align: top;\n",
              "    }\n",
              "\n",
              "    .dataframe thead th {\n",
              "        text-align: right;\n",
              "    }\n",
              "</style>\n",
              "<table border=\"1\" class=\"dataframe\">\n",
              "  <thead>\n",
              "    <tr style=\"text-align: right;\">\n",
              "      <th></th>\n",
              "      <th>age</th>\n",
              "      <th>workclass</th>\n",
              "      <th>fnlwgt</th>\n",
              "      <th>education</th>\n",
              "      <th>education-num</th>\n",
              "      <th>marital-status</th>\n",
              "      <th>occupation</th>\n",
              "      <th>relationship</th>\n",
              "      <th>race</th>\n",
              "      <th>sex</th>\n",
              "      <th>capital-gain</th>\n",
              "      <th>capital-loss</th>\n",
              "      <th>hours-per-week</th>\n",
              "      <th>native-country</th>\n",
              "      <th>salary</th>\n",
              "    </tr>\n",
              "  </thead>\n",
              "  <tbody>\n",
              "    <tr>\n",
              "      <th>0</th>\n",
              "      <td>49</td>\n",
              "      <td>Private</td>\n",
              "      <td>101320</td>\n",
              "      <td>Assoc-acdm</td>\n",
              "      <td>12.0</td>\n",
              "      <td>Married-civ-spouse</td>\n",
              "      <td>NaN</td>\n",
              "      <td>Wife</td>\n",
              "      <td>White</td>\n",
              "      <td>Female</td>\n",
              "      <td>0</td>\n",
              "      <td>1902</td>\n",
              "      <td>40</td>\n",
              "      <td>United-States</td>\n",
              "      <td>&gt;=50k</td>\n",
              "    </tr>\n",
              "    <tr>\n",
              "      <th>1</th>\n",
              "      <td>44</td>\n",
              "      <td>Private</td>\n",
              "      <td>236746</td>\n",
              "      <td>Masters</td>\n",
              "      <td>14.0</td>\n",
              "      <td>Divorced</td>\n",
              "      <td>Exec-managerial</td>\n",
              "      <td>Not-in-family</td>\n",
              "      <td>White</td>\n",
              "      <td>Male</td>\n",
              "      <td>10520</td>\n",
              "      <td>0</td>\n",
              "      <td>45</td>\n",
              "      <td>United-States</td>\n",
              "      <td>&gt;=50k</td>\n",
              "    </tr>\n",
              "    <tr>\n",
              "      <th>2</th>\n",
              "      <td>38</td>\n",
              "      <td>Private</td>\n",
              "      <td>96185</td>\n",
              "      <td>HS-grad</td>\n",
              "      <td>NaN</td>\n",
              "      <td>Divorced</td>\n",
              "      <td>NaN</td>\n",
              "      <td>Unmarried</td>\n",
              "      <td>Black</td>\n",
              "      <td>Female</td>\n",
              "      <td>0</td>\n",
              "      <td>0</td>\n",
              "      <td>32</td>\n",
              "      <td>United-States</td>\n",
              "      <td>&lt;50k</td>\n",
              "    </tr>\n",
              "    <tr>\n",
              "      <th>3</th>\n",
              "      <td>38</td>\n",
              "      <td>Self-emp-inc</td>\n",
              "      <td>112847</td>\n",
              "      <td>Prof-school</td>\n",
              "      <td>15.0</td>\n",
              "      <td>Married-civ-spouse</td>\n",
              "      <td>Prof-specialty</td>\n",
              "      <td>Husband</td>\n",
              "      <td>Asian-Pac-Islander</td>\n",
              "      <td>Male</td>\n",
              "      <td>0</td>\n",
              "      <td>0</td>\n",
              "      <td>40</td>\n",
              "      <td>United-States</td>\n",
              "      <td>&gt;=50k</td>\n",
              "    </tr>\n",
              "    <tr>\n",
              "      <th>4</th>\n",
              "      <td>42</td>\n",
              "      <td>Self-emp-not-inc</td>\n",
              "      <td>82297</td>\n",
              "      <td>7th-8th</td>\n",
              "      <td>NaN</td>\n",
              "      <td>Married-civ-spouse</td>\n",
              "      <td>Other-service</td>\n",
              "      <td>Wife</td>\n",
              "      <td>Black</td>\n",
              "      <td>Female</td>\n",
              "      <td>0</td>\n",
              "      <td>0</td>\n",
              "      <td>50</td>\n",
              "      <td>United-States</td>\n",
              "      <td>&lt;50k</td>\n",
              "    </tr>\n",
              "  </tbody>\n",
              "</table>\n",
              "</div>"
            ],
            "text/plain": [
              "   age          workclass  fnlwgt  ... hours-per-week  native-country salary\n",
              "0   49            Private  101320  ...             40   United-States  >=50k\n",
              "1   44            Private  236746  ...             45   United-States  >=50k\n",
              "2   38            Private   96185  ...             32   United-States   <50k\n",
              "3   38       Self-emp-inc  112847  ...             40   United-States  >=50k\n",
              "4   42   Self-emp-not-inc   82297  ...             50   United-States   <50k\n",
              "\n",
              "[5 rows x 15 columns]"
            ]
          },
          "metadata": {
            "tags": []
          },
          "execution_count": 4
        }
      ]
    },
    {
      "cell_type": "code",
      "metadata": {
        "id": "rh_5RMVsepFY",
        "colab_type": "code",
        "colab": {
          "base_uri": "https://localhost:8080/",
          "height": 34
        },
        "outputId": "56713db0-d614-4ecc-abbe-0902896cfd0e"
      },
      "source": [
        "df['salary'].unique()"
      ],
      "execution_count": 5,
      "outputs": [
        {
          "output_type": "execute_result",
          "data": {
            "text/plain": [
              "array(['>=50k', '<50k'], dtype=object)"
            ]
          },
          "metadata": {
            "tags": []
          },
          "execution_count": 5
        }
      ]
    },
    {
      "cell_type": "code",
      "metadata": {
        "id": "wRbp5VH6erxg",
        "colab_type": "code",
        "colab": {
          "base_uri": "https://localhost:8080/",
          "height": 68
        },
        "outputId": "56ce5316-4afd-4d71-f208-090d1037eb8c"
      },
      "source": [
        "df['salary'].value_counts()"
      ],
      "execution_count": 6,
      "outputs": [
        {
          "output_type": "execute_result",
          "data": {
            "text/plain": [
              "<50k     24720\n",
              ">=50k     7841\n",
              "Name: salary, dtype: int64"
            ]
          },
          "metadata": {
            "tags": []
          },
          "execution_count": 6
        }
      ]
    },
    {
      "cell_type": "markdown",
      "metadata": {
        "id": "M5YOrYbFex0K",
        "colab_type": "text"
      },
      "source": [
        "So we have 24,720 samples for less than 50,000, and 7,841 samples for above 50,000. That is quite a difference. As a baseline, I will make the standard tabular model, with a train/validation/test split of 70/20/10 respectively"
      ]
    },
    {
      "cell_type": "code",
      "metadata": {
        "id": "m2EzyxUaev7x",
        "colab_type": "code",
        "colab": {}
      },
      "source": [
        "from sklearn.model_selection import train_test_split"
      ],
      "execution_count": 0,
      "outputs": []
    },
    {
      "cell_type": "code",
      "metadata": {
        "id": "4daDXFW2fDIb",
        "colab_type": "code",
        "colab": {}
      },
      "source": [
        "train_set, test = train_test_split(df, test_size=0.1)"
      ],
      "execution_count": 0,
      "outputs": []
    },
    {
      "cell_type": "markdown",
      "metadata": {
        "id": "bycb-dd2fSs2",
        "colab_type": "text"
      },
      "source": [
        "Split and very it is (roughly) 90% into the training and 10% into test"
      ]
    },
    {
      "cell_type": "code",
      "metadata": {
        "id": "2a7SJMq1fIv8",
        "colab_type": "code",
        "colab": {
          "base_uri": "https://localhost:8080/",
          "height": 34
        },
        "outputId": "39839d4d-51ca-4dab-bdf5-ec4359a00339"
      },
      "source": [
        "len(train_set)+len(test), len(df)"
      ],
      "execution_count": 9,
      "outputs": [
        {
          "output_type": "execute_result",
          "data": {
            "text/plain": [
              "(32561, 32561)"
            ]
          },
          "metadata": {
            "tags": []
          },
          "execution_count": 9
        }
      ]
    },
    {
      "cell_type": "code",
      "metadata": {
        "id": "5aK6ejCZfK30",
        "colab_type": "code",
        "colab": {
          "base_uri": "https://localhost:8080/",
          "height": 34
        },
        "outputId": "505a45eb-9d2b-429f-8b9b-c3cdf6ec746f"
      },
      "source": [
        "len(train_set)/len(df)"
      ],
      "execution_count": 10,
      "outputs": [
        {
          "output_type": "execute_result",
          "data": {
            "text/plain": [
              "0.8999723595712662"
            ]
          },
          "metadata": {
            "tags": []
          },
          "execution_count": 10
        }
      ]
    },
    {
      "cell_type": "code",
      "metadata": {
        "id": "rfZ86rjefqlR",
        "colab_type": "code",
        "colab": {}
      },
      "source": [
        "del df"
      ],
      "execution_count": 0,
      "outputs": []
    },
    {
      "cell_type": "markdown",
      "metadata": {
        "id": "WtJnh3NBfV2X",
        "colab_type": "text"
      },
      "source": [
        "Rerun for the train and validation sets"
      ]
    },
    {
      "cell_type": "code",
      "metadata": {
        "id": "3JWRMW6ofOsF",
        "colab_type": "code",
        "colab": {}
      },
      "source": [
        "train, valid = train_test_split(train_set, test_size=0.2)"
      ],
      "execution_count": 0,
      "outputs": []
    },
    {
      "cell_type": "code",
      "metadata": {
        "id": "4UJn3cvhfbPm",
        "colab_type": "code",
        "colab": {
          "base_uri": "https://localhost:8080/",
          "height": 34
        },
        "outputId": "e509a797-5a64-40ef-8138-9d6667aa6df0"
      },
      "source": [
        "len(train), len(valid)"
      ],
      "execution_count": 12,
      "outputs": [
        {
          "output_type": "execute_result",
          "data": {
            "text/plain": [
              "(23443, 5861)"
            ]
          },
          "metadata": {
            "tags": []
          },
          "execution_count": 12
        }
      ]
    },
    {
      "cell_type": "code",
      "metadata": {
        "id": "HTcxQ1pnf7HT",
        "colab_type": "code",
        "colab": {}
      },
      "source": [
        "del train_set"
      ],
      "execution_count": 0,
      "outputs": []
    },
    {
      "cell_type": "markdown",
      "metadata": {
        "id": "6j3MMOxcfd3w",
        "colab_type": "text"
      },
      "source": [
        "Now in order to make the splits work whenever we are dealing with over and undersampling techniques, I need to split my train/test by an idx, as we will need to constantly keep track of where to split them from if I want to use the standard TabularDataBunch instead of seperate item lists. Given no sampling is done here, I could just use train_set, but I will show example code for how we will be doing it for the rest of the notebook."
      ]
    },
    {
      "cell_type": "code",
      "metadata": {
        "id": "WUoXtQapfche",
        "colab_type": "code",
        "colab": {}
      },
      "source": [
        "train_val = train.append(valid)"
      ],
      "execution_count": 0,
      "outputs": []
    },
    {
      "cell_type": "code",
      "metadata": {
        "id": "DgzhD7Kxf_HK",
        "colab_type": "code",
        "colab": {
          "base_uri": "https://localhost:8080/",
          "height": 34
        },
        "outputId": "0989e71d-34e3-4fe2-a0f3-eb89455cac20"
      },
      "source": [
        "len(train_val) == len(train) + len(valid)"
      ],
      "execution_count": 10,
      "outputs": [
        {
          "output_type": "execute_result",
          "data": {
            "text/plain": [
              "True"
            ]
          },
          "metadata": {
            "tags": []
          },
          "execution_count": 10
        }
      ]
    },
    {
      "cell_type": "markdown",
      "metadata": {
        "id": "kydXNIiSgSfG",
        "colab_type": "text"
      },
      "source": [
        "I will be using the same variable choice as was chosen in the lesson 4 notebook."
      ]
    },
    {
      "cell_type": "code",
      "metadata": {
        "id": "F4T_3HGFgBOj",
        "colab_type": "code",
        "colab": {}
      },
      "source": [
        "dep_var = 'salary'\n",
        "cat_names = ['workclass', 'education', 'marital-status', 'occupation', \n",
        "             'relationship', 'race']\n",
        "cont_names = ['age', 'fnlwgt', 'education-num']\n",
        "procs = [FillMissing, Categorify, Normalize]"
      ],
      "execution_count": 0,
      "outputs": []
    },
    {
      "cell_type": "code",
      "metadata": {
        "id": "Jqdmn5XJgWmG",
        "colab_type": "code",
        "colab": {}
      },
      "source": [
        "data_train = (TabularList.from_df(train_val, path=path, cat_names=cat_names, \n",
        "                                  cont_names=cont_names, procs=procs)\n",
        "             .split_by_idx(list(range(len(train), len(train_val))))\n",
        "             .label_from_df(cols=dep_var)\n",
        "             .databunch())"
      ],
      "execution_count": 0,
      "outputs": []
    },
    {
      "cell_type": "markdown",
      "metadata": {
        "id": "YVaIS1Qtg2JP",
        "colab_type": "text"
      },
      "source": [
        "Now just to verify we split properly, the numbers in train and valid should equal that of the above totals for our dataset"
      ]
    },
    {
      "cell_type": "code",
      "metadata": {
        "id": "_6bzhErSgwJR",
        "colab_type": "code",
        "colab": {
          "base_uri": "https://localhost:8080/",
          "height": 331
        },
        "outputId": "1e7578d0-aa92-407b-d295-44de5fd27fdc"
      },
      "source": [
        "data_train"
      ],
      "execution_count": 13,
      "outputs": [
        {
          "output_type": "execute_result",
          "data": {
            "text/plain": [
              "TabularDataBunch;\n",
              "\n",
              "Train: LabelList (23443 items)\n",
              "x: TabularList\n",
              "workclass  Private; education  HS-grad; marital-status  Married-civ-spouse; occupation  Farming-fishing; relationship  Husband; race  White; education-num_na False; age -0.7034; fnlwgt -1.1100; education-num -0.4245; ,workclass  Private; education  Some-college; marital-status  Married-civ-spouse; occupation  Tech-support; relationship  Husband; race  White; education-num_na False; age 0.8384; fnlwgt -0.9189; education-num -0.0328; ,workclass  Private; education  Some-college; marital-status  Married-civ-spouse; occupation  Exec-managerial; relationship  Husband; race  White; education-num_na False; age -0.7768; fnlwgt -0.5351; education-num -0.0328; ,workclass  Self-emp-not-inc; education  Bachelors; marital-status  Married-civ-spouse; occupation  Craft-repair; relationship  Husband; race  White; education-num_na False; age -0.1160; fnlwgt -1.4470; education-num 1.1420; ,workclass  Private; education  HS-grad; marital-status  Married-civ-spouse; occupation  Machine-op-inspct; relationship  Husband; race  White; education-num_na False; age 0.8384; fnlwgt -0.9729; education-num -0.4245; \n",
              "y: CategoryList\n",
              "<50k,>=50k,>=50k,>=50k,<50k\n",
              "Path: /root/.fastai/data/adult_sample;\n",
              "\n",
              "Valid: LabelList (5861 items)\n",
              "x: TabularList\n",
              "workclass  Private; education  Bachelors; marital-status  Never-married; occupation  Prof-specialty; relationship  Unmarried; race  White; education-num_na False; age -0.5565; fnlwgt 0.5092; education-num 1.1420; ,workclass  Private; education  Some-college; marital-status  Married-civ-spouse; occupation  Transport-moving; relationship  Husband; race  White; education-num_na False; age 0.3979; fnlwgt -0.0225; education-num -0.0328; ,workclass  Self-emp-not-inc; education  HS-grad; marital-status  Married-civ-spouse; occupation  Craft-repair; relationship  Husband; race  White; education-num_na False; age -0.2629; fnlwgt -1.2095; education-num -0.4245; ,workclass  Private; education  HS-grad; marital-status  Separated; occupation  Exec-managerial; relationship  Unmarried; race  White; education-num_na False; age 0.6181; fnlwgt -0.7735; education-num -0.4245; ,workclass  State-gov; education  Masters; marital-status  Married-civ-spouse; occupation  Prof-specialty; relationship  Husband; race  Black; education-num_na False; age 0.3979; fnlwgt -0.1415; education-num 1.5336; \n",
              "y: CategoryList\n",
              "<50k,>=50k,<50k,<50k,>=50k\n",
              "Path: /root/.fastai/data/adult_sample;\n",
              "\n",
              "Test: None"
            ]
          },
          "metadata": {
            "tags": []
          },
          "execution_count": 13
        }
      ]
    },
    {
      "cell_type": "markdown",
      "metadata": {
        "id": "LvlbYQ8Wgz-T",
        "colab_type": "text"
      },
      "source": [
        "Next, we make a labeled test set in order to grade the performance. **Notice** we pass in the data_train's processor to get the matching preprocessing."
      ]
    },
    {
      "cell_type": "code",
      "metadata": {
        "id": "4vI9Vy9rgw9Y",
        "colab_type": "code",
        "colab": {}
      },
      "source": [
        "data_test = (TabularList.from_df(test, path=path, cat_names=cat_names,\n",
        "                                cont_names=cont_names, procs=procs, \n",
        "                                processor=data_train.processor)\n",
        "            .split_none()\n",
        "            .label_from_df(cols=dep_var)\n",
        "            .databunch())"
      ],
      "execution_count": 0,
      "outputs": []
    },
    {
      "cell_type": "markdown",
      "metadata": {
        "id": "uRF1RJbPh6Af",
        "colab_type": "text"
      },
      "source": [
        "Now we can instantiate a Learner, and fit for an epoch or three"
      ]
    },
    {
      "cell_type": "markdown",
      "metadata": {
        "id": "0ztP6sliBads",
        "colab_type": "text"
      },
      "source": [
        "### Average Run"
      ]
    },
    {
      "cell_type": "code",
      "metadata": {
        "id": "QSjCfVBk-mwr",
        "colab_type": "code",
        "colab": {}
      },
      "source": [
        "arr = []\n",
        "mc = []\n",
        "for x in range(10):\n",
        "  learn = tabular_learner(data_train, layers=[200,100], metrics=accuracy)\n",
        "  learn.fit(5, 1e-2)\n",
        "  learn.data.valid_dl = data_test.train_dl\n",
        "  res = learn.validate()\n",
        "  arr.append(float(res[1]))\n",
        "  intp = ClassificationInterpretation.from_learner(learn)\n",
        "  mc.append(intp.most_confused())"
      ],
      "execution_count": 0,
      "outputs": []
    },
    {
      "cell_type": "code",
      "metadata": {
        "id": "E4KwhMGPAG7q",
        "colab_type": "code",
        "colab": {
          "base_uri": "https://localhost:8080/",
          "height": 187
        },
        "outputId": "2984008c-7cef-4774-bfdc-14f477f75db9"
      },
      "source": [
        "arr"
      ],
      "execution_count": 23,
      "outputs": [
        {
          "output_type": "execute_result",
          "data": {
            "text/plain": [
              "[0.8387500047683716,\n",
              " 0.8362500071525574,\n",
              " 0.8399999737739563,\n",
              " 0.8324999809265137,\n",
              " 0.8368750214576721,\n",
              " 0.839062511920929,\n",
              " 0.8393750190734863,\n",
              " 0.8428124785423279,\n",
              " 0.8340625166893005,\n",
              " 0.840624988079071]"
            ]
          },
          "metadata": {
            "tags": []
          },
          "execution_count": 23
        }
      ]
    },
    {
      "cell_type": "code",
      "metadata": {
        "id": "_yhtv6Y4ATE_",
        "colab_type": "code",
        "colab": {
          "base_uri": "https://localhost:8080/",
          "height": 187
        },
        "outputId": "859f2f85-db56-44ba-c4fc-98f5f7232f9a"
      },
      "source": [
        "mc"
      ],
      "execution_count": 24,
      "outputs": [
        {
          "output_type": "execute_result",
          "data": {
            "text/plain": [
              "[[('>=50k', '<50k', 385), ('<50k', '>=50k', 129)],\n",
              " [('>=50k', '<50k', 398), ('<50k', '>=50k', 123)],\n",
              " [('>=50k', '<50k', 328), ('<50k', '>=50k', 174)],\n",
              " [('>=50k', '<50k', 273), ('<50k', '>=50k', 262)],\n",
              " [('>=50k', '<50k', 322), ('<50k', '>=50k', 204)],\n",
              " [('>=50k', '<50k', 337), ('<50k', '>=50k', 181)],\n",
              " [('>=50k', '<50k', 348), ('<50k', '>=50k', 165)],\n",
              " [('>=50k', '<50k', 347), ('<50k', '>=50k', 150)],\n",
              " [('>=50k', '<50k', 406), ('<50k', '>=50k', 124)],\n",
              " [('>=50k', '<50k', 310), ('<50k', '>=50k', 199)]]"
            ]
          },
          "metadata": {
            "tags": []
          },
          "execution_count": 24
        }
      ]
    },
    {
      "cell_type": "code",
      "metadata": {
        "id": "xFHKrMMgBPFl",
        "colab_type": "code",
        "colab": {
          "base_uri": "https://localhost:8080/",
          "height": 68
        },
        "outputId": "50bbf57a-ae45-4528-b8c7-8d243d5c2288"
      },
      "source": [
        "test['salary'].value_counts()"
      ],
      "execution_count": 31,
      "outputs": [
        {
          "output_type": "execute_result",
          "data": {
            "text/plain": [
              "<50k     2507\n",
              ">=50k     750\n",
              "Name: salary, dtype: int64"
            ]
          },
          "metadata": {
            "tags": []
          },
          "execution_count": 31
        }
      ]
    },
    {
      "cell_type": "code",
      "metadata": {
        "id": "HFWuxwyoBG0i",
        "colab_type": "code",
        "colab": {
          "base_uri": "https://localhost:8080/",
          "height": 34
        },
        "outputId": "ffb4d011-6155-42e3-c262-0d9bf3780df9"
      },
      "source": [
        "len(test)"
      ],
      "execution_count": 27,
      "outputs": [
        {
          "output_type": "execute_result",
          "data": {
            "text/plain": [
              "3257"
            ]
          },
          "metadata": {
            "tags": []
          },
          "execution_count": 27
        }
      ]
    },
    {
      "cell_type": "markdown",
      "metadata": {
        "id": "xk5EWrjnBc5I",
        "colab_type": "text"
      },
      "source": [
        "### Three Epochs"
      ]
    },
    {
      "cell_type": "code",
      "metadata": {
        "id": "_UKldL-uhltL",
        "colab_type": "code",
        "colab": {}
      },
      "source": [
        "learn = tabular_learner(data_train, layers=[200,100], metrics=accuracy)"
      ],
      "execution_count": 0,
      "outputs": []
    },
    {
      "cell_type": "code",
      "metadata": {
        "id": "QEXxlZFziB5_",
        "colab_type": "code",
        "colab": {
          "base_uri": "https://localhost:8080/",
          "height": 219
        },
        "outputId": "e9165924-de36-45f3-8efa-97363eec9e79"
      },
      "source": [
        "learn.fit(5, 1e-2)"
      ],
      "execution_count": 22,
      "outputs": [
        {
          "output_type": "display_data",
          "data": {
            "text/html": [
              "<table border=\"1\" class=\"dataframe\">\n",
              "  <thead>\n",
              "    <tr style=\"text-align: left;\">\n",
              "      <th>epoch</th>\n",
              "      <th>train_loss</th>\n",
              "      <th>valid_loss</th>\n",
              "      <th>accuracy</th>\n",
              "      <th>time</th>\n",
              "    </tr>\n",
              "  </thead>\n",
              "  <tbody>\n",
              "    <tr>\n",
              "      <td>0</td>\n",
              "      <td>0.366731</td>\n",
              "      <td>0.354285</td>\n",
              "      <td>0.840983</td>\n",
              "      <td>00:03</td>\n",
              "    </tr>\n",
              "    <tr>\n",
              "      <td>1</td>\n",
              "      <td>0.364115</td>\n",
              "      <td>0.352365</td>\n",
              "      <td>0.836205</td>\n",
              "      <td>00:03</td>\n",
              "    </tr>\n",
              "    <tr>\n",
              "      <td>2</td>\n",
              "      <td>0.361952</td>\n",
              "      <td>0.346569</td>\n",
              "      <td>0.835352</td>\n",
              "      <td>00:03</td>\n",
              "    </tr>\n",
              "    <tr>\n",
              "      <td>3</td>\n",
              "      <td>0.362227</td>\n",
              "      <td>0.345088</td>\n",
              "      <td>0.844395</td>\n",
              "      <td>00:03</td>\n",
              "    </tr>\n",
              "    <tr>\n",
              "      <td>4</td>\n",
              "      <td>0.365821</td>\n",
              "      <td>0.347312</td>\n",
              "      <td>0.843030</td>\n",
              "      <td>00:03</td>\n",
              "    </tr>\n",
              "  </tbody>\n",
              "</table>"
            ],
            "text/plain": [
              "<IPython.core.display.HTML object>"
            ]
          },
          "metadata": {
            "tags": []
          }
        }
      ]
    },
    {
      "cell_type": "markdown",
      "metadata": {
        "id": "JdYVtnzZiJtp",
        "colab_type": "text"
      },
      "source": [
        "Now we swap the dataloaders and run on our test set"
      ]
    },
    {
      "cell_type": "code",
      "metadata": {
        "id": "qBNRV1DniFUH",
        "colab_type": "code",
        "colab": {}
      },
      "source": [
        "learn.data.valid_dl = data_test.train_dl"
      ],
      "execution_count": 0,
      "outputs": []
    },
    {
      "cell_type": "code",
      "metadata": {
        "id": "bythq7cGiPh4",
        "colab_type": "code",
        "colab": {
          "base_uri": "https://localhost:8080/",
          "height": 34
        },
        "outputId": "77a2d8a2-6795-41c3-f46d-7218bf76d1e6"
      },
      "source": [
        "learn.validate()"
      ],
      "execution_count": 24,
      "outputs": [
        {
          "output_type": "execute_result",
          "data": {
            "text/plain": [
              "[0.3572009, tensor(0.8359)]"
            ]
          },
          "metadata": {
            "tags": []
          },
          "execution_count": 24
        }
      ]
    },
    {
      "cell_type": "code",
      "metadata": {
        "id": "EGahfxYxu4tU",
        "colab_type": "code",
        "colab": {}
      },
      "source": [
        "interp = ClassificationInterpretation.from_learner(learn)"
      ],
      "execution_count": 0,
      "outputs": []
    },
    {
      "cell_type": "code",
      "metadata": {
        "id": "PkY63SYcu7Mq",
        "colab_type": "code",
        "colab": {
          "base_uri": "https://localhost:8080/",
          "height": 311
        },
        "outputId": "a0f6ae3e-a192-4974-a743-90cd7cf05acc"
      },
      "source": [
        "interp.plot_confusion_matrix()"
      ],
      "execution_count": 26,
      "outputs": [
        {
          "output_type": "display_data",
          "data": {
            "image/png": "[encoded data removed]",
            "text/plain": [
              "<Figure size 432x288 with 1 Axes>"
            ]
          },
          "metadata": {
            "tags": []
          }
        }
      ]
    },
    {
      "cell_type": "markdown",
      "metadata": {
        "id": "1JMmevOcikaM",
        "colab_type": "text"
      },
      "source": [
        "Our baseline to beat is 83.59% accuracy at 5 epochs with a constant learning rate of 1e-2. If we look at the confusion matrix, we can see that **most** of the confused values (more than 2x the other) was from the minority class, >=50k. Now let's explore some data manipulation to help (or not help) with class imbalance. The three options I will be exploring below first will be **undersampling**, **oversampling**, and a hybrid of the two, where we dictate a mean for all classes and over- or under- sample accordingly"
      ]
    },
    {
      "cell_type": "markdown",
      "metadata": {
        "id": "s3d60fjRjdZL",
        "colab_type": "text"
      },
      "source": [
        "## Undersampling\n",
        "\n",
        "Undersampling operates like this: we look at the class with the smallest population, and we decrease the larger classes untill they fit. I will be performing this by randomly-selecting a variety of samples from the original dataset to fill another.\n",
        "One key to note here, when we do any sort of sampling, we want to ensure this is **only** done on the training dataset, not the validation nor the test dataset to ensure no data leakage, and the validation and test data still are representative of the **original** dataset"
      ]
    },
    {
      "cell_type": "code",
      "metadata": {
        "id": "nSVETXj5ic6x",
        "colab_type": "code",
        "colab": {}
      },
      "source": [
        "def underSample(df:pd.DataFrame, var:str):\n",
        "  limit = int(df[var].value_counts().min())\n",
        "  lst = []\n",
        "  \n",
        "  for class_index, group in df.groupby(var):\n",
        "    if len(group) > limit:\n",
        "      lst.append(group.sample(limit, replace=True))\n",
        "    else:\n",
        "      lst.append(group)\n",
        "  df = pd.concat(lst)\n",
        "  return df"
      ],
      "execution_count": 0,
      "outputs": []
    },
    {
      "cell_type": "code",
      "metadata": {
        "id": "5irPmBVdk7y4",
        "colab_type": "code",
        "colab": {
          "base_uri": "https://localhost:8080/",
          "height": 68
        },
        "outputId": "16f1094d-f7cc-433d-fe79-92b4765a6f83"
      },
      "source": [
        "train['salary'].value_counts()"
      ],
      "execution_count": 33,
      "outputs": [
        {
          "output_type": "execute_result",
          "data": {
            "text/plain": [
              "<50k     17799\n",
              ">=50k     5644\n",
              "Name: salary, dtype: int64"
            ]
          },
          "metadata": {
            "tags": []
          },
          "execution_count": 33
        }
      ]
    },
    {
      "cell_type": "markdown",
      "metadata": {
        "id": "A7_vKVU1mMxe",
        "colab_type": "text"
      },
      "source": [
        "Let's view a histogram of the numerical categories to see how their distrobution lie"
      ]
    },
    {
      "cell_type": "code",
      "metadata": {
        "id": "NA7dQy1omsV5",
        "colab_type": "code",
        "colab": {
          "base_uri": "https://localhost:8080/",
          "height": 298
        },
        "outputId": "fcb31596-4e4c-4a26-d239-efc2f25892b3"
      },
      "source": [
        "fig, ax = plt.subplots(1,3)\n",
        "\n",
        "train.hist(column='age', ax=ax[0])\n",
        "train.hist(column='fnlwgt', ax=ax[1])\n",
        "train.hist(column='education-num', ax=ax[2])"
      ],
      "execution_count": 87,
      "outputs": [
        {
          "output_type": "execute_result",
          "data": {
            "text/plain": [
              "array([<matplotlib.axes._subplots.AxesSubplot object at 0x7f1bf89cea20>], dtype=object)"
            ]
          },
          "metadata": {
            "tags": []
          },
          "execution_count": 87
        },
        {
          "output_type": "display_data",
          "data": {
            "image/png": "[encoded data removed]",
            "text/plain": [
              "<Figure size 432x288 with 3 Axes>"
            ]
          },
          "metadata": {
            "tags": []
          }
        }
      ]
    },
    {
      "cell_type": "markdown",
      "metadata": {
        "id": "bXezd61bpKWV",
        "colab_type": "text"
      },
      "source": [
        "Let's also look at the mean and standard devation so we can compare"
      ]
    },
    {
      "cell_type": "code",
      "metadata": {
        "id": "7n21zLFHpR5d",
        "colab_type": "code",
        "colab": {}
      },
      "source": [
        "def reportInfo(df:pd.DataFrame, cols):\n",
        "  cols = list(cols)\n",
        "  df = pd.DataFrame(columns=['Variable', 'Mean', 'Standard Deviation'])\n",
        "  for x in range(len(cols)):\n",
        "    df.loc[x] = [str(cols[x]), train[cols[x]].mean(), train[cols[x]].std()]\n",
        "  return df"
      ],
      "execution_count": 0,
      "outputs": []
    },
    {
      "cell_type": "code",
      "metadata": {
        "id": "8Rv2HLkFouMj",
        "colab_type": "code",
        "colab": {}
      },
      "source": [
        "cols = ['age', 'fnlwgt', 'education-num']"
      ],
      "execution_count": 0,
      "outputs": []
    },
    {
      "cell_type": "code",
      "metadata": {
        "id": "7h17tQKpokHo",
        "colab_type": "code",
        "colab": {
          "base_uri": "https://localhost:8080/",
          "height": 142
        },
        "outputId": "a0b4b7c4-0dfa-4a7b-bb7a-1016c7fb8fd5"
      },
      "source": [
        "reportInfo(train, cols)"
      ],
      "execution_count": 31,
      "outputs": [
        {
          "output_type": "execute_result",
          "data": {
            "text/html": [
              "<div>\n",
              "<style scoped>\n",
              "    .dataframe tbody tr th:only-of-type {\n",
              "        vertical-align: middle;\n",
              "    }\n",
              "\n",
              "    .dataframe tbody tr th {\n",
              "        vertical-align: top;\n",
              "    }\n",
              "\n",
              "    .dataframe thead th {\n",
              "        text-align: right;\n",
              "    }\n",
              "</style>\n",
              "<table border=\"1\" class=\"dataframe\">\n",
              "  <thead>\n",
              "    <tr style=\"text-align: right;\">\n",
              "      <th></th>\n",
              "      <th>Variable</th>\n",
              "      <th>Mean</th>\n",
              "      <th>Standard Deviation</th>\n",
              "    </tr>\n",
              "  </thead>\n",
              "  <tbody>\n",
              "    <tr>\n",
              "      <th>0</th>\n",
              "      <td>age</td>\n",
              "      <td>38.664847</td>\n",
              "      <td>13.626584</td>\n",
              "    </tr>\n",
              "    <tr>\n",
              "      <th>1</th>\n",
              "      <td>fnlwgt</td>\n",
              "      <td>189751.523440</td>\n",
              "      <td>105222.890775</td>\n",
              "    </tr>\n",
              "    <tr>\n",
              "      <th>2</th>\n",
              "      <td>education-num</td>\n",
              "      <td>10.088145</td>\n",
              "      <td>2.574420</td>\n",
              "    </tr>\n",
              "  </tbody>\n",
              "</table>\n",
              "</div>"
            ],
            "text/plain": [
              "        Variable           Mean  Standard Deviation\n",
              "0            age      38.664847           13.626584\n",
              "1         fnlwgt  189751.523440       105222.890775\n",
              "2  education-num      10.088145            2.574420"
            ]
          },
          "metadata": {
            "tags": []
          },
          "execution_count": 31
        }
      ]
    },
    {
      "cell_type": "code",
      "metadata": {
        "id": "VFDCFyFGkg1K",
        "colab_type": "code",
        "colab": {}
      },
      "source": [
        "under = underSample(train, 'salary')"
      ],
      "execution_count": 0,
      "outputs": []
    },
    {
      "cell_type": "code",
      "metadata": {
        "id": "xzRD8vbhlBuf",
        "colab_type": "code",
        "colab": {
          "base_uri": "https://localhost:8080/",
          "height": 68
        },
        "outputId": "fcf23341-3291-40ab-a87b-36325a4f06af"
      },
      "source": [
        "under['salary'].value_counts()"
      ],
      "execution_count": 224,
      "outputs": [
        {
          "output_type": "execute_result",
          "data": {
            "text/plain": [
              "<50k     5629\n",
              ">=50k    5629\n",
              "Name: salary, dtype: int64"
            ]
          },
          "metadata": {
            "tags": []
          },
          "execution_count": 224
        }
      ]
    },
    {
      "cell_type": "markdown",
      "metadata": {
        "id": "28e7Gv4KlvwB",
        "colab_type": "text"
      },
      "source": [
        "We dropped down to 5,697 samples per class via random selection of sampling. Let's see how the distrobution changed for the classes"
      ]
    },
    {
      "cell_type": "code",
      "metadata": {
        "id": "VXVbWEzslKEX",
        "colab_type": "code",
        "colab": {
          "base_uri": "https://localhost:8080/",
          "height": 298
        },
        "outputId": "19600895-0461-47bd-bbd4-4eb163750b07"
      },
      "source": [
        "fig, ax = plt.subplots(1,3)\n",
        "\n",
        "under.hist(column='age', ax=ax[0])\n",
        "under.hist(column='fnlwgt', ax=ax[1])\n",
        "under.hist(column='education-num', ax=ax[2])"
      ],
      "execution_count": 88,
      "outputs": [
        {
          "output_type": "execute_result",
          "data": {
            "text/plain": [
              "array([<matplotlib.axes._subplots.AxesSubplot object at 0x7f1bf88fa208>], dtype=object)"
            ]
          },
          "metadata": {
            "tags": []
          },
          "execution_count": 88
        },
        {
          "output_type": "display_data",
          "data": {
            "image/png": "[encoded data removed]",
            "text/plain": [
              "<Figure size 432x288 with 3 Axes>"
            ]
          },
          "metadata": {
            "tags": []
          }
        }
      ]
    },
    {
      "cell_type": "markdown",
      "metadata": {
        "id": "UXL5xgYDqx0o",
        "colab_type": "text"
      },
      "source": [
        "Now let's view the Mean and Standard Deviation side by side. You will notice there was not that much of a difference here, we were able to keep the distrobution ok, but don't forget we did lose 1/3 of the data for one class! That's a lot of values"
      ]
    },
    {
      "cell_type": "code",
      "metadata": {
        "id": "RGyYtXwnquuC",
        "colab_type": "code",
        "colab": {
          "base_uri": "https://localhost:8080/",
          "height": 142
        },
        "outputId": "3b6e3dfb-ba3f-45c8-8134-71bd076ecb53"
      },
      "source": [
        "display_side_by_side(reportInfo(under, cols), reportInfo(train, cols))"
      ],
      "execution_count": 123,
      "outputs": [
        {
          "output_type": "display_data",
          "data": {
            "text/html": [
              "<table style=\"display:inline\" border=\"1\" class=\"dataframe\">\n",
              "  <thead>\n",
              "    <tr style=\"text-align: right;\">\n",
              "      <th></th>\n",
              "      <th>Variable</th>\n",
              "      <th>Mean</th>\n",
              "      <th>Standard Deviation</th>\n",
              "    </tr>\n",
              "  </thead>\n",
              "  <tbody>\n",
              "    <tr>\n",
              "      <th>0</th>\n",
              "      <td>age</td>\n",
              "      <td>38.563025</td>\n",
              "      <td>13.599243</td>\n",
              "    </tr>\n",
              "    <tr>\n",
              "      <th>1</th>\n",
              "      <td>fnlwgt</td>\n",
              "      <td>189808.817344</td>\n",
              "      <td>105728.323595</td>\n",
              "    </tr>\n",
              "    <tr>\n",
              "      <th>2</th>\n",
              "      <td>education-num</td>\n",
              "      <td>10.085744</td>\n",
              "      <td>2.576080</td>\n",
              "    </tr>\n",
              "  </tbody>\n",
              "</table style=\"display:inline\"><table style=\"display:inline\" border=\"1\" class=\"dataframe\">\n",
              "  <thead>\n",
              "    <tr style=\"text-align: right;\">\n",
              "      <th></th>\n",
              "      <th>Variable</th>\n",
              "      <th>Mean</th>\n",
              "      <th>Standard Deviation</th>\n",
              "    </tr>\n",
              "  </thead>\n",
              "  <tbody>\n",
              "    <tr>\n",
              "      <th>0</th>\n",
              "      <td>age</td>\n",
              "      <td>38.563025</td>\n",
              "      <td>13.599243</td>\n",
              "    </tr>\n",
              "    <tr>\n",
              "      <th>1</th>\n",
              "      <td>fnlwgt</td>\n",
              "      <td>189808.817344</td>\n",
              "      <td>105728.323595</td>\n",
              "    </tr>\n",
              "    <tr>\n",
              "      <th>2</th>\n",
              "      <td>education-num</td>\n",
              "      <td>10.085744</td>\n",
              "      <td>2.576080</td>\n",
              "    </tr>\n",
              "  </tbody>\n",
              "</table style=\"display:inline\">"
            ]
          },
          "metadata": {
            "tags": []
          }
        }
      ]
    },
    {
      "cell_type": "code",
      "metadata": {
        "id": "5lANWWmcseVL",
        "colab_type": "code",
        "colab": {
          "base_uri": "https://localhost:8080/",
          "height": 34
        },
        "outputId": "8adcad4c-3b2d-47b8-8ada-56cf36f0cc8e"
      },
      "source": [
        "len(under), len(valid)"
      ],
      "execution_count": 132,
      "outputs": [
        {
          "output_type": "execute_result",
          "data": {
            "text/plain": [
              "(11394, 5861)"
            ]
          },
          "metadata": {
            "tags": []
          },
          "execution_count": 132
        }
      ]
    },
    {
      "cell_type": "code",
      "metadata": {
        "id": "0FyHPdRpsf4T",
        "colab_type": "code",
        "colab": {}
      },
      "source": [
        "train_val = under.append(valid)"
      ],
      "execution_count": 0,
      "outputs": []
    },
    {
      "cell_type": "code",
      "metadata": {
        "id": "gwHcOUsvsjeL",
        "colab_type": "code",
        "colab": {
          "base_uri": "https://localhost:8080/",
          "height": 34
        },
        "outputId": "b8a50838-aed4-4088-f843-f064dcdd78fc"
      },
      "source": [
        "len(train_val)"
      ],
      "execution_count": 34,
      "outputs": [
        {
          "output_type": "execute_result",
          "data": {
            "text/plain": [
              "17237"
            ]
          },
          "metadata": {
            "tags": []
          },
          "execution_count": 34
        }
      ]
    },
    {
      "cell_type": "markdown",
      "metadata": {
        "id": "zBhvMJMAsRGY",
        "colab_type": "text"
      },
      "source": [
        "Let's try training"
      ]
    },
    {
      "cell_type": "code",
      "metadata": {
        "id": "uanmaUwwrl7Z",
        "colab_type": "code",
        "colab": {}
      },
      "source": [
        "data_train = (TabularList.from_df(train_val, path=path, cat_names=cat_names, \n",
        "                                  cont_names=cont_names, procs=procs)\n",
        "             .split_by_idx(list(range(len(under), len(train_val))))\n",
        "             .label_from_df(cols=dep_var)\n",
        "             .databunch())\n",
        "\n",
        "\n",
        "data_test = (TabularList.from_df(test, path=path, cat_names=cat_names,\n",
        "                                cont_names=cont_names, procs=procs, \n",
        "                                processor=data_train.processor)\n",
        "            .split_none()\n",
        "            .label_from_df(cols=dep_var)\n",
        "            .databunch())\n",
        "\n"
      ],
      "execution_count": 0,
      "outputs": []
    },
    {
      "cell_type": "markdown",
      "metadata": {
        "id": "7pTQVtEVBpHX",
        "colab_type": "text"
      },
      "source": [
        "### 10 Times"
      ]
    },
    {
      "cell_type": "code",
      "metadata": {
        "id": "w8fc4cpOBsWX",
        "colab_type": "code",
        "colab": {}
      },
      "source": [
        "arr = []\n",
        "mc = []\n",
        "for x in range(10):\n",
        "  learn = tabular_learner(data_train, layers=[200,100], metrics=accuracy)\n",
        "  learn.fit(5, 1e-2)\n",
        "  learn.data.valid_dl = data_test.train_dl\n",
        "  res = learn.validate()\n",
        "  arr.append(float(res[1]))\n",
        "  intp = ClassificationInterpretation.from_learner(learn)\n",
        "  mc.append(intp.most_confused())"
      ],
      "execution_count": 0,
      "outputs": []
    },
    {
      "cell_type": "code",
      "metadata": {
        "id": "uTTFgW05CMSD",
        "colab_type": "code",
        "colab": {
          "base_uri": "https://localhost:8080/",
          "height": 187
        },
        "outputId": "4fc65e7a-4f08-4e0b-e9d9-b182476cfd7e"
      },
      "source": [
        "mc"
      ],
      "execution_count": 39,
      "outputs": [
        {
          "output_type": "execute_result",
          "data": {
            "text/plain": [
              "[[('<50k', '>=50k', 687), ('>=50k', '<50k', 88)],\n",
              " [('<50k', '>=50k', 334), ('>=50k', '<50k', 234)],\n",
              " [('<50k', '>=50k', 755), ('>=50k', '<50k', 74)],\n",
              " [('<50k', '>=50k', 512), ('>=50k', '<50k', 139)],\n",
              " [('<50k', '>=50k', 394), ('>=50k', '<50k', 219)],\n",
              " [('<50k', '>=50k', 465), ('>=50k', '<50k', 158)],\n",
              " [('<50k', '>=50k', 575), ('>=50k', '<50k', 126)],\n",
              " [('<50k', '>=50k', 445), ('>=50k', '<50k', 171)],\n",
              " [('<50k', '>=50k', 684), ('>=50k', '<50k', 93)],\n",
              " [('<50k', '>=50k', 736), ('>=50k', '<50k', 81)]]"
            ]
          },
          "metadata": {
            "tags": []
          },
          "execution_count": 39
        }
      ]
    },
    {
      "cell_type": "code",
      "metadata": {
        "id": "MXUz4paRCr6f",
        "colab_type": "code",
        "colab": {
          "base_uri": "https://localhost:8080/",
          "height": 68
        },
        "outputId": "c08858ef-5f5a-4507-d808-6aba45032e26"
      },
      "source": [
        "test['salary'].value_counts(), len(test)"
      ],
      "execution_count": 40,
      "outputs": [
        {
          "output_type": "execute_result",
          "data": {
            "text/plain": [
              "(<50k     2507\n",
              " >=50k     750\n",
              " Name: salary, dtype: int64, 3257)"
            ]
          },
          "metadata": {
            "tags": []
          },
          "execution_count": 40
        }
      ]
    },
    {
      "cell_type": "markdown",
      "metadata": {
        "id": "ASLndguPBqfP",
        "colab_type": "text"
      },
      "source": [
        "### Regular"
      ]
    },
    {
      "cell_type": "code",
      "metadata": {
        "id": "YgYzdv6KBuEZ",
        "colab_type": "code",
        "colab": {}
      },
      "source": [
        "learn = tabular_learner(data_train, layers=[200,100], metrics=accuracy)\n",
        "learn.fit(5, 1e-2)"
      ],
      "execution_count": 0,
      "outputs": []
    },
    {
      "cell_type": "code",
      "metadata": {
        "id": "5dc_HBtCtG4g",
        "colab_type": "code",
        "colab": {
          "base_uri": "https://localhost:8080/",
          "height": 34
        },
        "outputId": "b87d8ac0-7824-46c6-bb2c-d7a2f5ac6c45"
      },
      "source": [
        "learn.data.valid_dl = data_test.train_dl\n",
        "learn.validate()"
      ],
      "execution_count": 36,
      "outputs": [
        {
          "output_type": "execute_result",
          "data": {
            "text/plain": [
              "[0.44150725, tensor(0.7719)]"
            ]
          },
          "metadata": {
            "tags": []
          },
          "execution_count": 36
        }
      ]
    },
    {
      "cell_type": "code",
      "metadata": {
        "id": "G55Ij85YvbN-",
        "colab_type": "code",
        "colab": {}
      },
      "source": [
        "interp = ClassificationInterpretation.from_learner(learn)"
      ],
      "execution_count": 0,
      "outputs": []
    },
    {
      "cell_type": "code",
      "metadata": {
        "id": "agzaQ6cWvdjy",
        "colab_type": "code",
        "colab": {
          "base_uri": "https://localhost:8080/",
          "height": 311
        },
        "outputId": "de7819cb-a867-4a6c-af60-54d87a85f6be"
      },
      "source": [
        "interp.plot_confusion_matrix()"
      ],
      "execution_count": 38,
      "outputs": [
        {
          "output_type": "display_data",
          "data": {
            "image/png": "[encoded data removed]",
            "text/plain": [
              "<Figure size 432x288 with 1 Axes>"
            ]
          },
          "metadata": {
            "tags": []
          }
        }
      ]
    },
    {
      "cell_type": "markdown",
      "metadata": {
        "id": "FotNQx7JssPV",
        "colab_type": "text"
      },
      "source": [
        "Accuracy got much worse! Down to 77.19%. Clearly we had some important data in that set that we got rid of, and notice that the **opposite** happened now, <50k is doing more than twice as bad as >=50k. Let's try the opposite now."
      ]
    },
    {
      "cell_type": "markdown",
      "metadata": {
        "id": "GTCgIkqOtWiS",
        "colab_type": "text"
      },
      "source": [
        "## Oversampling\n",
        "\n",
        "Here we will do the exact same, just opposite."
      ]
    },
    {
      "cell_type": "code",
      "metadata": {
        "id": "tZ50rkbtslmB",
        "colab_type": "code",
        "colab": {}
      },
      "source": [
        "def overSample(df:pd.DataFrame, var:str):\n",
        "  limit = int(df[var].value_counts().max())\n",
        "  lst = []\n",
        "  \n",
        "  for class_index, group in df.groupby(var):\n",
        "    if len(group) < limit:\n",
        "      lst.append(group.sample(limit, replace=True))\n",
        "    else:\n",
        "      lst.append(group)\n",
        "  df = pd.concat(lst)\n",
        "  return df"
      ],
      "execution_count": 0,
      "outputs": []
    },
    {
      "cell_type": "code",
      "metadata": {
        "id": "EuT2kN8NtfTh",
        "colab_type": "code",
        "colab": {}
      },
      "source": [
        "over = overSample(train, 'salary')"
      ],
      "execution_count": 0,
      "outputs": []
    },
    {
      "cell_type": "code",
      "metadata": {
        "id": "F9dYK1Q4toXJ",
        "colab_type": "code",
        "colab": {
          "base_uri": "https://localhost:8080/",
          "height": 68
        },
        "outputId": "fc62c5fe-c578-4bd4-9bde-16fa28e914dc"
      },
      "source": [
        "over['salary'].value_counts()"
      ],
      "execution_count": 43,
      "outputs": [
        {
          "output_type": "execute_result",
          "data": {
            "text/plain": [
              "<50k     17799\n",
              ">=50k    17799\n",
              "Name: salary, dtype: int64"
            ]
          },
          "metadata": {
            "tags": []
          },
          "execution_count": 43
        }
      ]
    },
    {
      "cell_type": "markdown",
      "metadata": {
        "id": "OEq5nRXHttZO",
        "colab_type": "text"
      },
      "source": [
        "Here we tripled the values in order to get up to 17,746 values. Let's analyze them visually and distributively."
      ]
    },
    {
      "cell_type": "code",
      "metadata": {
        "id": "qv2CBzSLtpTx",
        "colab_type": "code",
        "colab": {
          "base_uri": "https://localhost:8080/",
          "height": 298
        },
        "outputId": "6a931f35-35e2-4675-95a8-43ad5011083c"
      },
      "source": [
        "fig, ax = plt.subplots(1,3)\n",
        "\n",
        "over.hist(column='age', ax=ax[0])\n",
        "over.hist(column='fnlwgt', ax=ax[1])\n",
        "over.hist(column='education-num', ax=ax[2])"
      ],
      "execution_count": 142,
      "outputs": [
        {
          "output_type": "execute_result",
          "data": {
            "text/plain": [
              "array([<matplotlib.axes._subplots.AxesSubplot object at 0x7f1bf8610e48>], dtype=object)"
            ]
          },
          "metadata": {
            "tags": []
          },
          "execution_count": 142
        },
        {
          "output_type": "display_data",
          "data": {
            "image/png": "[encoded data removed]",
            "text/plain": [
              "<Figure size 432x288 with 3 Axes>"
            ]
          },
          "metadata": {
            "tags": []
          }
        }
      ]
    },
    {
      "cell_type": "code",
      "metadata": {
        "id": "_k8xMXfbt3nL",
        "colab_type": "code",
        "colab": {
          "base_uri": "https://localhost:8080/",
          "height": 142
        },
        "outputId": "fb912a58-ef7d-4228-bfaa-b79a466a052d"
      },
      "source": [
        "display_side_by_side(reportInfo(over, cols), reportInfo(train, cols))"
      ],
      "execution_count": 143,
      "outputs": [
        {
          "output_type": "display_data",
          "data": {
            "text/html": [
              "<table style=\"display:inline\" border=\"1\" class=\"dataframe\">\n",
              "  <thead>\n",
              "    <tr style=\"text-align: right;\">\n",
              "      <th></th>\n",
              "      <th>Variable</th>\n",
              "      <th>Mean</th>\n",
              "      <th>Standard Deviation</th>\n",
              "    </tr>\n",
              "  </thead>\n",
              "  <tbody>\n",
              "    <tr>\n",
              "      <th>0</th>\n",
              "      <td>age</td>\n",
              "      <td>38.563025</td>\n",
              "      <td>13.599243</td>\n",
              "    </tr>\n",
              "    <tr>\n",
              "      <th>1</th>\n",
              "      <td>fnlwgt</td>\n",
              "      <td>189808.817344</td>\n",
              "      <td>105728.323595</td>\n",
              "    </tr>\n",
              "    <tr>\n",
              "      <th>2</th>\n",
              "      <td>education-num</td>\n",
              "      <td>10.085744</td>\n",
              "      <td>2.576080</td>\n",
              "    </tr>\n",
              "  </tbody>\n",
              "</table style=\"display:inline\"><table style=\"display:inline\" border=\"1\" class=\"dataframe\">\n",
              "  <thead>\n",
              "    <tr style=\"text-align: right;\">\n",
              "      <th></th>\n",
              "      <th>Variable</th>\n",
              "      <th>Mean</th>\n",
              "      <th>Standard Deviation</th>\n",
              "    </tr>\n",
              "  </thead>\n",
              "  <tbody>\n",
              "    <tr>\n",
              "      <th>0</th>\n",
              "      <td>age</td>\n",
              "      <td>38.563025</td>\n",
              "      <td>13.599243</td>\n",
              "    </tr>\n",
              "    <tr>\n",
              "      <th>1</th>\n",
              "      <td>fnlwgt</td>\n",
              "      <td>189808.817344</td>\n",
              "      <td>105728.323595</td>\n",
              "    </tr>\n",
              "    <tr>\n",
              "      <th>2</th>\n",
              "      <td>education-num</td>\n",
              "      <td>10.085744</td>\n",
              "      <td>2.576080</td>\n",
              "    </tr>\n",
              "  </tbody>\n",
              "</table style=\"display:inline\">"
            ]
          },
          "metadata": {
            "tags": []
          }
        }
      ]
    },
    {
      "cell_type": "markdown",
      "metadata": {
        "id": "Tog6WicEuLNR",
        "colab_type": "text"
      },
      "source": [
        "We kept the distrobution the same here as well, and we oversampled. To me, this is only bad because the training could take longer due to almost doubling our dataframe's size"
      ]
    },
    {
      "cell_type": "code",
      "metadata": {
        "id": "tDkbRtjyuVvj",
        "colab_type": "code",
        "colab": {
          "base_uri": "https://localhost:8080/",
          "height": 34
        },
        "outputId": "791903e7-6b34-429a-c892-2f795d948032"
      },
      "source": [
        "len(train), len(over)"
      ],
      "execution_count": 145,
      "outputs": [
        {
          "output_type": "execute_result",
          "data": {
            "text/plain": [
              "(23443, 35492)"
            ]
          },
          "metadata": {
            "tags": []
          },
          "execution_count": 145
        }
      ]
    },
    {
      "cell_type": "markdown",
      "metadata": {
        "id": "1rLX4KqiucL4",
        "colab_type": "text"
      },
      "source": [
        "Now let's train"
      ]
    },
    {
      "cell_type": "code",
      "metadata": {
        "id": "qV3VQMjfuerr",
        "colab_type": "code",
        "colab": {}
      },
      "source": [
        "train_val = over.append(valid)\n",
        "data_train = (TabularList.from_df(train_val, path=path, cat_names=cat_names, \n",
        "                                  cont_names=cont_names, procs=procs)\n",
        "             .split_by_idx(list(range(len(over), len(train_val))))\n",
        "             .label_from_df(cols=dep_var)\n",
        "             .databunch())\n",
        "\n",
        "\n",
        "data_test = (TabularList.from_df(test, path=path, cat_names=cat_names,\n",
        "                                cont_names=cont_names, procs=procs, \n",
        "                                processor=data_train.processor)\n",
        "            .split_none()\n",
        "            .label_from_df(cols=dep_var)\n",
        "            .databunch())\n",
        "\n"
      ],
      "execution_count": 0,
      "outputs": []
    },
    {
      "cell_type": "markdown",
      "metadata": {
        "id": "RSiM5XqdC81m",
        "colab_type": "text"
      },
      "source": [
        "### 10 Times"
      ]
    },
    {
      "cell_type": "code",
      "metadata": {
        "id": "Jhg-7fVsC_P6",
        "colab_type": "code",
        "colab": {}
      },
      "source": [
        "arr = []\n",
        "mc = []\n",
        "for x in range(10):\n",
        "  learn = tabular_learner(data_train, layers=[200,100], metrics=accuracy)\n",
        "  learn.fit(5, 1e-2)\n",
        "  learn.data.valid_dl = data_test.train_dl\n",
        "  res = learn.validate()\n",
        "  arr.append(float(res[1]))\n",
        "  intp = ClassificationInterpretation.from_learner(learn)\n",
        "  mc.append(intp.most_confused())"
      ],
      "execution_count": 0,
      "outputs": []
    },
    {
      "cell_type": "code",
      "metadata": {
        "id": "Xm1DiAlnERdw",
        "colab_type": "code",
        "colab": {
          "base_uri": "https://localhost:8080/",
          "height": 187
        },
        "outputId": "f5a0015c-c5eb-42da-ec81-4b9221d7da0f"
      },
      "source": [
        "mc"
      ],
      "execution_count": 46,
      "outputs": [
        {
          "output_type": "execute_result",
          "data": {
            "text/plain": [
              "[[('<50k', '>=50k', 602), ('>=50k', '<50k', 116)],\n",
              " [('<50k', '>=50k', 768), ('>=50k', '<50k', 81)],\n",
              " [('<50k', '>=50k', 639), ('>=50k', '<50k', 106)],\n",
              " [('<50k', '>=50k', 588), ('>=50k', '<50k', 119)],\n",
              " [('<50k', '>=50k', 657), ('>=50k', '<50k', 106)],\n",
              " [('<50k', '>=50k', 730), ('>=50k', '<50k', 99)],\n",
              " [('<50k', '>=50k', 565), ('>=50k', '<50k', 127)],\n",
              " [('<50k', '>=50k', 525), ('>=50k', '<50k', 147)],\n",
              " [('<50k', '>=50k', 666), ('>=50k', '<50k', 99)],\n",
              " [('<50k', '>=50k', 665), ('>=50k', '<50k', 109)]]"
            ]
          },
          "metadata": {
            "tags": []
          },
          "execution_count": 46
        }
      ]
    },
    {
      "cell_type": "markdown",
      "metadata": {
        "id": "eNB2HBktC-Hx",
        "colab_type": "text"
      },
      "source": [
        "### Once"
      ]
    },
    {
      "cell_type": "code",
      "metadata": {
        "id": "xcSQ91KcDA3I",
        "colab_type": "code",
        "colab": {}
      },
      "source": [
        "learn = tabular_learner(data_train, layers=[200,100], metrics=accuracy)\n",
        "learn.fit(5, 1e-2)"
      ],
      "execution_count": 0,
      "outputs": []
    },
    {
      "cell_type": "code",
      "metadata": {
        "id": "M4d4SWprv-oS",
        "colab_type": "code",
        "colab": {
          "base_uri": "https://localhost:8080/",
          "height": 34
        },
        "outputId": "bba0add6-630b-4b90-a4d3-52191d920683"
      },
      "source": [
        "learn.data.valid_dl = data_test.train_dl\n",
        "learn.validate()"
      ],
      "execution_count": 43,
      "outputs": [
        {
          "output_type": "execute_result",
          "data": {
            "text/plain": [
              "[0.4352733, tensor(0.7862)]"
            ]
          },
          "metadata": {
            "tags": []
          },
          "execution_count": 43
        }
      ]
    },
    {
      "cell_type": "code",
      "metadata": {
        "id": "RXBF679jwGjD",
        "colab_type": "code",
        "colab": {
          "base_uri": "https://localhost:8080/",
          "height": 311
        },
        "outputId": "0421533d-66a2-465d-8280-e6afb75eb784"
      },
      "source": [
        "interp = ClassificationInterpretation.from_learner(learn)\n",
        "interp.plot_confusion_matrix()"
      ],
      "execution_count": 44,
      "outputs": [
        {
          "output_type": "display_data",
          "data": {
            "image/png": "[encoded data removed]",
            "text/plain": [
              "<Figure size 432x288 with 1 Axes>"
            ]
          },
          "metadata": {
            "tags": []
          }
        }
      ]
    },
    {
      "cell_type": "markdown",
      "metadata": {
        "id": "DpLeLnQeup-a",
        "colab_type": "text"
      },
      "source": [
        "Once properly fitted, we got around 80%, definetly still not our 82-83% accuracy above, and we still struggle with <50k more, **but** the gap is only ~1,000 samples vs almost 2"
      ]
    },
    {
      "cell_type": "markdown",
      "metadata": {
        "id": "1ER1EspDwQ4u",
        "colab_type": "text"
      },
      "source": [
        "## Mixture\n",
        "\n",
        "This last technique will be a middle-man between the two. We will take the average between the occurances of the two classes, and randomly upsample or downsample accordingly until we have a balanced dataset."
      ]
    },
    {
      "cell_type": "code",
      "metadata": {
        "id": "qFXxHT8uuidD",
        "colab_type": "code",
        "colab": {
          "base_uri": "https://localhost:8080/",
          "height": 68
        },
        "outputId": "49a6a9d7-530f-4a5a-c84d-8449708361e1"
      },
      "source": [
        "train['salary'].value_counts()"
      ],
      "execution_count": 47,
      "outputs": [
        {
          "output_type": "execute_result",
          "data": {
            "text/plain": [
              "<50k     17799\n",
              ">=50k     5644\n",
              "Name: salary, dtype: int64"
            ]
          },
          "metadata": {
            "tags": []
          },
          "execution_count": 47
        }
      ]
    },
    {
      "cell_type": "code",
      "metadata": {
        "id": "u2q5Yud3wdfa",
        "colab_type": "code",
        "colab": {
          "base_uri": "https://localhost:8080/",
          "height": 34
        },
        "outputId": "d6b48159-3873-4193-c03c-d05d31956bd8"
      },
      "source": [
        "int((17854+5589)/2)"
      ],
      "execution_count": 181,
      "outputs": [
        {
          "output_type": "execute_result",
          "data": {
            "text/plain": [
              "11721"
            ]
          },
          "metadata": {
            "tags": []
          },
          "execution_count": 181
        }
      ]
    },
    {
      "cell_type": "markdown",
      "metadata": {
        "id": "unvBcimewmwQ",
        "colab_type": "text"
      },
      "source": [
        "We should expect each class to have 11721 samples in it"
      ]
    },
    {
      "cell_type": "code",
      "metadata": {
        "id": "Cj_7w4b1wj6k",
        "colab_type": "code",
        "colab": {}
      },
      "source": [
        "def balanceSample(df, var):\n",
        "  avg = int(df[var].value_counts().mean())\n",
        "  lst = []\n",
        "  \n",
        "  for class_index, group in df.groupby(var):\n",
        "    if len(group) < avg:\n",
        "      lst.append(group.sample(avg, replace = True))\n",
        "    if len(group) > avg:\n",
        "      lst.append(group.sample(avg, replace=True))\n",
        "  df = pd.concat(lst)\n",
        "  return df"
      ],
      "execution_count": 0,
      "outputs": []
    },
    {
      "cell_type": "code",
      "metadata": {
        "id": "c1DI-F4fwuHt",
        "colab_type": "code",
        "colab": {}
      },
      "source": [
        "balance = balanceSample(train, 'salary')"
      ],
      "execution_count": 0,
      "outputs": []
    },
    {
      "cell_type": "code",
      "metadata": {
        "id": "PIsRGrmFyp0g",
        "colab_type": "code",
        "colab": {
          "base_uri": "https://localhost:8080/",
          "height": 68
        },
        "outputId": "ff365a36-a434-41db-e5e8-e068ba596a0f"
      },
      "source": [
        "balance['salary'].value_counts()"
      ],
      "execution_count": 50,
      "outputs": [
        {
          "output_type": "execute_result",
          "data": {
            "text/plain": [
              "<50k     11721\n",
              ">=50k    11721\n",
              "Name: salary, dtype: int64"
            ]
          },
          "metadata": {
            "tags": []
          },
          "execution_count": 50
        }
      ]
    },
    {
      "cell_type": "code",
      "metadata": {
        "id": "jRdSyS8Dysqg",
        "colab_type": "code",
        "colab": {
          "base_uri": "https://localhost:8080/",
          "height": 298
        },
        "outputId": "a9b2b5cc-d399-418f-c373-6663290aa517"
      },
      "source": [
        "fig, ax = plt.subplots(1,3)\n",
        "\n",
        "balance.hist(column='age', ax=ax[0])\n",
        "balance.hist(column='fnlwgt', ax=ax[1])\n",
        "balance.hist(column='education-num', ax=ax[2])"
      ],
      "execution_count": 49,
      "outputs": [
        {
          "output_type": "execute_result",
          "data": {
            "text/plain": [
              "array([<matplotlib.axes._subplots.AxesSubplot object at 0x7fc7f06db320>], dtype=object)"
            ]
          },
          "metadata": {
            "tags": []
          },
          "execution_count": 49
        },
        {
          "output_type": "display_data",
          "data": {
            "image/png": "[encoded data removed]",
            "text/plain": [
              "<Figure size 432x288 with 3 Axes>"
            ]
          },
          "metadata": {
            "tags": []
          }
        }
      ]
    },
    {
      "cell_type": "code",
      "metadata": {
        "id": "12nTxC2_0W6l",
        "colab_type": "code",
        "colab": {
          "base_uri": "https://localhost:8080/",
          "height": 142
        },
        "outputId": "0bd87262-196e-45e6-8a77-83345e5fab64"
      },
      "source": [
        "display_side_by_side(reportInfo(balance, cols), reportInfo(train, cols))"
      ],
      "execution_count": 188,
      "outputs": [
        {
          "output_type": "display_data",
          "data": {
            "text/html": [
              "<table style=\"display:inline\" border=\"1\" class=\"dataframe\">\n",
              "  <thead>\n",
              "    <tr style=\"text-align: right;\">\n",
              "      <th></th>\n",
              "      <th>Variable</th>\n",
              "      <th>Mean</th>\n",
              "      <th>Standard Deviation</th>\n",
              "    </tr>\n",
              "  </thead>\n",
              "  <tbody>\n",
              "    <tr>\n",
              "      <th>0</th>\n",
              "      <td>age</td>\n",
              "      <td>38.553641</td>\n",
              "      <td>13.557654</td>\n",
              "    </tr>\n",
              "    <tr>\n",
              "      <th>1</th>\n",
              "      <td>fnlwgt</td>\n",
              "      <td>189071.218402</td>\n",
              "      <td>105184.211227</td>\n",
              "    </tr>\n",
              "    <tr>\n",
              "      <th>2</th>\n",
              "      <td>education-num</td>\n",
              "      <td>10.080087</td>\n",
              "      <td>2.565509</td>\n",
              "    </tr>\n",
              "  </tbody>\n",
              "</table style=\"display:inline\"><table style=\"display:inline\" border=\"1\" class=\"dataframe\">\n",
              "  <thead>\n",
              "    <tr style=\"text-align: right;\">\n",
              "      <th></th>\n",
              "      <th>Variable</th>\n",
              "      <th>Mean</th>\n",
              "      <th>Standard Deviation</th>\n",
              "    </tr>\n",
              "  </thead>\n",
              "  <tbody>\n",
              "    <tr>\n",
              "      <th>0</th>\n",
              "      <td>age</td>\n",
              "      <td>38.553641</td>\n",
              "      <td>13.557654</td>\n",
              "    </tr>\n",
              "    <tr>\n",
              "      <th>1</th>\n",
              "      <td>fnlwgt</td>\n",
              "      <td>189071.218402</td>\n",
              "      <td>105184.211227</td>\n",
              "    </tr>\n",
              "    <tr>\n",
              "      <th>2</th>\n",
              "      <td>education-num</td>\n",
              "      <td>10.080087</td>\n",
              "      <td>2.565509</td>\n",
              "    </tr>\n",
              "  </tbody>\n",
              "</table style=\"display:inline\">"
            ]
          },
          "metadata": {
            "tags": []
          }
        }
      ]
    },
    {
      "cell_type": "markdown",
      "metadata": {
        "id": "BGqjquv90f6D",
        "colab_type": "text"
      },
      "source": [
        "Everything is still the same, and we have a happy medium in values. Let's train and see how much we differ"
      ]
    },
    {
      "cell_type": "code",
      "metadata": {
        "id": "Na68s6IW0euW",
        "colab_type": "code",
        "colab": {}
      },
      "source": [
        "train_val = balance.append(valid)\n",
        "data_train = (TabularList.from_df(train_val, path=path, cat_names=cat_names, \n",
        "                                  cont_names=cont_names, procs=procs)\n",
        "             .split_by_idx(list(range(len(balance), len(train_val))))\n",
        "             .label_from_df(cols=dep_var)\n",
        "             .databunch())\n",
        "\n",
        "\n",
        "data_test = (TabularList.from_df(test, path=path, cat_names=cat_names,\n",
        "                                cont_names=cont_names, procs=procs, \n",
        "                                processor=data_train.processor)\n",
        "            .split_none()\n",
        "            .label_from_df(cols=dep_var)\n",
        "            .databunch())\n"
      ],
      "execution_count": 0,
      "outputs": []
    },
    {
      "cell_type": "markdown",
      "metadata": {
        "id": "5pXD1c2JE7Go",
        "colab_type": "text"
      },
      "source": [
        "### 10 Runs"
      ]
    },
    {
      "cell_type": "code",
      "metadata": {
        "id": "P_RBa5epE_Ut",
        "colab_type": "code",
        "colab": {}
      },
      "source": [
        "arr = []\n",
        "mc = []\n",
        "for x in range(10):\n",
        "  learn = tabular_learner(data_train, layers=[200,100], metrics=accuracy)\n",
        "  learn.fit(5, 1e-2)\n",
        "  learn.data.valid_dl = data_test.train_dl\n",
        "  res = learn.validate()\n",
        "  arr.append(float(res[1]))\n",
        "  intp = ClassificationInterpretation.from_learner(learn)\n",
        "  mc.append(intp.most_confused())"
      ],
      "execution_count": 0,
      "outputs": []
    },
    {
      "cell_type": "code",
      "metadata": {
        "id": "xgg7VZokFIdR",
        "colab_type": "code",
        "colab": {
          "base_uri": "https://localhost:8080/",
          "height": 187
        },
        "outputId": "0ea3c98b-b4b6-4447-9679-60aaf07f7c2a"
      },
      "source": [
        "mc"
      ],
      "execution_count": 55,
      "outputs": [
        {
          "output_type": "execute_result",
          "data": {
            "text/plain": [
              "[[('<50k', '>=50k', 439), ('>=50k', '<50k', 180)],\n",
              " [('<50k', '>=50k', 660), ('>=50k', '<50k', 102)],\n",
              " [('<50k', '>=50k', 563), ('>=50k', '<50k', 130)],\n",
              " [('<50k', '>=50k', 610), ('>=50k', '<50k', 116)],\n",
              " [('<50k', '>=50k', 612), ('>=50k', '<50k', 105)],\n",
              " [('<50k', '>=50k', 511), ('>=50k', '<50k', 151)],\n",
              " [('<50k', '>=50k', 661), ('>=50k', '<50k', 102)],\n",
              " [('<50k', '>=50k', 680), ('>=50k', '<50k', 109)],\n",
              " [('<50k', '>=50k', 340), ('>=50k', '<50k', 232)],\n",
              " [('<50k', '>=50k', 581), ('>=50k', '<50k', 127)]]"
            ]
          },
          "metadata": {
            "tags": []
          },
          "execution_count": 55
        }
      ]
    },
    {
      "cell_type": "markdown",
      "metadata": {
        "id": "QMHmKBuUE8TF",
        "colab_type": "text"
      },
      "source": [
        "### Single run"
      ]
    },
    {
      "cell_type": "code",
      "metadata": {
        "id": "efWZkEUGE96N",
        "colab_type": "code",
        "colab": {}
      },
      "source": [
        "learn = tabular_learner(data_train, layers=[200,100], metrics=accuracy)\n",
        "learn.fit(5, 1e-2)"
      ],
      "execution_count": 0,
      "outputs": []
    },
    {
      "cell_type": "code",
      "metadata": {
        "id": "saq4LmJi0qZ_",
        "colab_type": "code",
        "colab": {
          "base_uri": "https://localhost:8080/",
          "height": 34
        },
        "outputId": "ec4cc142-92a8-4af3-a8ff-b5d926f7231b"
      },
      "source": [
        "learn.data.valid_dl = data_test.train_dl\n",
        "learn.validate()"
      ],
      "execution_count": 56,
      "outputs": [
        {
          "output_type": "execute_result",
          "data": {
            "text/plain": [
              "[0.4130751, tensor(0.7891)]"
            ]
          },
          "metadata": {
            "tags": []
          },
          "execution_count": 56
        }
      ]
    },
    {
      "cell_type": "code",
      "metadata": {
        "id": "G8jQgh4o1_-Y",
        "colab_type": "code",
        "colab": {
          "base_uri": "https://localhost:8080/",
          "height": 311
        },
        "outputId": "3c3f12ce-be65-4a8e-8984-55e647cce21b"
      },
      "source": [
        "interp = ClassificationInterpretation.from_learner(learn)\n",
        "interp.plot_confusion_matrix()"
      ],
      "execution_count": 57,
      "outputs": [
        {
          "output_type": "display_data",
          "data": {
            "image/png": "[encoded data removed]",
            "text/plain": [
              "<Figure size 432x288 with 1 Axes>"
            ]
          },
          "metadata": {
            "tags": []
          }
        }
      ]
    },
    {
      "cell_type": "markdown",
      "metadata": {
        "id": "P2jKqxx613pe",
        "colab_type": "text"
      },
      "source": [
        "A bit more volitile here, but we also only got 78.91% error here... yet again still not the 83% but notice the class losses are almost equivalent now! Let's analyze that a bit further in excel."
      ]
    },
    {
      "cell_type": "code",
      "metadata": {
        "id": "jqeurRFX12sC",
        "colab_type": "code",
        "colab": {}
      },
      "source": [
        ""
      ],
      "execution_count": 0,
      "outputs": []
    }
  ]
}
