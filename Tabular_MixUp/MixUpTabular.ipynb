{
  "nbformat": 4,
  "nbformat_minor": 0,
  "metadata": {
    "kernelspec": {
      "display_name": "Python 3",
      "language": "python",
      "name": "python3"
    },
    "colab": {
      "name": "lesson4-tabular.ipynb",
      "version": "0.3.2",
      "provenance": []
    }
  },
  "cells": [
    {
      "cell_type": "code",
      "metadata": {
        "id": "ajM5muoEmD4D",
        "colab_type": "code",
        "colab": {}
      },
      "source": [
        "!git clone https://github.com/muellerzr/fastai-Experiments-and-tips.git\n",
        "%cd fastai-Experiments-and-tips/\n",
        "from Tabular_MixUp import *"
      ],
      "execution_count": 0,
      "outputs": []
    },
    {
      "cell_type": "markdown",
      "metadata": {
        "id": "rYJXj-UWkycF",
        "colab_type": "text"
      },
      "source": [
        "# Tabular MixUp"
      ]
    },
    {
      "cell_type": "code",
      "metadata": {
        "id": "GYqe9zgPkycH",
        "colab_type": "code",
        "colab": {}
      },
      "source": [
        "from fastai.tabular import *"
      ],
      "execution_count": 0,
      "outputs": []
    },
    {
      "cell_type": "code",
      "metadata": {
        "id": "w_gaQk-3kycN",
        "colab_type": "code",
        "colab": {}
      },
      "source": [
        "path = untar_data(URLs.ADULT_SAMPLE)\n",
        "df = pd.read_csv(path/'adult.csv')"
      ],
      "execution_count": 0,
      "outputs": []
    },
    {
      "cell_type": "code",
      "metadata": {
        "id": "rgqAyWEEkycQ",
        "colab_type": "code",
        "colab": {}
      },
      "source": [
        "dep_var = 'salary'\n",
        "cat_names = ['workclass', 'education', 'marital-status', 'occupation', 'relationship', 'race']\n",
        "cont_names = ['age', 'fnlwgt', 'education-num']\n",
        "procs = [FillMissing, Categorify, Normalize]"
      ],
      "execution_count": 0,
      "outputs": []
    },
    {
      "cell_type": "code",
      "metadata": {
        "id": "_8BLSml1lEpb",
        "colab_type": "code",
        "colab": {
          "base_uri": "https://localhost:8080/",
          "height": 34
        },
        "outputId": "ba38949b-bba6-4ac2-c4c8-b198c93151d7"
      },
      "source": [
        "len(df)"
      ],
      "execution_count": 32,
      "outputs": [
        {
          "output_type": "execute_result",
          "data": {
            "text/plain": [
              "32561"
            ]
          },
          "metadata": {
            "tags": []
          },
          "execution_count": 32
        }
      ]
    },
    {
      "cell_type": "code",
      "metadata": {
        "id": "IWjHJyghlGeB",
        "colab_type": "code",
        "colab": {}
      },
      "source": [
        "train = df.iloc[0:int(len(df) * .7)]\n",
        "test = df.iloc[int(len(df) * .7):]"
      ],
      "execution_count": 0,
      "outputs": []
    },
    {
      "cell_type": "code",
      "metadata": {
        "id": "7KcrmlQmlPYH",
        "colab_type": "code",
        "colab": {
          "base_uri": "https://localhost:8080/",
          "height": 34
        },
        "outputId": "fb5ff2b8-0ebc-4f69-ebe3-d1411a857b6f"
      },
      "source": [
        "len(train), len(test)"
      ],
      "execution_count": 6,
      "outputs": [
        {
          "output_type": "execute_result",
          "data": {
            "text/plain": [
              "(22792, 9769)"
            ]
          },
          "metadata": {
            "tags": []
          },
          "execution_count": 6
        }
      ]
    },
    {
      "cell_type": "markdown",
      "metadata": {
        "id": "CKCo1CqTmiNT",
        "colab_type": "text"
      },
      "source": [
        "# Ten Times\n",
        "\n",
        "Each will be run with early stopping"
      ]
    },
    {
      "cell_type": "code",
      "metadata": {
        "id": "qBmB2PBfmnDe",
        "colab_type": "code",
        "colab": {}
      },
      "source": [
        "from fastai.callbacks import EarlyStoppingCallback"
      ],
      "execution_count": 0,
      "outputs": []
    },
    {
      "cell_type": "markdown",
      "metadata": {
        "id": "LchGq9NNmkEo",
        "colab_type": "text"
      },
      "source": [
        "## Base"
      ]
    },
    {
      "cell_type": "code",
      "metadata": {
        "id": "38SwHbzhm2si",
        "colab_type": "code",
        "colab": {
          "base_uri": "https://localhost:8080/",
          "height": 34
        },
        "outputId": "9904dfbb-75e9-44af-ef80-028a77356f24"
      },
      "source": [
        "dep_var"
      ],
      "execution_count": 25,
      "outputs": [
        {
          "output_type": "execute_result",
          "data": {
            "text/plain": [
              "'salary'"
            ]
          },
          "metadata": {
            "tags": []
          },
          "execution_count": 25
        }
      ]
    },
    {
      "cell_type": "code",
      "metadata": {
        "id": "2qzxSMEgo3gz",
        "colab_type": "code",
        "colab": {}
      },
      "source": [
        "def calcError(arr:np.array):\n",
        "  mean = arr.mean()\n",
        "  stds = []\n",
        "  for _, val in enumerate(arr):\n",
        "    stds.append((mean-val)**2)\n",
        "  stds = np.array(stds).sum()\n",
        "  var = math.sqrt(stds/(len(arr)-1))\n",
        "  return var/math.sqrt(len(arr))"
      ],
      "execution_count": 0,
      "outputs": []
    },
    {
      "cell_type": "code",
      "metadata": {
        "id": "eqHcHbT3mzMw",
        "colab_type": "code",
        "colab": {}
      },
      "source": [
        "def calc_mean(l): return reduce(lambda x, y: x + y, l) / len(l)\n",
        "mostconf = []\n",
        "valid_avg = []\n",
        "test_avg = []\n",
        "callbacks = [TabMixUpCallback, EarlyStoppingCallback]\n",
        "\n",
        "procs = [Categorify, Normalize, FillMissing]\n",
        "loss_func=CrossEntropyFlat()\n",
        "\n",
        "for x in range(10):\n",
        "  dep_var = 'salary'\n",
        "  cat_names = ['workclass', 'education', 'marital-status', 'occupation', 'relationship', 'race']\n",
        "  cont_names = ['age', 'fnlwgt', 'education-num']\n",
        "  procs = [FillMissing, Categorify, Normalize]\n",
        "  data = (TabularList.from_df(train, path=path, cat_names=cat_names, cont_names=cont_names, procs=procs)\n",
        "                           .split_by_rand_pct()\n",
        "                           .label_from_df(cols=dep_var)\n",
        "                           .databunch())\n",
        "  learn = mytabular_learner(data, layers=[200,100], metrics=accuracy, callback_fns = callbacks)\n",
        "  learn.fit_one_cycle(5, max_lr=1e-3)\n",
        "\n",
        "  valid_avg.append(float(learn.validate()[1]))\n",
        "\n",
        "  data_test = (TabularList.from_df(test, path = '', cat_names = cat_names, cont_names = cont_names, procs = procs, processor=data.processor)\n",
        "       .split_none()\n",
        "       .label_from_df(cols=dep_var))\n",
        "\n",
        "  data_test.valid = data_test.train\n",
        "  data_test = data_test.databunch()\n",
        "  learn.data.valid_dl = data_test.valid_dl\n",
        "  test_avg.append(float(learn.validate()[1]))\n",
        "\n",
        "  interp = ClassificationInterpretation.from_learner(learn)\n",
        "  mostconf.append(interp.confusion_matrix())\n",
        "\n",
        "  print(f'Validation Accuracy {x+1}: {valid_avg[x]}')\n",
        "  print(f'Test Accuracy {x+1}: {test_avg[x]}')\n"
      ],
      "execution_count": 0,
      "outputs": []
    },
    {
      "cell_type": "code",
      "metadata": {
        "id": "VtskX416o8if",
        "colab_type": "code",
        "colab": {
          "base_uri": "https://localhost:8080/",
          "height": 85
        },
        "outputId": "87ce8b75-5459-46b2-b2e0-b07ba5846c95"
      },
      "source": [
        "print(f'Average Validation Accuracy: {calc_mean(valid_avg)}')\n",
        "print(f'Validation Error: {calcError(np.array(valid_avg))}')\n",
        "print(f'Average Test Accuracy: {calc_mean(test_avg)}')\n",
        "print(f'Test Error: {calcError(np.array(test_avg))}')"
      ],
      "execution_count": 44,
      "outputs": [
        {
          "output_type": "stream",
          "text": [
            "Average Validation Accuracy: 0.8406318545341491\n",
            "Validation Error: 0.0013322007412085754\n",
            "Average Test Accuracy: 0.8356945395469666\n",
            "Test Error: 0.0005333146311434077\n"
          ],
          "name": "stdout"
        }
      ]
    },
    {
      "cell_type": "code",
      "metadata": {
        "id": "Fd7RhYxMkyc0",
        "colab_type": "code",
        "colab": {
          "base_uri": "https://localhost:8080/",
          "height": 51
        },
        "outputId": "1da9fc3d-0cf8-4bf5-cfd0-ed2f715f38cf"
      },
      "source": [
        "mostconf = []\n",
        "valid_avg = []\n",
        "test_avg = []\n",
        "callbacks = [EarlyStoppingCallback]\n",
        "\n",
        "procs = [Categorify, Normalize, FillMissing]\n",
        "loss_func=CrossEntropyFlat()\n",
        "\n",
        "for x in range(10):\n",
        "  dep_var = 'salary'\n",
        "  cat_names = ['workclass', 'education', 'marital-status', 'occupation', 'relationship', 'race']\n",
        "  cont_names = ['age', 'fnlwgt', 'education-num']\n",
        "  procs = [FillMissing, Categorify, Normalize]\n",
        "  data = (TabularList.from_df(train, path=path, cat_names=cat_names, cont_names=cont_names, procs=procs)\n",
        "                           .split_by_rand_pct()\n",
        "                           .label_from_df(cols=dep_var)\n",
        "                           .databunch())\n",
        "  learn = tabular_learner(data, layers=[200,100], metrics=accuracy, callback_fns = callbacks)\n",
        "  learn.fit_one_cycle(5, max_lr=1e-3)\n",
        "\n",
        "  valid_avg.append(float(learn.validate()[1]))\n",
        "\n",
        "  data_test = (TabularList.from_df(test, path = '', cat_names = cat_names, cont_names = cont_names, procs = procs, processor=data.processor)\n",
        "       .split_none()\n",
        "       .label_from_df(cols=dep_var))\n",
        "\n",
        "  data_test.valid = data_test.train\n",
        "  data_test = data_test.databunch()\n",
        "  learn.data.valid_dl = data_test.valid_dl\n",
        "  test_avg.append(float(learn.validate()[1]))\n",
        "\n",
        "  interp = ClassificationInterpretation.from_learner(learn)\n",
        "  mostconf.append(interp.confusion_matrix())\n"
      ],
      "execution_count": 46,
      "outputs": [
        {
          "output_type": "stream",
          "text": [
            "Validation Accuracy 10: 0.8372092843055725\n",
            "Test Accuracy 10: 0.8339645862579346\n"
          ],
          "name": "stdout"
        }
      ]
    },
    {
      "cell_type": "code",
      "metadata": {
        "id": "0zDP8_D-pCvi",
        "colab_type": "code",
        "colab": {
          "base_uri": "https://localhost:8080/",
          "height": 85
        },
        "outputId": "7f5696d6-1944-43a1-dd46-b6029bb282cc"
      },
      "source": [
        "print(f'Average Validation Accuracy: {calc_mean(valid_avg)}')\n",
        "print(f'Validation Error: {calcError(np.array(valid_avg))}')\n",
        "print(f'Average Test Accuracy: {calc_mean(test_avg)}')\n",
        "print(f'Test Error: {calcError(np.array(test_avg))}')"
      ],
      "execution_count": 47,
      "outputs": [
        {
          "output_type": "stream",
          "text": [
            "Average Validation Accuracy: 0.8339403212070465\n",
            "Validation Error: 0.0012811394288844689\n",
            "Average Test Accuracy: 0.8373528480529785\n",
            "Test Error: 0.0005863463749612452\n"
          ],
          "name": "stdout"
        }
      ]
    },
    {
      "cell_type": "code",
      "metadata": {
        "id": "51FJovPRp9nJ",
        "colab_type": "code",
        "colab": {}
      },
      "source": [
        ""
      ],
      "execution_count": 0,
      "outputs": []
    }
  ]
}