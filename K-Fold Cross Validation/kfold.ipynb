{
  "nbformat": 4,
  "nbformat_minor": 0,
  "metadata": {
    "colab": {
      "name": "kfold.ipynb",
      "version": "0.3.2",
      "provenance": []
    },
    "kernelspec": {
      "name": "python3",
      "display_name": "Python 3"
    },
    "accelerator": "GPU"
  },
  "cells": [
    {
      "cell_type": "markdown",
      "metadata": {
        "id": "BagF09_AzMfg",
        "colab_type": "text"
      },
      "source": [
        "# K-Fold Cross Validation in fastai\n",
        "\n",
        "This notebook will detail how to implement K-Fold Cross Validation in fastai.\n",
        "\n",
        "I do want to make one note though. If you do use Cross Validation, you must be **sure** to have a seperate test set to accuractly grade your model, as k-fold will go through everything. To ensure this, we will take a 10% subset of the Adults data."
      ]
    },
    {
      "cell_type": "markdown",
      "metadata": {
        "id": "o9RL-6Glzhqu",
        "colab_type": "text"
      },
      "source": [
        "## Libraries"
      ]
    },
    {
      "cell_type": "code",
      "metadata": {
        "id": "xJlLgF_6zLXm",
        "colab_type": "code",
        "colab": {}
      },
      "source": [
        "from fastai.tabular import *\n",
        "from sklearn.model_selection import StratifiedKFold"
      ],
      "execution_count": 0,
      "outputs": []
    },
    {
      "cell_type": "markdown",
      "metadata": {
        "id": "8YfN0Ibfz8xZ",
        "colab_type": "text"
      },
      "source": [
        "## Data\n",
        "\n"
      ]
    },
    {
      "cell_type": "code",
      "metadata": {
        "id": "MLovZc2z0PyK",
        "colab_type": "code",
        "colab": {}
      },
      "source": [
        "path = untar_data(URLs.ADULT_SAMPLE)"
      ],
      "execution_count": 0,
      "outputs": []
    },
    {
      "cell_type": "code",
      "metadata": {
        "id": "wJIJkVEm0OAh",
        "colab_type": "code",
        "colab": {}
      },
      "source": [
        "df = pd.read_csv(path/'adult.csv')"
      ],
      "execution_count": 0,
      "outputs": []
    },
    {
      "cell_type": "markdown",
      "metadata": {
        "id": "w8y-NqLP0NU0",
        "colab_type": "text"
      },
      "source": [
        "We need to create an initial databunch to copy the processors over (so FillMissing operates correctly)."
      ]
    },
    {
      "cell_type": "code",
      "metadata": {
        "id": "rka4216a0X-4",
        "colab_type": "code",
        "colab": {}
      },
      "source": [
        "dep_var = 'salary'\n",
        "cat_names = ['workclass', 'education', 'marital-status', 'occupation', 'relationship', 'race']\n",
        "cont_names = ['age', 'fnlwgt', 'education-num']\n",
        "procs = [FillMissing, Categorify, Normalize]"
      ],
      "execution_count": 0,
      "outputs": []
    },
    {
      "cell_type": "code",
      "metadata": {
        "id": "UmbAnFn7z8hV",
        "colab_type": "code",
        "colab": {}
      },
      "source": [
        "data_init = (TabularList.from_df(df, path=path, cat_names=cat_names.copy(), cont_names=cont_names.copy(), procs=procs)\n",
        "                           .split_by_idx(list(range(800,1000)))\n",
        "                           .label_from_df(cols=dep_var)\n",
        "                           .databunch())"
      ],
      "execution_count": 0,
      "outputs": []
    },
    {
      "cell_type": "markdown",
      "metadata": {
        "id": "IfHGXKo-0pob",
        "colab_type": "text"
      },
      "source": [
        "Now we can split the dataframe"
      ]
    },
    {
      "cell_type": "code",
      "metadata": {
        "id": "M4NuGksK0rK9",
        "colab_type": "code",
        "colab": {
          "base_uri": "https://localhost:8080/",
          "height": 34
        },
        "outputId": "b6a12bc0-98cf-4c43-ae8c-c59c2910830a"
      },
      "source": [
        "int(len(df)*.9)"
      ],
      "execution_count": 6,
      "outputs": [
        {
          "output_type": "execute_result",
          "data": {
            "text/plain": [
              "29304"
            ]
          },
          "metadata": {
            "tags": []
          },
          "execution_count": 6
        }
      ]
    },
    {
      "cell_type": "code",
      "metadata": {
        "id": "xgeq5XX10tGC",
        "colab_type": "code",
        "colab": {}
      },
      "source": [
        "train_df = df.iloc[:29304]\n",
        "test_df = df.iloc[29304:]"
      ],
      "execution_count": 0,
      "outputs": []
    },
    {
      "cell_type": "markdown",
      "metadata": {
        "id": "-W2CWYgS054M",
        "colab_type": "text"
      },
      "source": [
        "## K-Fold"
      ]
    },
    {
      "cell_type": "markdown",
      "metadata": {
        "id": "HbqjVXJn07Se",
        "colab_type": "text"
      },
      "source": [
        "Now that everything is seperated, we can use K-Fold. The code is based off of Fernando A's post [here](https://forums.fast.ai/t/is-it-possible-to-implement-cross-validation-in-fastai/44961/5?u=muellerzr). \n",
        "\n",
        "First we initialize the Stratified K-Fold"
      ]
    },
    {
      "cell_type": "code",
      "metadata": {
        "id": "MCEUffOs1NIJ",
        "colab_type": "code",
        "colab": {}
      },
      "source": [
        "skf = StratifiedKFold(n_splits=10, shuffle=True, random_state=1)"
      ],
      "execution_count": 0,
      "outputs": []
    },
    {
      "cell_type": "markdown",
      "metadata": {
        "id": "G5kBv0Q51VeM",
        "colab_type": "text"
      },
      "source": [
        "Now we need our training loop where we will go over all of the folds and gather our validation and test set accuracy.\n",
        "\n",
        "`data_test` generates a databunch that we can run `learn.validate()` for a **labeled** test dataset"
      ]
    },
    {
      "cell_type": "code",
      "metadata": {
        "id": "0iOU5KFK04vu",
        "colab_type": "code",
        "colab": {}
      },
      "source": [
        "val_pct = []\n",
        "test_pct = []\n",
        "\n",
        "for train_index, val_index in skf.split(train_df.index, train_df[dep_var]):\n",
        "  data_fold = (TabularList.from_df(train_df, path=path, cat_names=cat_names.copy(),\n",
        "                                  cont_names=cont_names.copy(), procs=procs,\n",
        "                                  processor=data_init.processor) # Very important\n",
        "              .split_by_idxs(train_index, val_index)\n",
        "              .label_from_df(cols=dep_var)\n",
        "              .databunch())\n",
        "  \n",
        "  data_test = (TabularList.from_df(test_df, path=path, cat_names=cat_names.copy(),\n",
        "                                  cont_names=cont_names.copy(), procs=procs,\n",
        "                                  processor=data_init.processor) # Very important\n",
        "              .split_none()\n",
        "              .label_from_df(cols=dep_var))\n",
        "  data_test.valid = data_test.train\n",
        "  data_test = data_test.databunch()\n",
        "  \n",
        "  learn = tabular_learner(data_fold, layers=[200,100], metrics=accuracy)\n",
        "  learn.fit(1)\n",
        "  \n",
        "  _, val = learn.validate()\n",
        "  \n",
        "  learn.data.valid_dl = data_test.valid_dl\n",
        "  \n",
        "  _, test = learn.validate()\n",
        "  \n",
        "  val_pct.append(val.numpy())\n",
        "  test_pct.append(test.numpy())"
      ],
      "execution_count": 0,
      "outputs": []
    },
    {
      "cell_type": "markdown",
      "metadata": {
        "id": "lRUFhqqe3Ro1",
        "colab_type": "text"
      },
      "source": [
        "Now we just take the statistics of our results and we're done!"
      ]
    },
    {
      "cell_type": "code",
      "metadata": {
        "id": "HvDdpjeM2uC4",
        "colab_type": "code",
        "colab": {
          "base_uri": "https://localhost:8080/",
          "height": 68
        },
        "outputId": "bbba8521-b896-488f-e07a-07d7c0434f4f"
      },
      "source": [
        "print(f'Validation\\nmean: {np.mean(val_pct)}\\nstd: {np.std(val_pct)}')"
      ],
      "execution_count": 20,
      "outputs": [
        {
          "output_type": "stream",
          "text": [
            "Validation\n",
            "mean: 0.8330944180488586\n",
            "std: 0.006616224069148302\n"
          ],
          "name": "stdout"
        }
      ]
    },
    {
      "cell_type": "code",
      "metadata": {
        "id": "e34meUoT3ftW",
        "colab_type": "code",
        "colab": {
          "base_uri": "https://localhost:8080/",
          "height": 68
        },
        "outputId": "5eefe439-f1d3-45d9-cf9d-541c46276b17"
      },
      "source": [
        "print(f'Test\\nmean: {np.mean(test_pct)}\\nstd: {np.std(test_pct)}')"
      ],
      "execution_count": 22,
      "outputs": [
        {
          "output_type": "stream",
          "text": [
            "Test\n",
            "mean: 0.8332821726799011\n",
            "std: 0.0022934952285140753\n"
          ],
          "name": "stdout"
        }
      ]
    }
  ]
}