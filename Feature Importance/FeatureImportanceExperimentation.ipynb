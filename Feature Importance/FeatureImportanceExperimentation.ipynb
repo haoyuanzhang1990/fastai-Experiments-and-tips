{
  "nbformat": 4,
  "nbformat_minor": 0,
  "metadata": {
    "colab": {
      "name": "FeatureImportanceExperimentation.ipynb",
      "version": "0.3.2",
      "provenance": [],
      "collapsed_sections": [],
      "include_colab_link": true
    },
    "kernelspec": {
      "name": "python3",
      "display_name": "Python 3"
    },
    "accelerator": "GPU"
  },
  "cells": [
    {
      "cell_type": "markdown",
      "metadata": {
        "id": "view-in-github",
        "colab_type": "text"
      },
      "source": [
        "<a href=\"https://colab.research.google.com/github/muellerzr/FastAI-Experiments/blob/master/FeatureImportanceExperimentation.ipynb\" target=\"_parent\"><img src=\"https://colab.research.google.com/assets/colab-badge.svg\" alt=\"Open In Colab\"/></a>"
      ]
    },
    {
      "cell_type": "markdown",
      "metadata": {
        "id": "SdID7ka519ce",
        "colab_type": "text"
      },
      "source": [
        "# Feature Importance Verification\n",
        "\n",
        "In this notebook, I will be running a comparitive analysis to try to disprove the following hypothesis:\n",
        "\n",
        "If the current implementation of permutation selection for deep learning is correct, training a model without the same features should result in the loss being what was found in the original table.\n",
        "\n",
        "I will be using the ADULTs dataset first, as it is simpler to set up and grade, and then Rossman.\n",
        "\n",
        "The data will be split into 70% train, 20% validation, and 10% test randomly from `train_test_split` in the sklearn library.\n",
        "\n",
        "Each test will be done with five epochs."
      ]
    },
    {
      "cell_type": "markdown",
      "metadata": {
        "id": "4t9ddJc43CDo",
        "colab_type": "text"
      },
      "source": [
        "## Libraries"
      ]
    },
    {
      "cell_type": "code",
      "metadata": {
        "id": "Xz1tvarC1359",
        "colab_type": "code",
        "colab": {}
      },
      "source": [
        "from fastai import *\n",
        "from fastai.tabular import *\n",
        "from sklearn.model_selection import train_test_split"
      ],
      "execution_count": 0,
      "outputs": []
    },
    {
      "cell_type": "markdown",
      "metadata": {
        "id": "mt08R5ud3Dkd",
        "colab_type": "text"
      },
      "source": [
        "## Data"
      ]
    },
    {
      "cell_type": "code",
      "metadata": {
        "id": "b60jGNmB3Bhx",
        "colab_type": "code",
        "colab": {}
      },
      "source": [
        "path = untar_data(URLs.ADULT_SAMPLE)\n",
        "df = pd.read_csv(path/'adult.csv')"
      ],
      "execution_count": 0,
      "outputs": []
    },
    {
      "cell_type": "code",
      "metadata": {
        "id": "hz37NZ_pmOQq",
        "colab_type": "code",
        "colab": {}
      },
      "source": [
        "random_seed(5)"
      ],
      "execution_count": 0,
      "outputs": []
    },
    {
      "cell_type": "code",
      "metadata": {
        "id": "jfx6zvIz3Htu",
        "colab_type": "code",
        "colab": {
          "base_uri": "https://localhost:8080/",
          "height": 34
        },
        "outputId": "a7694b2f-1111-4ecb-b2ab-eeed7eb0f001"
      },
      "source": [
        "train, test = train_test_split(df, test_size = 0.1)\n",
        "len(train), len(test)"
      ],
      "execution_count": 8,
      "outputs": [
        {
          "output_type": "execute_result",
          "data": {
            "text/plain": [
              "(29304, 3257)"
            ]
          },
          "metadata": {
            "tags": []
          },
          "execution_count": 8
        }
      ]
    },
    {
      "cell_type": "code",
      "metadata": {
        "id": "LcEd6gz43WO0",
        "colab_type": "code",
        "colab": {}
      },
      "source": [
        "dep_var = 'salary'\n",
        "cats = ['workclass', 'education', 'marital-status', 'occupation', 'relationship', 'race']\n",
        "conts = ['age', 'fnlwgt', 'education-num']\n",
        "procs = [FillMissing, Categorify, Normalize]"
      ],
      "execution_count": 0,
      "outputs": []
    },
    {
      "cell_type": "code",
      "metadata": {
        "id": "uXTDvTaK3b3t",
        "colab_type": "code",
        "colab": {}
      },
      "source": [
        "data = (TabularList.from_df(train, path=path, cat_names=cats, cont_names=conts, \n",
        "                            procs=procs)\n",
        "                           .split_by_rand_pct(0.2)\n",
        "                           .label_from_df(cols=dep_var)\n",
        "                           .databunch())\n",
        "data_test = (TabularList.from_df(test, path=path, cat_names=cats, cont_names=conts, \n",
        "                            procs=procs, processor=data.processor)\n",
        "                           .split_none()\n",
        "                           .label_from_df(cols=dep_var)\n",
        "                           .databunch())"
      ],
      "execution_count": 0,
      "outputs": []
    },
    {
      "cell_type": "markdown",
      "metadata": {
        "id": "CKC3zIko3rQ1",
        "colab_type": "text"
      },
      "source": [
        "## Baseline"
      ]
    },
    {
      "cell_type": "code",
      "metadata": {
        "id": "wGutqI0oBi_J",
        "colab_type": "code",
        "colab": {}
      },
      "source": [
        "learn.data.valid_dl = data.valid_dl"
      ],
      "execution_count": 0,
      "outputs": []
    },
    {
      "cell_type": "code",
      "metadata": {
        "id": "XfxSuc963p7y",
        "colab_type": "code",
        "colab": {}
      },
      "source": [
        "learn = tabular_learner(data, layers=[200,100], metrics=accuracy)"
      ],
      "execution_count": 0,
      "outputs": []
    },
    {
      "cell_type": "code",
      "metadata": {
        "id": "51p_PWPb3xuh",
        "colab_type": "code",
        "colab": {
          "base_uri": "https://localhost:8080/",
          "height": 204
        },
        "outputId": "d40c110b-922f-42dd-f816-8d9fa7290c7c"
      },
      "source": [
        "learn.fit_one_cycle(5, 1e-2)"
      ],
      "execution_count": 12,
      "outputs": [
        {
          "output_type": "display_data",
          "data": {
            "text/html": [
              "<table border=\"1\" class=\"dataframe\">\n",
              "  <thead>\n",
              "    <tr style=\"text-align: left;\">\n",
              "      <th>epoch</th>\n",
              "      <th>train_loss</th>\n",
              "      <th>valid_loss</th>\n",
              "      <th>accuracy</th>\n",
              "      <th>time</th>\n",
              "    </tr>\n",
              "  </thead>\n",
              "  <tbody>\n",
              "    <tr>\n",
              "      <td>0</td>\n",
              "      <td>0.358187</td>\n",
              "      <td>0.377014</td>\n",
              "      <td>0.825256</td>\n",
              "      <td>00:05</td>\n",
              "    </tr>\n",
              "    <tr>\n",
              "      <td>1</td>\n",
              "      <td>0.366855</td>\n",
              "      <td>0.362309</td>\n",
              "      <td>0.829863</td>\n",
              "      <td>00:05</td>\n",
              "    </tr>\n",
              "    <tr>\n",
              "      <td>2</td>\n",
              "      <td>0.357001</td>\n",
              "      <td>0.361940</td>\n",
              "      <td>0.830375</td>\n",
              "      <td>00:05</td>\n",
              "    </tr>\n",
              "    <tr>\n",
              "      <td>3</td>\n",
              "      <td>0.343896</td>\n",
              "      <td>0.355529</td>\n",
              "      <td>0.837713</td>\n",
              "      <td>00:05</td>\n",
              "    </tr>\n",
              "    <tr>\n",
              "      <td>4</td>\n",
              "      <td>0.342867</td>\n",
              "      <td>0.354512</td>\n",
              "      <td>0.838396</td>\n",
              "      <td>00:05</td>\n",
              "    </tr>\n",
              "  </tbody>\n",
              "</table>"
            ],
            "text/plain": [
              "<IPython.core.display.HTML object>"
            ]
          },
          "metadata": {
            "tags": []
          }
        }
      ]
    },
    {
      "cell_type": "markdown",
      "metadata": {
        "id": "fK2uheHM3_KZ",
        "colab_type": "text"
      },
      "source": [
        "## Feature Importance\n",
        "\n",
        "Here I will be using the permutation-based feature importance algorithm on the test set to derive the hypothetical overall importance"
      ]
    },
    {
      "cell_type": "code",
      "metadata": {
        "id": "Qg147FRb_i6a",
        "colab_type": "code",
        "colab": {
          "base_uri": "https://localhost:8080/",
          "height": 153
        },
        "outputId": "458b72cd-3c0b-4fa1-adda-5d628e15e600"
      },
      "source": [
        "cats, conts"
      ],
      "execution_count": 14,
      "outputs": [
        {
          "output_type": "execute_result",
          "data": {
            "text/plain": [
              "(['workclass',\n",
              "  'education',\n",
              "  'marital-status',\n",
              "  'occupation',\n",
              "  'relationship',\n",
              "  'race',\n",
              "  'education-num_na'],\n",
              " ['age', 'fnlwgt', 'education-num'])"
            ]
          },
          "metadata": {
            "tags": []
          },
          "execution_count": 14
        }
      ]
    },
    {
      "cell_type": "code",
      "metadata": {
        "id": "uWCnuqZ8ADmG",
        "colab_type": "code",
        "colab": {}
      },
      "source": [
        "  cats = ['workclass', 'education', 'marital-status', 'occupation', 'relationship', 'race']\n",
        "  conts = ['age', 'fnlwgt', 'education-num']"
      ],
      "execution_count": 0,
      "outputs": []
    },
    {
      "cell_type": "code",
      "metadata": {
        "id": "rJPFVHe10eGK",
        "colab_type": "code",
        "colab": {}
      },
      "source": [
        "def tfeature_importance(learn:Learner, cats:list, conts:list, dep_var:str, test:DataFrame):\n",
        "  data = learn.data.train_ds.x\n",
        "  procs = data.procs\n",
        "  dt = (TabularList.from_df(test, path='', cat_names=cats, cont_names=conts, \n",
        "                            procs=procs)\n",
        "                           .split_none()\n",
        "                           .label_from_df(cols=dep_var)\n",
        "                           .databunch())\n",
        "  learn.data.valid_dl = dt.train_dl\n",
        "  loss0 = float(learn.validate()[1])\n",
        "  cats = ['workclass', 'education', 'marital-status', 'occupation', 'relationship', 'race']\n",
        "  conts = ['age', 'fnlwgt', 'education-num']\n",
        "  types = [cats, conts]\n",
        "  fi=dict()\n",
        "  for j, t in enumerate(types):\n",
        "    for i, c in enumerate(t):\n",
        "      print(c)\n",
        "      base = test.copy()\n",
        "      base[c] = base[c].sample(n=len(base), replace=True).reset_index(drop=True)\n",
        "      cats = ['workclass', 'education', 'marital-status', 'occupation', 'relationship', 'race']\n",
        "      conts = ['age', 'fnlwgt', 'education-num']\n",
        "      dt = (TabularList.from_df(base, path='', cat_names=cats, cont_names=conts, \n",
        "                            procs=procs)\n",
        "                           .split_none()\n",
        "                           .label_from_df(cols=dep_var)\n",
        "                           .databunch())\n",
        "      learn.data.valid_dl = dt.train_dl\n",
        "      fi[c] = float(learn.validate()[1]) - loss0\n",
        "      \n",
        "  d = sorted(fi.items(), key =lambda kv: kv[1], reverse=True)\n",
        "  df = pd.DataFrame({'Variable': [l for l, v in d], 'Accuracy': [v for l, v in d]})\n",
        "  df['Type'] = ''\n",
        "  for x in range(len(df)):\n",
        "    if df['Variable'].iloc[x] in cats:\n",
        "      df['Type'].iloc[x] = 'categorical'\n",
        "    if df['Variable'].iloc[x] in conts:\n",
        "      df['Type'].iloc[x] = 'continuous'\n",
        "  return df                  "
      ],
      "execution_count": 0,
      "outputs": []
    },
    {
      "cell_type": "code",
      "metadata": {
        "id": "drz61Oa-5xUu",
        "colab_type": "code",
        "colab": {
          "base_uri": "https://localhost:8080/",
          "height": 102
        },
        "outputId": "105b10ee-0646-49bf-ae84-7bf67f0d2a95"
      },
      "source": [
        "res = tfeature_importance(learn, cats, conts, dep_var, test)"
      ],
      "execution_count": 34,
      "outputs": [
        {
          "output_type": "stream",
          "text": [
            "/usr/local/lib/python3.6/dist-packages/pandas/core/indexing.py:190: SettingWithCopyWarning: \n",
            "A value is trying to be set on a copy of a slice from a DataFrame\n",
            "\n",
            "See the caveats in the documentation: http://pandas.pydata.org/pandas-docs/stable/indexing.html#indexing-view-versus-copy\n",
            "  self._setitem_with_indexer(indexer, value)\n"
          ],
          "name": "stderr"
        }
      ]
    },
    {
      "cell_type": "markdown",
      "metadata": {
        "id": "bXdBXLhO4-IJ",
        "colab_type": "text"
      },
      "source": [
        "So here, hypothetically what we should see is a boost in performance when we drop everything that is positive.\n",
        "\n",
        "Next I will get the actual ground truth level for the test set as well, to compare the baselines"
      ]
    },
    {
      "cell_type": "code",
      "metadata": {
        "id": "tW6z_43P49Up",
        "colab_type": "code",
        "colab": {
          "base_uri": "https://localhost:8080/",
          "height": 34
        },
        "outputId": "0b8f46bb-4f2d-4df1-ca0c-94598556cb1f"
      },
      "source": [
        "learn.data.valid_dl = data_test.train_dl\n",
        "learn.validate()"
      ],
      "execution_count": 22,
      "outputs": [
        {
          "output_type": "execute_result",
          "data": {
            "text/plain": [
              "[0.35384032, tensor(0.8422)]"
            ]
          },
          "metadata": {
            "tags": []
          },
          "execution_count": 22
        }
      ]
    },
    {
      "cell_type": "markdown",
      "metadata": {
        "id": "4OUPSqrA5QEQ",
        "colab_type": "text"
      },
      "source": [
        "**83.91%** is the baseline we will be going with"
      ]
    },
    {
      "cell_type": "markdown",
      "metadata": {
        "id": "koigZoSi5Tsw",
        "colab_type": "text"
      },
      "source": [
        "# Dropping Columns\n",
        "\n",
        "Here I make a for loop that drops a variable from the list, continues to the next and trains for 5, gets our test result, and continues on"
      ]
    },
    {
      "cell_type": "markdown",
      "metadata": {
        "id": "BQeld712Aab6",
        "colab_type": "text"
      },
      "source": [
        "## Functions"
      ]
    },
    {
      "cell_type": "code",
      "metadata": {
        "id": "EJQa0p0hmFEz",
        "colab_type": "code",
        "colab": {}
      },
      "source": [
        " def random_seed(seed_value):\n",
        "    import random \n",
        "    random.seed(seed_value) # Python\n",
        "    import numpy as np\n",
        "    np.random.seed(seed_value) # cpu vars\n",
        "    import torch\n",
        "    torch.manual_seed(seed_value) # cpu  vars\n",
        "    \n",
        "    if torch.cuda.is_available(): \n",
        "        torch.cuda.manual_seed(seed_value)\n",
        "        torch.cuda.manual_seed_all(seed_value) # gpu vars\n",
        "        torch.backends.cudnn.deterministic = True  #needed\n",
        "        torch.backends.cudnn.benchmark = False"
      ],
      "execution_count": 0,
      "outputs": []
    },
    {
      "cell_type": "code",
      "metadata": {
        "id": "-ADxk-dhLmR4",
        "colab_type": "code",
        "colab": {}
      },
      "source": [
        "class DropTest:\n",
        "  def __init__(self, cat_vars:list, cont_vars:list, dep_var:str, df:DataFrame):\n",
        "    self.cats = cat_vars\n",
        "    self.conts = cont_vars\n",
        "    self.dep = dep_var\n",
        "    self.df = df\n",
        "    self.procs = [FillMissing, Categorify, Normalize]\n",
        "    self.res = pd.DataFrame(columns=['Variable', 'Accuracy'])\n",
        "    self.types = [self.cats, self.conts]\n",
        "    \n",
        "  def calc_drop(self):\n",
        "    train, test = train_test_split(self.df, test_size=0.1)\n",
        "    k = 0\n",
        "    for j, t in enumerate(self.types):\n",
        "      for i, c in enumerate(t):\n",
        "        random_seed(5)\n",
        "        cat_copy = self.cats.copy()\n",
        "        cont_copy = self.conts.copy()\n",
        "        if c in cat_copy:\n",
        "          cat_copy.remove(c)\n",
        "        else:\n",
        "          cont_copy.remove(c)\n",
        "        \n",
        "        df = self.df.drop(c, axis=1)\n",
        "        \n",
        "        data = (TabularList.from_df(train, path='', cat_names=cat_copy,\n",
        "                                   cont_names=cont_copy, procs=self.procs)\n",
        "               .split_by_rand_pct(0.2)\n",
        "               .label_from_df(cols=self.dep)\n",
        "               .databunch())\n",
        "        data_test = (TabularList.from_df(test, path='', cat_names=cat_copy,\n",
        "                                        cont_names=cont_copy, procs=self.procs,\n",
        "                                        processor=data.processor)\n",
        "                     .split_none()\n",
        "                     .label_from_df(cols=self.dep)\n",
        "                     .databunch())\n",
        "        learn = tabular_learner(data, layers=[200,100], metrics=accuracy)\n",
        "        learn.fit_one_cycle(5, 1e-2)\n",
        "        learn.data.valid_dl = data_test.train_dl\n",
        "        val = learn.validate()\n",
        "        val = float(val[1])\n",
        "        self.res.loc[k] = [str(c), val]\n",
        "        k += 1    \n",
        "    "
      ],
      "execution_count": 0,
      "outputs": []
    },
    {
      "cell_type": "markdown",
      "metadata": {
        "id": "ukj514UIAb0D",
        "colab_type": "text"
      },
      "source": [
        "## DropTest"
      ]
    },
    {
      "cell_type": "code",
      "metadata": {
        "id": "BWtuiPxw6ynL",
        "colab_type": "code",
        "colab": {}
      },
      "source": [
        "t = DropTest(cats, conts, 'salary', df)"
      ],
      "execution_count": 0,
      "outputs": []
    },
    {
      "cell_type": "code",
      "metadata": {
        "id": "XhwMnd8U69RC",
        "colab_type": "code",
        "colab": {}
      },
      "source": [
        "t.calc_drop()"
      ],
      "execution_count": 0,
      "outputs": []
    },
    {
      "cell_type": "code",
      "metadata": {
        "id": "P4FErB2IErG-",
        "colab_type": "code",
        "colab": {}
      },
      "source": [
        "re= t.res"
      ],
      "execution_count": 0,
      "outputs": []
    },
    {
      "cell_type": "code",
      "metadata": {
        "id": "qO6_OUm9k77c",
        "colab_type": "code",
        "colab": {
          "base_uri": "https://localhost:8080/",
          "height": 328
        },
        "outputId": "4e70eb45-4434-4912-fcc2-b731adda7cf2"
      },
      "source": [
        "re.sort_values('Accuracy',ascending=False)"
      ],
      "execution_count": 30,
      "outputs": [
        {
          "output_type": "execute_result",
          "data": {
            "text/html": [
              "<div>\n",
              "<style scoped>\n",
              "    .dataframe tbody tr th:only-of-type {\n",
              "        vertical-align: middle;\n",
              "    }\n",
              "\n",
              "    .dataframe tbody tr th {\n",
              "        vertical-align: top;\n",
              "    }\n",
              "\n",
              "    .dataframe thead th {\n",
              "        text-align: right;\n",
              "    }\n",
              "</style>\n",
              "<table border=\"1\" class=\"dataframe\">\n",
              "  <thead>\n",
              "    <tr style=\"text-align: right;\">\n",
              "      <th></th>\n",
              "      <th>Variable</th>\n",
              "      <th>Accuracy</th>\n",
              "    </tr>\n",
              "  </thead>\n",
              "  <tbody>\n",
              "    <tr>\n",
              "      <th>8</th>\n",
              "      <td>education-num</td>\n",
              "      <td>0.836875</td>\n",
              "    </tr>\n",
              "    <tr>\n",
              "      <th>5</th>\n",
              "      <td>race</td>\n",
              "      <td>0.836563</td>\n",
              "    </tr>\n",
              "    <tr>\n",
              "      <th>1</th>\n",
              "      <td>education</td>\n",
              "      <td>0.834063</td>\n",
              "    </tr>\n",
              "    <tr>\n",
              "      <th>7</th>\n",
              "      <td>fnlwgt</td>\n",
              "      <td>0.832812</td>\n",
              "    </tr>\n",
              "    <tr>\n",
              "      <th>2</th>\n",
              "      <td>marital-status</td>\n",
              "      <td>0.831563</td>\n",
              "    </tr>\n",
              "    <tr>\n",
              "      <th>4</th>\n",
              "      <td>relationship</td>\n",
              "      <td>0.830312</td>\n",
              "    </tr>\n",
              "    <tr>\n",
              "      <th>3</th>\n",
              "      <td>occupation</td>\n",
              "      <td>0.827187</td>\n",
              "    </tr>\n",
              "    <tr>\n",
              "      <th>6</th>\n",
              "      <td>age</td>\n",
              "      <td>0.825625</td>\n",
              "    </tr>\n",
              "    <tr>\n",
              "      <th>0</th>\n",
              "      <td>workclass</td>\n",
              "      <td>0.825312</td>\n",
              "    </tr>\n",
              "  </tbody>\n",
              "</table>\n",
              "</div>"
            ],
            "text/plain": [
              "         Variable  Accuracy\n",
              "8   education-num  0.836875\n",
              "5            race  0.836563\n",
              "1       education  0.834063\n",
              "7          fnlwgt  0.832812\n",
              "2  marital-status  0.831563\n",
              "4    relationship  0.830312\n",
              "3      occupation  0.827187\n",
              "6             age  0.825625\n",
              "0       workclass  0.825312"
            ]
          },
          "metadata": {
            "tags": []
          },
          "execution_count": 30
        }
      ]
    },
    {
      "cell_type": "code",
      "metadata": {
        "id": "zto-DDurMu__",
        "colab_type": "code",
        "colab": {
          "base_uri": "https://localhost:8080/",
          "height": 328
        },
        "outputId": "31c493ab-4fd3-4ef4-955a-5f25e31d94c4"
      },
      "source": [
        "res.sort_values('Accuracy', ascending=True)"
      ],
      "execution_count": 36,
      "outputs": [
        {
          "output_type": "execute_result",
          "data": {
            "text/html": [
              "<div>\n",
              "<style scoped>\n",
              "    .dataframe tbody tr th:only-of-type {\n",
              "        vertical-align: middle;\n",
              "    }\n",
              "\n",
              "    .dataframe tbody tr th {\n",
              "        vertical-align: top;\n",
              "    }\n",
              "\n",
              "    .dataframe thead th {\n",
              "        text-align: right;\n",
              "    }\n",
              "</style>\n",
              "<table border=\"1\" class=\"dataframe\">\n",
              "  <thead>\n",
              "    <tr style=\"text-align: right;\">\n",
              "      <th></th>\n",
              "      <th>Variable</th>\n",
              "      <th>Accuracy</th>\n",
              "      <th>Type</th>\n",
              "    </tr>\n",
              "  </thead>\n",
              "  <tbody>\n",
              "    <tr>\n",
              "      <th>8</th>\n",
              "      <td>marital-status</td>\n",
              "      <td>-0.038125</td>\n",
              "      <td>categorical</td>\n",
              "    </tr>\n",
              "    <tr>\n",
              "      <th>7</th>\n",
              "      <td>age</td>\n",
              "      <td>-0.019375</td>\n",
              "      <td>continuous</td>\n",
              "    </tr>\n",
              "    <tr>\n",
              "      <th>6</th>\n",
              "      <td>education-num</td>\n",
              "      <td>-0.014375</td>\n",
              "      <td>continuous</td>\n",
              "    </tr>\n",
              "    <tr>\n",
              "      <th>5</th>\n",
              "      <td>occupation</td>\n",
              "      <td>-0.012500</td>\n",
              "      <td>categorical</td>\n",
              "    </tr>\n",
              "    <tr>\n",
              "      <th>4</th>\n",
              "      <td>relationship</td>\n",
              "      <td>-0.001250</td>\n",
              "      <td>categorical</td>\n",
              "    </tr>\n",
              "    <tr>\n",
              "      <th>3</th>\n",
              "      <td>workclass</td>\n",
              "      <td>-0.000938</td>\n",
              "      <td>categorical</td>\n",
              "    </tr>\n",
              "    <tr>\n",
              "      <th>2</th>\n",
              "      <td>education</td>\n",
              "      <td>-0.000625</td>\n",
              "      <td>categorical</td>\n",
              "    </tr>\n",
              "    <tr>\n",
              "      <th>1</th>\n",
              "      <td>fnlwgt</td>\n",
              "      <td>-0.000313</td>\n",
              "      <td>continuous</td>\n",
              "    </tr>\n",
              "    <tr>\n",
              "      <th>0</th>\n",
              "      <td>race</td>\n",
              "      <td>0.000625</td>\n",
              "      <td>categorical</td>\n",
              "    </tr>\n",
              "  </tbody>\n",
              "</table>\n",
              "</div>"
            ],
            "text/plain": [
              "         Variable  Accuracy         Type\n",
              "8  marital-status -0.038125  categorical\n",
              "7             age -0.019375   continuous\n",
              "6   education-num -0.014375   continuous\n",
              "5      occupation -0.012500  categorical\n",
              "4    relationship -0.001250  categorical\n",
              "3       workclass -0.000938  categorical\n",
              "2       education -0.000625  categorical\n",
              "1          fnlwgt -0.000313   continuous\n",
              "0            race  0.000625  categorical"
            ]
          },
          "metadata": {
            "tags": []
          },
          "execution_count": 36
        }
      ]
    },
    {
      "cell_type": "code",
      "metadata": {
        "id": "MdpPKwuNoxl_",
        "colab_type": "code",
        "colab": {}
      },
      "source": [
        ""
      ],
      "execution_count": 0,
      "outputs": []
    }
  ]
}